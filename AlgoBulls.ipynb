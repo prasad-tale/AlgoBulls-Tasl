{
 "cells": [
  {
   "cell_type": "code",
   "execution_count": null,
   "id": "ae3ab834",
   "metadata": {},
   "outputs": [],
   "source": []
  },
  {
   "cell_type": "code",
   "execution_count": 282,
   "id": "ac14cced",
   "metadata": {},
   "outputs": [],
   "source": [
    "##importing the required librarires\n",
    "\n",
    "import pandas as pd\n",
    "import numpy as np\n",
    "import datetime as dt\n",
    "import time\n",
    "from alpha_vantage.timeseries import TimeSeries\n"
   ]
  },
  {
   "cell_type": "code",
   "execution_count": 283,
   "id": "096be346",
   "metadata": {},
   "outputs": [],
   "source": [
    "class ScriptData(object):\n",
    "    \n",
    "    #initializing constructor \n",
    "    def __init__(self):\n",
    "        self.main_var = pd.DataFrame()\n",
    "        self.data = {}\n",
    "    ## get method for cllecting json data \n",
    "    def __getJson__(self):\n",
    "        return self.data\n",
    "    ## set method for setting json data \n",
    "    def __setJson__(self,newkey):\n",
    "            self.data =newkey\n",
    "    ## set method for overloading dataframes for diffrent scripts\n",
    "    def __setDataFrame__(self,newkey):\n",
    "        self.main_var = newkey\n",
    "    \n",
    "    ## get method for getting dataframes for diffrent scripts\n",
    "    def __getDataFrame__(self):\n",
    "        return self.main_var\n",
    "        \n",
    "    ##this function will fetch data in json format\n",
    "    def fetch_intraday_data(self,script):\n",
    "        ts = TimeSeries(key='PBUU95WNPEBUZYZI')\n",
    "# Get json object with the intraday data and another with  the call's metadata\n",
    "        data,meta = ts.get_intraday(script,\"60min\")\n",
    "        self.__setJson__(data)\n",
    "        #print(type(self.__getJson__()))\n",
    "    \n",
    "    ##this function will convert json data into pandas data frame\n",
    "    def convert_intraday_data(self,script):\n",
    "        df = pd.DataFrame.from_dict(self.data)\n",
    "    \n",
    "        df= df.transpose()\n",
    "        df.reset_index(level = 0, inplace=True)\n",
    "        df.columns = [\"timestamp\",\"open\",\"high\",\"low\",\"close\",\"volume\"]\n",
    "        df.sort_values(by='timestamp', inplace= True)\n",
    "        df= df.reset_index()\n",
    "\n",
    "        self.__setDataFrame__(df)## we are setting dataframeto main_varvariableofthe class which willconsist of the main data frame"
   ]
  },
  {
   "cell_type": "code",
   "execution_count": 284,
   "id": "bea60fc8",
   "metadata": {},
   "outputs": [
    {
     "data": {
      "text/html": [
       "<div>\n",
       "<style scoped>\n",
       "    .dataframe tbody tr th:only-of-type {\n",
       "        vertical-align: middle;\n",
       "    }\n",
       "\n",
       "    .dataframe tbody tr th {\n",
       "        vertical-align: top;\n",
       "    }\n",
       "\n",
       "    .dataframe thead th {\n",
       "        text-align: right;\n",
       "    }\n",
       "</style>\n",
       "<table border=\"1\" class=\"dataframe\">\n",
       "  <thead>\n",
       "    <tr style=\"text-align: right;\">\n",
       "      <th></th>\n",
       "      <th>index</th>\n",
       "      <th>timestamp</th>\n",
       "      <th>open</th>\n",
       "      <th>high</th>\n",
       "      <th>low</th>\n",
       "      <th>close</th>\n",
       "      <th>volume</th>\n",
       "    </tr>\n",
       "  </thead>\n",
       "  <tbody>\n",
       "    <tr>\n",
       "      <th>0</th>\n",
       "      <td>99</td>\n",
       "      <td>2022-12-21 17:00:00</td>\n",
       "      <td>165.0100</td>\n",
       "      <td>165.4300</td>\n",
       "      <td>164.5000</td>\n",
       "      <td>164.9300</td>\n",
       "      <td>440864</td>\n",
       "    </tr>\n",
       "    <tr>\n",
       "      <th>1</th>\n",
       "      <td>98</td>\n",
       "      <td>2022-12-21 18:00:00</td>\n",
       "      <td>164.9300</td>\n",
       "      <td>165.0000</td>\n",
       "      <td>164.9300</td>\n",
       "      <td>165.0000</td>\n",
       "      <td>5836</td>\n",
       "    </tr>\n",
       "    <tr>\n",
       "      <th>2</th>\n",
       "      <td>97</td>\n",
       "      <td>2022-12-21 19:00:00</td>\n",
       "      <td>164.9700</td>\n",
       "      <td>165.0900</td>\n",
       "      <td>164.9300</td>\n",
       "      <td>165.0900</td>\n",
       "      <td>8974</td>\n",
       "    </tr>\n",
       "    <tr>\n",
       "      <th>3</th>\n",
       "      <td>96</td>\n",
       "      <td>2022-12-21 20:00:00</td>\n",
       "      <td>165.0000</td>\n",
       "      <td>165.0000</td>\n",
       "      <td>164.4301</td>\n",
       "      <td>164.5600</td>\n",
       "      <td>21354</td>\n",
       "    </tr>\n",
       "    <tr>\n",
       "      <th>4</th>\n",
       "      <td>95</td>\n",
       "      <td>2022-12-22 05:00:00</td>\n",
       "      <td>165.2400</td>\n",
       "      <td>165.2400</td>\n",
       "      <td>164.4000</td>\n",
       "      <td>164.4000</td>\n",
       "      <td>3145</td>\n",
       "    </tr>\n",
       "    <tr>\n",
       "      <th>...</th>\n",
       "      <td>...</td>\n",
       "      <td>...</td>\n",
       "      <td>...</td>\n",
       "      <td>...</td>\n",
       "      <td>...</td>\n",
       "      <td>...</td>\n",
       "      <td>...</td>\n",
       "    </tr>\n",
       "    <tr>\n",
       "      <th>95</th>\n",
       "      <td>4</td>\n",
       "      <td>2022-12-30 16:00:00</td>\n",
       "      <td>144.0700</td>\n",
       "      <td>146.2899</td>\n",
       "      <td>144.0334</td>\n",
       "      <td>146.1450</td>\n",
       "      <td>5666399</td>\n",
       "    </tr>\n",
       "    <tr>\n",
       "      <th>96</th>\n",
       "      <td>3</td>\n",
       "      <td>2022-12-30 17:00:00</td>\n",
       "      <td>146.1400</td>\n",
       "      <td>146.7500</td>\n",
       "      <td>145.9000</td>\n",
       "      <td>146.2375</td>\n",
       "      <td>596618</td>\n",
       "    </tr>\n",
       "    <tr>\n",
       "      <th>97</th>\n",
       "      <td>2</td>\n",
       "      <td>2022-12-30 18:00:00</td>\n",
       "      <td>146.3000</td>\n",
       "      <td>146.4199</td>\n",
       "      <td>146.2300</td>\n",
       "      <td>146.3300</td>\n",
       "      <td>11863</td>\n",
       "    </tr>\n",
       "    <tr>\n",
       "      <th>98</th>\n",
       "      <td>1</td>\n",
       "      <td>2022-12-30 19:00:00</td>\n",
       "      <td>146.3900</td>\n",
       "      <td>146.4000</td>\n",
       "      <td>146.3200</td>\n",
       "      <td>146.3600</td>\n",
       "      <td>9736</td>\n",
       "    </tr>\n",
       "    <tr>\n",
       "      <th>99</th>\n",
       "      <td>0</td>\n",
       "      <td>2022-12-30 20:00:00</td>\n",
       "      <td>146.3600</td>\n",
       "      <td>146.4800</td>\n",
       "      <td>146.3600</td>\n",
       "      <td>146.4000</td>\n",
       "      <td>11149</td>\n",
       "    </tr>\n",
       "  </tbody>\n",
       "</table>\n",
       "<p>100 rows × 7 columns</p>\n",
       "</div>"
      ],
      "text/plain": [
       "    index            timestamp      open      high       low     close  \\\n",
       "0      99  2022-12-21 17:00:00  165.0100  165.4300  164.5000  164.9300   \n",
       "1      98  2022-12-21 18:00:00  164.9300  165.0000  164.9300  165.0000   \n",
       "2      97  2022-12-21 19:00:00  164.9700  165.0900  164.9300  165.0900   \n",
       "3      96  2022-12-21 20:00:00  165.0000  165.0000  164.4301  164.5600   \n",
       "4      95  2022-12-22 05:00:00  165.2400  165.2400  164.4000  164.4000   \n",
       "..    ...                  ...       ...       ...       ...       ...   \n",
       "95      4  2022-12-30 16:00:00  144.0700  146.2899  144.0334  146.1450   \n",
       "96      3  2022-12-30 17:00:00  146.1400  146.7500  145.9000  146.2375   \n",
       "97      2  2022-12-30 18:00:00  146.3000  146.4199  146.2300  146.3300   \n",
       "98      1  2022-12-30 19:00:00  146.3900  146.4000  146.3200  146.3600   \n",
       "99      0  2022-12-30 20:00:00  146.3600  146.4800  146.3600  146.4000   \n",
       "\n",
       "     volume  \n",
       "0    440864  \n",
       "1      5836  \n",
       "2      8974  \n",
       "3     21354  \n",
       "4      3145  \n",
       "..      ...  \n",
       "95  5666399  \n",
       "96   596618  \n",
       "97    11863  \n",
       "98     9736  \n",
       "99    11149  \n",
       "\n",
       "[100 rows x 7 columns]"
      ]
     },
     "execution_count": 284,
     "metadata": {},
     "output_type": "execute_result"
    }
   ],
   "source": [
    "script_data= ScriptData()## object of class ScriptData\n",
    "script_data.fetch_intraday_data(\"NVDA\")\n",
    "script_data.convert_intraday_data(\"NVDA\")\n",
    "script_data.main_var\n",
    "#script_data.plot(script_data.main_var)"
   ]
  },
  {
   "cell_type": "code",
   "execution_count": 285,
   "id": "70066942",
   "metadata": {},
   "outputs": [
    {
     "data": {
      "text/html": [
       "<div>\n",
       "<style scoped>\n",
       "    .dataframe tbody tr th:only-of-type {\n",
       "        vertical-align: middle;\n",
       "    }\n",
       "\n",
       "    .dataframe tbody tr th {\n",
       "        vertical-align: top;\n",
       "    }\n",
       "\n",
       "    .dataframe thead th {\n",
       "        text-align: right;\n",
       "    }\n",
       "</style>\n",
       "<table border=\"1\" class=\"dataframe\">\n",
       "  <thead>\n",
       "    <tr style=\"text-align: right;\">\n",
       "      <th></th>\n",
       "      <th>timestamp</th>\n",
       "      <th>indicator</th>\n",
       "    </tr>\n",
       "  </thead>\n",
       "  <tbody>\n",
       "    <tr>\n",
       "      <th>0</th>\n",
       "      <td>2022-12-21 17:00:00</td>\n",
       "      <td>NaN</td>\n",
       "    </tr>\n",
       "    <tr>\n",
       "      <th>1</th>\n",
       "      <td>2022-12-21 18:00:00</td>\n",
       "      <td>NaN</td>\n",
       "    </tr>\n",
       "    <tr>\n",
       "      <th>2</th>\n",
       "      <td>2022-12-21 19:00:00</td>\n",
       "      <td>NaN</td>\n",
       "    </tr>\n",
       "    <tr>\n",
       "      <th>3</th>\n",
       "      <td>2022-12-21 20:00:00</td>\n",
       "      <td>NaN</td>\n",
       "    </tr>\n",
       "    <tr>\n",
       "      <th>4</th>\n",
       "      <td>2022-12-22 05:00:00</td>\n",
       "      <td>164.7960</td>\n",
       "    </tr>\n",
       "    <tr>\n",
       "      <th>...</th>\n",
       "      <td>...</td>\n",
       "      <td>...</td>\n",
       "    </tr>\n",
       "    <tr>\n",
       "      <th>95</th>\n",
       "      <td>2022-12-30 16:00:00</td>\n",
       "      <td>144.7953</td>\n",
       "    </tr>\n",
       "    <tr>\n",
       "      <th>96</th>\n",
       "      <td>2022-12-30 17:00:00</td>\n",
       "      <td>145.1124</td>\n",
       "    </tr>\n",
       "    <tr>\n",
       "      <th>97</th>\n",
       "      <td>2022-12-30 18:00:00</td>\n",
       "      <td>145.3865</td>\n",
       "    </tr>\n",
       "    <tr>\n",
       "      <th>98</th>\n",
       "      <td>2022-12-30 19:00:00</td>\n",
       "      <td>145.8245</td>\n",
       "    </tr>\n",
       "    <tr>\n",
       "      <th>99</th>\n",
       "      <td>2022-12-30 20:00:00</td>\n",
       "      <td>146.2945</td>\n",
       "    </tr>\n",
       "  </tbody>\n",
       "</table>\n",
       "<p>100 rows × 2 columns</p>\n",
       "</div>"
      ],
      "text/plain": [
       "              timestamp  indicator\n",
       "0   2022-12-21 17:00:00        NaN\n",
       "1   2022-12-21 18:00:00        NaN\n",
       "2   2022-12-21 19:00:00        NaN\n",
       "3   2022-12-21 20:00:00        NaN\n",
       "4   2022-12-22 05:00:00   164.7960\n",
       "..                  ...        ...\n",
       "95  2022-12-30 16:00:00   144.7953\n",
       "96  2022-12-30 17:00:00   145.1124\n",
       "97  2022-12-30 18:00:00   145.3865\n",
       "98  2022-12-30 19:00:00   145.8245\n",
       "99  2022-12-30 20:00:00   146.2945\n",
       "\n",
       "[100 rows x 2 columns]"
      ]
     },
     "execution_count": 285,
     "metadata": {},
     "output_type": "execute_result"
    }
   ],
   "source": [
    "###calculating moving average\n",
    "### function to calculate moving average on close data point\n",
    "def indicator1(df,timeperiod):\n",
    "    temp= pd.DataFrame()\n",
    "    temp[\"close\"] = df[\"close\"]\n",
    "    temp[\"MA\"] = temp[\"close\"].rolling(timeperiod).mean()\n",
    "    indicator_df = pd.DataFrame()\n",
    "    indicator_df[\"timestamp\"] = df[\"timestamp\"]\n",
    "    indicator_df[\"indicator\"] = temp[\"MA\"]\n",
    "    return indicator_df\n",
    "\n",
    "indicator1(script_data.main_var,5)"
   ]
  },
  {
   "cell_type": "code",
   "execution_count": 286,
   "id": "44204417",
   "metadata": {
    "scrolled": true
   },
   "outputs": [],
   "source": [
    "### defining our strategy "
   ]
  },
  {
   "cell_type": "code",
   "execution_count": 287,
   "id": "59e0f38f",
   "metadata": {},
   "outputs": [
    {
     "data": {
      "text/html": [
       "<div>\n",
       "<style scoped>\n",
       "    .dataframe tbody tr th:only-of-type {\n",
       "        vertical-align: middle;\n",
       "    }\n",
       "\n",
       "    .dataframe tbody tr th {\n",
       "        vertical-align: top;\n",
       "    }\n",
       "\n",
       "    .dataframe thead th {\n",
       "        text-align: right;\n",
       "    }\n",
       "</style>\n",
       "<table border=\"1\" class=\"dataframe\">\n",
       "  <thead>\n",
       "    <tr style=\"text-align: right;\">\n",
       "      <th></th>\n",
       "      <th>timestamp</th>\n",
       "      <th>signal</th>\n",
       "    </tr>\n",
       "  </thead>\n",
       "  <tbody>\n",
       "    <tr>\n",
       "      <th>14</th>\n",
       "      <td>2022-12-22 15:00:00</td>\n",
       "      <td>SELL</td>\n",
       "    </tr>\n",
       "    <tr>\n",
       "      <th>19</th>\n",
       "      <td>2022-12-22 20:00:00</td>\n",
       "      <td>BUY</td>\n",
       "    </tr>\n",
       "    <tr>\n",
       "      <th>21</th>\n",
       "      <td>2022-12-23 06:00:00</td>\n",
       "      <td>SELL</td>\n",
       "    </tr>\n",
       "    <tr>\n",
       "      <th>24</th>\n",
       "      <td>2022-12-23 09:00:00</td>\n",
       "      <td>BUY</td>\n",
       "    </tr>\n",
       "    <tr>\n",
       "      <th>28</th>\n",
       "      <td>2022-12-23 13:00:00</td>\n",
       "      <td>SELL</td>\n",
       "    </tr>\n",
       "    <tr>\n",
       "      <th>34</th>\n",
       "      <td>2022-12-23 19:00:00</td>\n",
       "      <td>BUY</td>\n",
       "    </tr>\n",
       "    <tr>\n",
       "      <th>36</th>\n",
       "      <td>2022-12-27 05:00:00</td>\n",
       "      <td>SELL</td>\n",
       "    </tr>\n",
       "    <tr>\n",
       "      <th>39</th>\n",
       "      <td>2022-12-27 08:00:00</td>\n",
       "      <td>BUY</td>\n",
       "    </tr>\n",
       "    <tr>\n",
       "      <th>53</th>\n",
       "      <td>2022-12-28 06:00:00</td>\n",
       "      <td>SELL</td>\n",
       "    </tr>\n",
       "    <tr>\n",
       "      <th>56</th>\n",
       "      <td>2022-12-28 09:00:00</td>\n",
       "      <td>BUY</td>\n",
       "    </tr>\n",
       "    <tr>\n",
       "      <th>57</th>\n",
       "      <td>2022-12-28 10:00:00</td>\n",
       "      <td>SELL</td>\n",
       "    </tr>\n",
       "    <tr>\n",
       "      <th>58</th>\n",
       "      <td>2022-12-28 11:00:00</td>\n",
       "      <td>BUY</td>\n",
       "    </tr>\n",
       "    <tr>\n",
       "      <th>60</th>\n",
       "      <td>2022-12-28 13:00:00</td>\n",
       "      <td>SELL</td>\n",
       "    </tr>\n",
       "    <tr>\n",
       "      <th>62</th>\n",
       "      <td>2022-12-28 15:00:00</td>\n",
       "      <td>BUY</td>\n",
       "    </tr>\n",
       "    <tr>\n",
       "      <th>66</th>\n",
       "      <td>2022-12-28 19:00:00</td>\n",
       "      <td>SELL</td>\n",
       "    </tr>\n",
       "    <tr>\n",
       "      <th>78</th>\n",
       "      <td>2022-12-29 15:00:00</td>\n",
       "      <td>BUY</td>\n",
       "    </tr>\n",
       "    <tr>\n",
       "      <th>79</th>\n",
       "      <td>2022-12-29 16:00:00</td>\n",
       "      <td>SELL</td>\n",
       "    </tr>\n",
       "    <tr>\n",
       "      <th>83</th>\n",
       "      <td>2022-12-29 20:00:00</td>\n",
       "      <td>BUY</td>\n",
       "    </tr>\n",
       "    <tr>\n",
       "      <th>91</th>\n",
       "      <td>2022-12-30 12:00:00</td>\n",
       "      <td>SELL</td>\n",
       "    </tr>\n",
       "    <tr>\n",
       "      <th>93</th>\n",
       "      <td>2022-12-30 14:00:00</td>\n",
       "      <td>BUY</td>\n",
       "    </tr>\n",
       "    <tr>\n",
       "      <th>95</th>\n",
       "      <td>2022-12-30 16:00:00</td>\n",
       "      <td>SELL</td>\n",
       "    </tr>\n",
       "  </tbody>\n",
       "</table>\n",
       "</div>"
      ],
      "text/plain": [
       "              timestamp signal\n",
       "14  2022-12-22 15:00:00   SELL\n",
       "19  2022-12-22 20:00:00    BUY\n",
       "21  2022-12-23 06:00:00   SELL\n",
       "24  2022-12-23 09:00:00    BUY\n",
       "28  2022-12-23 13:00:00   SELL\n",
       "34  2022-12-23 19:00:00    BUY\n",
       "36  2022-12-27 05:00:00   SELL\n",
       "39  2022-12-27 08:00:00    BUY\n",
       "53  2022-12-28 06:00:00   SELL\n",
       "56  2022-12-28 09:00:00    BUY\n",
       "57  2022-12-28 10:00:00   SELL\n",
       "58  2022-12-28 11:00:00    BUY\n",
       "60  2022-12-28 13:00:00   SELL\n",
       "62  2022-12-28 15:00:00    BUY\n",
       "66  2022-12-28 19:00:00   SELL\n",
       "78  2022-12-29 15:00:00    BUY\n",
       "79  2022-12-29 16:00:00   SELL\n",
       "83  2022-12-29 20:00:00    BUY\n",
       "91  2022-12-30 12:00:00   SELL\n",
       "93  2022-12-30 14:00:00    BUY\n",
       "95  2022-12-30 16:00:00   SELL"
      ]
     },
     "execution_count": 287,
     "metadata": {},
     "output_type": "execute_result"
    }
   ],
   "source": [
    "class Strategy:\n",
    "    def __init__(self,script):\n",
    "        self.script = script\n",
    "    ##fetching the required data\n",
    "    def get_script_data(self):\n",
    "        script_data.fetch_intraday_data(self.script)\n",
    "        script_data.convert_intraday_data(self.script)\n",
    "    \n",
    "    ##function to geerate signals\n",
    "    def get_signal(self):\n",
    "        signals = pd.DataFrame()\n",
    "        signals[\"timestamp\"] = script_data.main_var[\"timestamp\"]\n",
    "        signals[\"signal\"] = None\n",
    "        close_data = script_data.main_var[\"close\"]\n",
    "        indicator_data = indicator1(script_data.main_var,5)[\"indicator\"]\n",
    "        temp = pd.DataFrame()###temproray dtaframe\n",
    "        temp[\"prev_indicator\"] = indicator_data.shift(1)\n",
    "        temp[\"indicator\"] = indicator_data\n",
    "        temp[\"close\"] = close_data\n",
    "        temp = temp.astype(float)\n",
    "\n",
    "            \n",
    "        prev_indicator = indicator_data.shift(1)##prev indicator value in column\n",
    "        prev_close = temp[\"close\"].shift(1)##prev closevalue in column\n",
    "        \n",
    "        \n",
    "        \n",
    "        ##defining cut_upwards , cut_downward, \n",
    "        ## if the current indicator value is greater than close and previous indicator value is less then previous the it is a \"BULLISH\" crossover\n",
    "        ##if the current indicator value is less than close and previous indicator value is greater then previous the it is a \"BEARISH\" crossover\n",
    "\n",
    "        upward_crossing  = ((temp['indicator'] > temp['close']) & (prev_indicator < prev_close))## returns true if cndition is matced\n",
    "        downward_crossing = ((temp['indicator'] < temp['close']) & (prev_indicator > prev_close))      \n",
    "        \n",
    "\n",
    "        temp[\"upward_crossing\"] = upward_crossing\n",
    "        temp[\"downward_crossing\"]= downward_crossing\n",
    "        #print(signals) \n",
    "        ## here we are assigning BUY and sell value if the value of upward_crossing& downward_Crossing is TRUE\n",
    "        for i in range(len(temp[\"upward_crossing\"])):\n",
    "            if temp[\"upward_crossing\"][i] == True:\n",
    "                signals[\"signal\"][i] = \"BUY\"\n",
    "        for i in range(len(temp[\"downward_crossing\"])):\n",
    "            if temp[\"downward_crossing\"][i] == True:\n",
    "                signals[\"signal\"][i] = \"SELL\"\n",
    "            #if there is no buy and sell seignal we assign that column with \"NO SISGNAL\"\n",
    "            elif signals[\"signal\"][i] == None:\n",
    "                signals[\"signal\"][i] = \"NO SIGNAL\"\n",
    "                \n",
    "        signal_lst = [\"BUY\",\"SELL\"]\n",
    "        #print(temp)\n",
    "        ##returning the dataframe with only buy and sell value \n",
    "        return signals[signals.signal.isin(signal_lst)]\n",
    "        \n",
    "        \n",
    "strat = Strategy(\"NVDA\")\n",
    "strat.get_script_data()\n",
    "strat.get_signal()"
   ]
  },
  {
   "cell_type": "code",
   "execution_count": 288,
   "id": "d53638e5",
   "metadata": {},
   "outputs": [],
   "source": [
    "#!pip install pyalgotrading"
   ]
  },
  {
   "cell_type": "code",
   "execution_count": 292,
   "id": "a6e7ad01",
   "metadata": {},
   "outputs": [],
   "source": [
    "# from pyalgotrading.utils.candlesticks.heikinashi import HeikinAshi\n",
    "# df = script_data.main_var\n",
    "# df['timestamp'] = df['timestamp'].astype('datetime64[ns]')\n",
    "# df = df.astype({col: float for col in df.columns[1:]})\n",
    "\n"
   ]
  },
  {
   "cell_type": "code",
   "execution_count": null,
   "id": "320ee701",
   "metadata": {},
   "outputs": [],
   "source": [
    "HeikinAshi(df)\n"
   ]
  },
  {
   "cell_type": "code",
   "execution_count": 291,
   "id": "ba352e2f",
   "metadata": {},
   "outputs": [
    {
     "data": {
      "application/vnd.plotly.v1+json": {
       "config": {
        "plotlyServerURL": "https://plot.ly"
       },
       "data": [
        {
         "close": [
          "164.9300",
          "165.0000",
          "165.0900",
          "164.5600",
          "164.4000",
          "164.1800",
          "163.8800",
          "162.7000",
          "161.3500",
          "157.2000",
          "153.8800",
          "150.8300",
          "150.6300",
          "149.9731",
          "151.4500",
          "153.4000",
          "153.0400",
          "153.2500",
          "153.0000",
          "151.6600",
          "152.3000",
          "153.6300",
          "153.0100",
          "153.3000",
          "152.6300",
          "149.8700",
          "150.7250",
          "151.5200",
          "151.6350",
          "151.0445",
          "151.5600",
          "152.0900",
          "152.0200",
          "151.9886",
          "151.8300",
          "151.8400",
          "153.6000",
          "153.6100",
          "153.0100",
          "151.3000",
          "150.8500",
          "145.7300",
          "145.8569",
          "144.1722",
          "143.2700",
          "142.5850",
          "141.4100",
          "141.1900",
          "140.2999",
          "140.3500",
          "140.2700",
          "139.9900",
          "139.0000",
          "141.0000",
          "141.0200",
          "141.2500",
          "140.1600",
          "140.9460",
          "139.4508",
          "140.0700",
          "141.5400",
          "141.3299",
          "140.4300",
          "140.3600",
          "140.3600",
          "140.2700",
          "140.4700",
          "140.5500",
          "142.0400",
          "142.0600",
          "142.0200",
          "142.0000",
          "144.2400",
          "144.6450",
          "145.4000",
          "146.3500",
          "146.4300",
          "145.8250",
          "145.2300",
          "146.0300",
          "146.1100",
          "146.1000",
          "146.0500",
          "145.9500",
          "145.0000",
          "145.6000",
          "145.0000",
          "143.8000",
          "143.5100",
          "144.3200",
          "143.9652",
          "144.6520",
          "144.9595",
          "144.1700",
          "144.0500",
          "146.1450",
          "146.2375",
          "146.3300",
          "146.3600",
          "146.4000"
         ],
         "high": [
          "165.4300",
          "165.0000",
          "165.0900",
          "165.0000",
          "165.2400",
          "164.4600",
          "164.2900",
          "164.2000",
          "166.0000",
          "161.4100",
          "157.3100",
          "154.1800",
          "151.3200",
          "150.6300",
          "151.5496",
          "154.3499",
          "153.6600",
          "153.3900",
          "153.3500",
          "153.0500",
          "152.8900",
          "153.7200",
          "153.9900",
          "153.7400",
          "154.4500",
          "152.9200",
          "153.3900",
          "152.1500",
          "152.3900",
          "151.9700",
          "151.6699",
          "152.2000",
          "152.5100",
          "152.1900",
          "151.9500",
          "151.8500",
          "154.0000",
          "154.1000",
          "153.8900",
          "153.1700",
          "154.2800",
          "151.1600",
          "148.1300",
          "146.0000",
          "144.9700",
          "144.0000",
          "142.8400",
          "142.0600",
          "141.3000",
          "141.2100",
          "140.4800",
          "140.4000",
          "141.2100",
          "141.2100",
          "141.3800",
          "141.4000",
          "141.4299",
          "142.6200",
          "142.1200",
          "140.6099",
          "141.6700",
          "141.8300",
          "141.5900",
          "140.7300",
          "140.5800",
          "140.4500",
          "140.4900",
          "140.5800",
          "142.0400",
          "142.1200",
          "142.3000",
          "142.0200",
          "144.9500",
          "145.3100",
          "145.4900",
          "146.7996",
          "146.5800",
          "146.4500",
          "146.0900",
          "146.8300",
          "146.2999",
          "146.1100",
          "146.1200",
          "146.0500",
          "145.5100",
          "145.6000",
          "145.2000",
          "144.9000",
          "144.9900",
          "144.5700",
          "144.8000",
          "144.7550",
          "145.1700",
          "144.9900",
          "144.2800",
          "146.2899",
          "146.7500",
          "146.4199",
          "146.4000",
          "146.4800"
         ],
         "low": [
          "164.5000",
          "164.9300",
          "164.9300",
          "164.4301",
          "164.4000",
          "163.9500",
          "163.8200",
          "162.5500",
          "161.1200",
          "156.4617",
          "153.5600",
          "150.5600",
          "149.1400",
          "148.8200",
          "149.8100",
          "151.1700",
          "150.6300",
          "152.9200",
          "152.9000",
          "151.6600",
          "152.0100",
          "152.1800",
          "153.0100",
          "153.0000",
          "150.9800",
          "148.8300",
          "149.0800",
          "150.0167",
          "151.1800",
          "150.8550",
          "150.7101",
          "151.0300",
          "151.7200",
          "151.8200",
          "151.7600",
          "151.5800",
          "152.2100",
          "153.5700",
          "152.9800",
          "151.0100",
          "150.5000",
          "144.6715",
          "145.2800",
          "144.1600",
          "142.9200",
          "142.3300",
          "141.3300",
          "140.5600",
          "140.2600",
          "140.1300",
          "140.2600",
          "139.9500",
          "138.7500",
          "138.4700",
          "140.0200",
          "140.3500",
          "139.7100",
          "138.8400",
          "139.4200",
          "138.8600",
          "139.6615",
          "140.8600",
          "139.9050",
          "139.5900",
          "140.1600",
          "140.1600",
          "140.2800",
          "140.2000",
          "140.9100",
          "141.7300",
          "141.8300",
          "141.7600",
          "141.7300",
          "142.2700",
          "143.6100",
          "144.8100",
          "145.2500",
          "145.3200",
          "145.0100",
          "145.1600",
          "146.0000",
          "146.0500",
          "146.0300",
          "145.8600",
          "144.0900",
          "145.0800",
          "145.0000",
          "143.7700",
          "143.1500",
          "142.3300",
          "143.3600",
          "143.3800",
          "144.2554",
          "143.6200",
          "143.6500",
          "144.0334",
          "145.9000",
          "146.2300",
          "146.3200",
          "146.3600"
         ],
         "name": "Historical Data",
         "open": [
          "165.0100",
          "164.9300",
          "164.9700",
          "165.0000",
          "165.2400",
          "164.2000",
          "164.1800",
          "164.1000",
          "164.2000",
          "161.2600",
          "157.1900",
          "153.8900",
          "150.8100",
          "150.6150",
          "149.9900",
          "151.4500",
          "153.3900",
          "153.0000",
          "153.2000",
          "153.0000",
          "152.2200",
          "152.2000",
          "153.6200",
          "153.0500",
          "152.7500",
          "152.6500",
          "149.9300",
          "150.7400",
          "151.4884",
          "151.6350",
          "151.0200",
          "151.5700",
          "152.0600",
          "152.0200",
          "151.9000",
          "151.8300",
          "153.7200",
          "153.8800",
          "153.4300",
          "153.1700",
          "152.8000",
          "150.8400",
          "145.7450",
          "145.8500",
          "144.1750",
          "143.2900",
          "142.5900",
          "141.4100",
          "141.2100",
          "140.3000",
          "140.3500",
          "140.2700",
          "141.2100",
          "139.0800",
          "140.7100",
          "140.9300",
          "140.5001",
          "140.1600",
          "140.9350",
          "139.4504",
          "140.0300",
          "141.5500",
          "141.3500",
          "140.4700",
          "140.3600",
          "140.4000",
          "140.3000",
          "140.4900",
          "140.9100",
          "142.0400",
          "142.3000",
          "142.0200",
          "141.8600",
          "144.1000",
          "144.6700",
          "145.4200",
          "146.3800",
          "146.4400",
          "145.8200",
          "145.2200",
          "146.0300",
          "146.1100",
          "146.0800",
          "146.0200",
          "145.5100",
          "145.1000",
          "145.1800",
          "144.9000",
          "144.7106",
          "143.5200",
          "144.3200",
          "143.9500",
          "144.6700",
          "144.9800",
          "144.1900",
          "144.0700",
          "146.1400",
          "146.3000",
          "146.3900",
          "146.3600"
         ],
         "type": "candlestick",
         "x": [
          "2022-12-21T17:00:00",
          "2022-12-21T18:00:00",
          "2022-12-21T19:00:00",
          "2022-12-21T20:00:00",
          "2022-12-22T05:00:00",
          "2022-12-22T06:00:00",
          "2022-12-22T07:00:00",
          "2022-12-22T08:00:00",
          "2022-12-22T09:00:00",
          "2022-12-22T10:00:00",
          "2022-12-22T11:00:00",
          "2022-12-22T12:00:00",
          "2022-12-22T13:00:00",
          "2022-12-22T14:00:00",
          "2022-12-22T15:00:00",
          "2022-12-22T16:00:00",
          "2022-12-22T17:00:00",
          "2022-12-22T18:00:00",
          "2022-12-22T19:00:00",
          "2022-12-22T20:00:00",
          "2022-12-23T05:00:00",
          "2022-12-23T06:00:00",
          "2022-12-23T07:00:00",
          "2022-12-23T08:00:00",
          "2022-12-23T09:00:00",
          "2022-12-23T10:00:00",
          "2022-12-23T11:00:00",
          "2022-12-23T12:00:00",
          "2022-12-23T13:00:00",
          "2022-12-23T14:00:00",
          "2022-12-23T15:00:00",
          "2022-12-23T16:00:00",
          "2022-12-23T17:00:00",
          "2022-12-23T18:00:00",
          "2022-12-23T19:00:00",
          "2022-12-23T20:00:00",
          "2022-12-27T05:00:00",
          "2022-12-27T06:00:00",
          "2022-12-27T07:00:00",
          "2022-12-27T08:00:00",
          "2022-12-27T09:00:00",
          "2022-12-27T10:00:00",
          "2022-12-27T11:00:00",
          "2022-12-27T12:00:00",
          "2022-12-27T13:00:00",
          "2022-12-27T14:00:00",
          "2022-12-27T15:00:00",
          "2022-12-27T16:00:00",
          "2022-12-27T17:00:00",
          "2022-12-27T18:00:00",
          "2022-12-27T19:00:00",
          "2022-12-27T20:00:00",
          "2022-12-28T05:00:00",
          "2022-12-28T06:00:00",
          "2022-12-28T07:00:00",
          "2022-12-28T08:00:00",
          "2022-12-28T09:00:00",
          "2022-12-28T10:00:00",
          "2022-12-28T11:00:00",
          "2022-12-28T12:00:00",
          "2022-12-28T13:00:00",
          "2022-12-28T14:00:00",
          "2022-12-28T15:00:00",
          "2022-12-28T16:00:00",
          "2022-12-28T17:00:00",
          "2022-12-28T18:00:00",
          "2022-12-28T19:00:00",
          "2022-12-28T20:00:00",
          "2022-12-29T05:00:00",
          "2022-12-29T06:00:00",
          "2022-12-29T07:00:00",
          "2022-12-29T08:00:00",
          "2022-12-29T09:00:00",
          "2022-12-29T10:00:00",
          "2022-12-29T11:00:00",
          "2022-12-29T12:00:00",
          "2022-12-29T13:00:00",
          "2022-12-29T14:00:00",
          "2022-12-29T15:00:00",
          "2022-12-29T16:00:00",
          "2022-12-29T17:00:00",
          "2022-12-29T18:00:00",
          "2022-12-29T19:00:00",
          "2022-12-29T20:00:00",
          "2022-12-30T05:00:00",
          "2022-12-30T06:00:00",
          "2022-12-30T07:00:00",
          "2022-12-30T08:00:00",
          "2022-12-30T09:00:00",
          "2022-12-30T10:00:00",
          "2022-12-30T11:00:00",
          "2022-12-30T12:00:00",
          "2022-12-30T13:00:00",
          "2022-12-30T14:00:00",
          "2022-12-30T15:00:00",
          "2022-12-30T16:00:00",
          "2022-12-30T17:00:00",
          "2022-12-30T18:00:00",
          "2022-12-30T19:00:00",
          "2022-12-30T20:00:00"
         ],
         "xaxis": "x",
         "yaxis": "y"
        }
       ],
       "layout": {
        "height": 500,
        "template": {
         "data": {
          "bar": [
           {
            "error_x": {
             "color": "#2a3f5f"
            },
            "error_y": {
             "color": "#2a3f5f"
            },
            "marker": {
             "line": {
              "color": "#E5ECF6",
              "width": 0.5
             },
             "pattern": {
              "fillmode": "overlay",
              "size": 10,
              "solidity": 0.2
             }
            },
            "type": "bar"
           }
          ],
          "barpolar": [
           {
            "marker": {
             "line": {
              "color": "#E5ECF6",
              "width": 0.5
             },
             "pattern": {
              "fillmode": "overlay",
              "size": 10,
              "solidity": 0.2
             }
            },
            "type": "barpolar"
           }
          ],
          "carpet": [
           {
            "aaxis": {
             "endlinecolor": "#2a3f5f",
             "gridcolor": "white",
             "linecolor": "white",
             "minorgridcolor": "white",
             "startlinecolor": "#2a3f5f"
            },
            "baxis": {
             "endlinecolor": "#2a3f5f",
             "gridcolor": "white",
             "linecolor": "white",
             "minorgridcolor": "white",
             "startlinecolor": "#2a3f5f"
            },
            "type": "carpet"
           }
          ],
          "choropleth": [
           {
            "colorbar": {
             "outlinewidth": 0,
             "ticks": ""
            },
            "type": "choropleth"
           }
          ],
          "contour": [
           {
            "colorbar": {
             "outlinewidth": 0,
             "ticks": ""
            },
            "colorscale": [
             [
              0,
              "#0d0887"
             ],
             [
              0.1111111111111111,
              "#46039f"
             ],
             [
              0.2222222222222222,
              "#7201a8"
             ],
             [
              0.3333333333333333,
              "#9c179e"
             ],
             [
              0.4444444444444444,
              "#bd3786"
             ],
             [
              0.5555555555555556,
              "#d8576b"
             ],
             [
              0.6666666666666666,
              "#ed7953"
             ],
             [
              0.7777777777777778,
              "#fb9f3a"
             ],
             [
              0.8888888888888888,
              "#fdca26"
             ],
             [
              1,
              "#f0f921"
             ]
            ],
            "type": "contour"
           }
          ],
          "contourcarpet": [
           {
            "colorbar": {
             "outlinewidth": 0,
             "ticks": ""
            },
            "type": "contourcarpet"
           }
          ],
          "heatmap": [
           {
            "colorbar": {
             "outlinewidth": 0,
             "ticks": ""
            },
            "colorscale": [
             [
              0,
              "#0d0887"
             ],
             [
              0.1111111111111111,
              "#46039f"
             ],
             [
              0.2222222222222222,
              "#7201a8"
             ],
             [
              0.3333333333333333,
              "#9c179e"
             ],
             [
              0.4444444444444444,
              "#bd3786"
             ],
             [
              0.5555555555555556,
              "#d8576b"
             ],
             [
              0.6666666666666666,
              "#ed7953"
             ],
             [
              0.7777777777777778,
              "#fb9f3a"
             ],
             [
              0.8888888888888888,
              "#fdca26"
             ],
             [
              1,
              "#f0f921"
             ]
            ],
            "type": "heatmap"
           }
          ],
          "heatmapgl": [
           {
            "colorbar": {
             "outlinewidth": 0,
             "ticks": ""
            },
            "colorscale": [
             [
              0,
              "#0d0887"
             ],
             [
              0.1111111111111111,
              "#46039f"
             ],
             [
              0.2222222222222222,
              "#7201a8"
             ],
             [
              0.3333333333333333,
              "#9c179e"
             ],
             [
              0.4444444444444444,
              "#bd3786"
             ],
             [
              0.5555555555555556,
              "#d8576b"
             ],
             [
              0.6666666666666666,
              "#ed7953"
             ],
             [
              0.7777777777777778,
              "#fb9f3a"
             ],
             [
              0.8888888888888888,
              "#fdca26"
             ],
             [
              1,
              "#f0f921"
             ]
            ],
            "type": "heatmapgl"
           }
          ],
          "histogram": [
           {
            "marker": {
             "pattern": {
              "fillmode": "overlay",
              "size": 10,
              "solidity": 0.2
             }
            },
            "type": "histogram"
           }
          ],
          "histogram2d": [
           {
            "colorbar": {
             "outlinewidth": 0,
             "ticks": ""
            },
            "colorscale": [
             [
              0,
              "#0d0887"
             ],
             [
              0.1111111111111111,
              "#46039f"
             ],
             [
              0.2222222222222222,
              "#7201a8"
             ],
             [
              0.3333333333333333,
              "#9c179e"
             ],
             [
              0.4444444444444444,
              "#bd3786"
             ],
             [
              0.5555555555555556,
              "#d8576b"
             ],
             [
              0.6666666666666666,
              "#ed7953"
             ],
             [
              0.7777777777777778,
              "#fb9f3a"
             ],
             [
              0.8888888888888888,
              "#fdca26"
             ],
             [
              1,
              "#f0f921"
             ]
            ],
            "type": "histogram2d"
           }
          ],
          "histogram2dcontour": [
           {
            "colorbar": {
             "outlinewidth": 0,
             "ticks": ""
            },
            "colorscale": [
             [
              0,
              "#0d0887"
             ],
             [
              0.1111111111111111,
              "#46039f"
             ],
             [
              0.2222222222222222,
              "#7201a8"
             ],
             [
              0.3333333333333333,
              "#9c179e"
             ],
             [
              0.4444444444444444,
              "#bd3786"
             ],
             [
              0.5555555555555556,
              "#d8576b"
             ],
             [
              0.6666666666666666,
              "#ed7953"
             ],
             [
              0.7777777777777778,
              "#fb9f3a"
             ],
             [
              0.8888888888888888,
              "#fdca26"
             ],
             [
              1,
              "#f0f921"
             ]
            ],
            "type": "histogram2dcontour"
           }
          ],
          "mesh3d": [
           {
            "colorbar": {
             "outlinewidth": 0,
             "ticks": ""
            },
            "type": "mesh3d"
           }
          ],
          "parcoords": [
           {
            "line": {
             "colorbar": {
              "outlinewidth": 0,
              "ticks": ""
             }
            },
            "type": "parcoords"
           }
          ],
          "pie": [
           {
            "automargin": true,
            "type": "pie"
           }
          ],
          "scatter": [
           {
            "fillpattern": {
             "fillmode": "overlay",
             "size": 10,
             "solidity": 0.2
            },
            "type": "scatter"
           }
          ],
          "scatter3d": [
           {
            "line": {
             "colorbar": {
              "outlinewidth": 0,
              "ticks": ""
             }
            },
            "marker": {
             "colorbar": {
              "outlinewidth": 0,
              "ticks": ""
             }
            },
            "type": "scatter3d"
           }
          ],
          "scattercarpet": [
           {
            "marker": {
             "colorbar": {
              "outlinewidth": 0,
              "ticks": ""
             }
            },
            "type": "scattercarpet"
           }
          ],
          "scattergeo": [
           {
            "marker": {
             "colorbar": {
              "outlinewidth": 0,
              "ticks": ""
             }
            },
            "type": "scattergeo"
           }
          ],
          "scattergl": [
           {
            "marker": {
             "colorbar": {
              "outlinewidth": 0,
              "ticks": ""
             }
            },
            "type": "scattergl"
           }
          ],
          "scattermapbox": [
           {
            "marker": {
             "colorbar": {
              "outlinewidth": 0,
              "ticks": ""
             }
            },
            "type": "scattermapbox"
           }
          ],
          "scatterpolar": [
           {
            "marker": {
             "colorbar": {
              "outlinewidth": 0,
              "ticks": ""
             }
            },
            "type": "scatterpolar"
           }
          ],
          "scatterpolargl": [
           {
            "marker": {
             "colorbar": {
              "outlinewidth": 0,
              "ticks": ""
             }
            },
            "type": "scatterpolargl"
           }
          ],
          "scatterternary": [
           {
            "marker": {
             "colorbar": {
              "outlinewidth": 0,
              "ticks": ""
             }
            },
            "type": "scatterternary"
           }
          ],
          "surface": [
           {
            "colorbar": {
             "outlinewidth": 0,
             "ticks": ""
            },
            "colorscale": [
             [
              0,
              "#0d0887"
             ],
             [
              0.1111111111111111,
              "#46039f"
             ],
             [
              0.2222222222222222,
              "#7201a8"
             ],
             [
              0.3333333333333333,
              "#9c179e"
             ],
             [
              0.4444444444444444,
              "#bd3786"
             ],
             [
              0.5555555555555556,
              "#d8576b"
             ],
             [
              0.6666666666666666,
              "#ed7953"
             ],
             [
              0.7777777777777778,
              "#fb9f3a"
             ],
             [
              0.8888888888888888,
              "#fdca26"
             ],
             [
              1,
              "#f0f921"
             ]
            ],
            "type": "surface"
           }
          ],
          "table": [
           {
            "cells": {
             "fill": {
              "color": "#EBF0F8"
             },
             "line": {
              "color": "white"
             }
            },
            "header": {
             "fill": {
              "color": "#C8D4E3"
             },
             "line": {
              "color": "white"
             }
            },
            "type": "table"
           }
          ]
         },
         "layout": {
          "annotationdefaults": {
           "arrowcolor": "#2a3f5f",
           "arrowhead": 0,
           "arrowwidth": 1
          },
          "autotypenumbers": "strict",
          "coloraxis": {
           "colorbar": {
            "outlinewidth": 0,
            "ticks": ""
           }
          },
          "colorscale": {
           "diverging": [
            [
             0,
             "#8e0152"
            ],
            [
             0.1,
             "#c51b7d"
            ],
            [
             0.2,
             "#de77ae"
            ],
            [
             0.3,
             "#f1b6da"
            ],
            [
             0.4,
             "#fde0ef"
            ],
            [
             0.5,
             "#f7f7f7"
            ],
            [
             0.6,
             "#e6f5d0"
            ],
            [
             0.7,
             "#b8e186"
            ],
            [
             0.8,
             "#7fbc41"
            ],
            [
             0.9,
             "#4d9221"
            ],
            [
             1,
             "#276419"
            ]
           ],
           "sequential": [
            [
             0,
             "#0d0887"
            ],
            [
             0.1111111111111111,
             "#46039f"
            ],
            [
             0.2222222222222222,
             "#7201a8"
            ],
            [
             0.3333333333333333,
             "#9c179e"
            ],
            [
             0.4444444444444444,
             "#bd3786"
            ],
            [
             0.5555555555555556,
             "#d8576b"
            ],
            [
             0.6666666666666666,
             "#ed7953"
            ],
            [
             0.7777777777777778,
             "#fb9f3a"
            ],
            [
             0.8888888888888888,
             "#fdca26"
            ],
            [
             1,
             "#f0f921"
            ]
           ],
           "sequentialminus": [
            [
             0,
             "#0d0887"
            ],
            [
             0.1111111111111111,
             "#46039f"
            ],
            [
             0.2222222222222222,
             "#7201a8"
            ],
            [
             0.3333333333333333,
             "#9c179e"
            ],
            [
             0.4444444444444444,
             "#bd3786"
            ],
            [
             0.5555555555555556,
             "#d8576b"
            ],
            [
             0.6666666666666666,
             "#ed7953"
            ],
            [
             0.7777777777777778,
             "#fb9f3a"
            ],
            [
             0.8888888888888888,
             "#fdca26"
            ],
            [
             1,
             "#f0f921"
            ]
           ]
          },
          "colorway": [
           "#636efa",
           "#EF553B",
           "#00cc96",
           "#ab63fa",
           "#FFA15A",
           "#19d3f3",
           "#FF6692",
           "#B6E880",
           "#FF97FF",
           "#FECB52"
          ],
          "font": {
           "color": "#2a3f5f"
          },
          "geo": {
           "bgcolor": "white",
           "lakecolor": "white",
           "landcolor": "#E5ECF6",
           "showlakes": true,
           "showland": true,
           "subunitcolor": "white"
          },
          "hoverlabel": {
           "align": "left"
          },
          "hovermode": "closest",
          "mapbox": {
           "style": "light"
          },
          "paper_bgcolor": "white",
          "plot_bgcolor": "#E5ECF6",
          "polar": {
           "angularaxis": {
            "gridcolor": "white",
            "linecolor": "white",
            "ticks": ""
           },
           "bgcolor": "#E5ECF6",
           "radialaxis": {
            "gridcolor": "white",
            "linecolor": "white",
            "ticks": ""
           }
          },
          "scene": {
           "xaxis": {
            "backgroundcolor": "#E5ECF6",
            "gridcolor": "white",
            "gridwidth": 2,
            "linecolor": "white",
            "showbackground": true,
            "ticks": "",
            "zerolinecolor": "white"
           },
           "yaxis": {
            "backgroundcolor": "#E5ECF6",
            "gridcolor": "white",
            "gridwidth": 2,
            "linecolor": "white",
            "showbackground": true,
            "ticks": "",
            "zerolinecolor": "white"
           },
           "zaxis": {
            "backgroundcolor": "#E5ECF6",
            "gridcolor": "white",
            "gridwidth": 2,
            "linecolor": "white",
            "showbackground": true,
            "ticks": "",
            "zerolinecolor": "white"
           }
          },
          "shapedefaults": {
           "line": {
            "color": "#2a3f5f"
           }
          },
          "ternary": {
           "aaxis": {
            "gridcolor": "white",
            "linecolor": "white",
            "ticks": ""
           },
           "baxis": {
            "gridcolor": "white",
            "linecolor": "white",
            "ticks": ""
           },
           "bgcolor": "#E5ECF6",
           "caxis": {
            "gridcolor": "white",
            "linecolor": "white",
            "ticks": ""
           }
          },
          "title": {
           "x": 0.05
          },
          "xaxis": {
           "automargin": true,
           "gridcolor": "white",
           "linecolor": "white",
           "ticks": "",
           "title": {
            "standoff": 15
           },
           "zerolinecolor": "white",
           "zerolinewidth": 2
          },
          "yaxis": {
           "automargin": true,
           "gridcolor": "white",
           "linecolor": "white",
           "ticks": "",
           "title": {
            "standoff": 15
           },
           "zerolinecolor": "white",
           "zerolinewidth": 2
          }
         }
        },
        "title": {
         "text": "",
         "x": 0.5,
         "xanchor": "center",
         "y": 0.9,
         "yanchor": "bottom"
        },
        "width": 1000,
        "xaxis": {
         "anchor": "y",
         "domain": [
          0,
          1
         ],
         "rangeslider": {
          "visible": false
         }
        },
        "yaxis": {
         "anchor": "x",
         "domain": [
          0,
          1
         ]
        }
       }
      },
      "text/html": [
       "<div>                            <div id=\"f62ce550-6000-4f31-8ae7-162a26f23047\" class=\"plotly-graph-div\" style=\"height:500px; width:1000px;\"></div>            <script type=\"text/javascript\">                require([\"plotly\"], function(Plotly) {                    window.PLOTLYENV=window.PLOTLYENV || {};                                    if (document.getElementById(\"f62ce550-6000-4f31-8ae7-162a26f23047\")) {                    Plotly.newPlot(                        \"f62ce550-6000-4f31-8ae7-162a26f23047\",                        [{\"close\":[\"164.9300\",\"165.0000\",\"165.0900\",\"164.5600\",\"164.4000\",\"164.1800\",\"163.8800\",\"162.7000\",\"161.3500\",\"157.2000\",\"153.8800\",\"150.8300\",\"150.6300\",\"149.9731\",\"151.4500\",\"153.4000\",\"153.0400\",\"153.2500\",\"153.0000\",\"151.6600\",\"152.3000\",\"153.6300\",\"153.0100\",\"153.3000\",\"152.6300\",\"149.8700\",\"150.7250\",\"151.5200\",\"151.6350\",\"151.0445\",\"151.5600\",\"152.0900\",\"152.0200\",\"151.9886\",\"151.8300\",\"151.8400\",\"153.6000\",\"153.6100\",\"153.0100\",\"151.3000\",\"150.8500\",\"145.7300\",\"145.8569\",\"144.1722\",\"143.2700\",\"142.5850\",\"141.4100\",\"141.1900\",\"140.2999\",\"140.3500\",\"140.2700\",\"139.9900\",\"139.0000\",\"141.0000\",\"141.0200\",\"141.2500\",\"140.1600\",\"140.9460\",\"139.4508\",\"140.0700\",\"141.5400\",\"141.3299\",\"140.4300\",\"140.3600\",\"140.3600\",\"140.2700\",\"140.4700\",\"140.5500\",\"142.0400\",\"142.0600\",\"142.0200\",\"142.0000\",\"144.2400\",\"144.6450\",\"145.4000\",\"146.3500\",\"146.4300\",\"145.8250\",\"145.2300\",\"146.0300\",\"146.1100\",\"146.1000\",\"146.0500\",\"145.9500\",\"145.0000\",\"145.6000\",\"145.0000\",\"143.8000\",\"143.5100\",\"144.3200\",\"143.9652\",\"144.6520\",\"144.9595\",\"144.1700\",\"144.0500\",\"146.1450\",\"146.2375\",\"146.3300\",\"146.3600\",\"146.4000\"],\"high\":[\"165.4300\",\"165.0000\",\"165.0900\",\"165.0000\",\"165.2400\",\"164.4600\",\"164.2900\",\"164.2000\",\"166.0000\",\"161.4100\",\"157.3100\",\"154.1800\",\"151.3200\",\"150.6300\",\"151.5496\",\"154.3499\",\"153.6600\",\"153.3900\",\"153.3500\",\"153.0500\",\"152.8900\",\"153.7200\",\"153.9900\",\"153.7400\",\"154.4500\",\"152.9200\",\"153.3900\",\"152.1500\",\"152.3900\",\"151.9700\",\"151.6699\",\"152.2000\",\"152.5100\",\"152.1900\",\"151.9500\",\"151.8500\",\"154.0000\",\"154.1000\",\"153.8900\",\"153.1700\",\"154.2800\",\"151.1600\",\"148.1300\",\"146.0000\",\"144.9700\",\"144.0000\",\"142.8400\",\"142.0600\",\"141.3000\",\"141.2100\",\"140.4800\",\"140.4000\",\"141.2100\",\"141.2100\",\"141.3800\",\"141.4000\",\"141.4299\",\"142.6200\",\"142.1200\",\"140.6099\",\"141.6700\",\"141.8300\",\"141.5900\",\"140.7300\",\"140.5800\",\"140.4500\",\"140.4900\",\"140.5800\",\"142.0400\",\"142.1200\",\"142.3000\",\"142.0200\",\"144.9500\",\"145.3100\",\"145.4900\",\"146.7996\",\"146.5800\",\"146.4500\",\"146.0900\",\"146.8300\",\"146.2999\",\"146.1100\",\"146.1200\",\"146.0500\",\"145.5100\",\"145.6000\",\"145.2000\",\"144.9000\",\"144.9900\",\"144.5700\",\"144.8000\",\"144.7550\",\"145.1700\",\"144.9900\",\"144.2800\",\"146.2899\",\"146.7500\",\"146.4199\",\"146.4000\",\"146.4800\"],\"low\":[\"164.5000\",\"164.9300\",\"164.9300\",\"164.4301\",\"164.4000\",\"163.9500\",\"163.8200\",\"162.5500\",\"161.1200\",\"156.4617\",\"153.5600\",\"150.5600\",\"149.1400\",\"148.8200\",\"149.8100\",\"151.1700\",\"150.6300\",\"152.9200\",\"152.9000\",\"151.6600\",\"152.0100\",\"152.1800\",\"153.0100\",\"153.0000\",\"150.9800\",\"148.8300\",\"149.0800\",\"150.0167\",\"151.1800\",\"150.8550\",\"150.7101\",\"151.0300\",\"151.7200\",\"151.8200\",\"151.7600\",\"151.5800\",\"152.2100\",\"153.5700\",\"152.9800\",\"151.0100\",\"150.5000\",\"144.6715\",\"145.2800\",\"144.1600\",\"142.9200\",\"142.3300\",\"141.3300\",\"140.5600\",\"140.2600\",\"140.1300\",\"140.2600\",\"139.9500\",\"138.7500\",\"138.4700\",\"140.0200\",\"140.3500\",\"139.7100\",\"138.8400\",\"139.4200\",\"138.8600\",\"139.6615\",\"140.8600\",\"139.9050\",\"139.5900\",\"140.1600\",\"140.1600\",\"140.2800\",\"140.2000\",\"140.9100\",\"141.7300\",\"141.8300\",\"141.7600\",\"141.7300\",\"142.2700\",\"143.6100\",\"144.8100\",\"145.2500\",\"145.3200\",\"145.0100\",\"145.1600\",\"146.0000\",\"146.0500\",\"146.0300\",\"145.8600\",\"144.0900\",\"145.0800\",\"145.0000\",\"143.7700\",\"143.1500\",\"142.3300\",\"143.3600\",\"143.3800\",\"144.2554\",\"143.6200\",\"143.6500\",\"144.0334\",\"145.9000\",\"146.2300\",\"146.3200\",\"146.3600\"],\"name\":\"Historical Data\",\"open\":[\"165.0100\",\"164.9300\",\"164.9700\",\"165.0000\",\"165.2400\",\"164.2000\",\"164.1800\",\"164.1000\",\"164.2000\",\"161.2600\",\"157.1900\",\"153.8900\",\"150.8100\",\"150.6150\",\"149.9900\",\"151.4500\",\"153.3900\",\"153.0000\",\"153.2000\",\"153.0000\",\"152.2200\",\"152.2000\",\"153.6200\",\"153.0500\",\"152.7500\",\"152.6500\",\"149.9300\",\"150.7400\",\"151.4884\",\"151.6350\",\"151.0200\",\"151.5700\",\"152.0600\",\"152.0200\",\"151.9000\",\"151.8300\",\"153.7200\",\"153.8800\",\"153.4300\",\"153.1700\",\"152.8000\",\"150.8400\",\"145.7450\",\"145.8500\",\"144.1750\",\"143.2900\",\"142.5900\",\"141.4100\",\"141.2100\",\"140.3000\",\"140.3500\",\"140.2700\",\"141.2100\",\"139.0800\",\"140.7100\",\"140.9300\",\"140.5001\",\"140.1600\",\"140.9350\",\"139.4504\",\"140.0300\",\"141.5500\",\"141.3500\",\"140.4700\",\"140.3600\",\"140.4000\",\"140.3000\",\"140.4900\",\"140.9100\",\"142.0400\",\"142.3000\",\"142.0200\",\"141.8600\",\"144.1000\",\"144.6700\",\"145.4200\",\"146.3800\",\"146.4400\",\"145.8200\",\"145.2200\",\"146.0300\",\"146.1100\",\"146.0800\",\"146.0200\",\"145.5100\",\"145.1000\",\"145.1800\",\"144.9000\",\"144.7106\",\"143.5200\",\"144.3200\",\"143.9500\",\"144.6700\",\"144.9800\",\"144.1900\",\"144.0700\",\"146.1400\",\"146.3000\",\"146.3900\",\"146.3600\"],\"x\":[\"2022-12-21T17:00:00\",\"2022-12-21T18:00:00\",\"2022-12-21T19:00:00\",\"2022-12-21T20:00:00\",\"2022-12-22T05:00:00\",\"2022-12-22T06:00:00\",\"2022-12-22T07:00:00\",\"2022-12-22T08:00:00\",\"2022-12-22T09:00:00\",\"2022-12-22T10:00:00\",\"2022-12-22T11:00:00\",\"2022-12-22T12:00:00\",\"2022-12-22T13:00:00\",\"2022-12-22T14:00:00\",\"2022-12-22T15:00:00\",\"2022-12-22T16:00:00\",\"2022-12-22T17:00:00\",\"2022-12-22T18:00:00\",\"2022-12-22T19:00:00\",\"2022-12-22T20:00:00\",\"2022-12-23T05:00:00\",\"2022-12-23T06:00:00\",\"2022-12-23T07:00:00\",\"2022-12-23T08:00:00\",\"2022-12-23T09:00:00\",\"2022-12-23T10:00:00\",\"2022-12-23T11:00:00\",\"2022-12-23T12:00:00\",\"2022-12-23T13:00:00\",\"2022-12-23T14:00:00\",\"2022-12-23T15:00:00\",\"2022-12-23T16:00:00\",\"2022-12-23T17:00:00\",\"2022-12-23T18:00:00\",\"2022-12-23T19:00:00\",\"2022-12-23T20:00:00\",\"2022-12-27T05:00:00\",\"2022-12-27T06:00:00\",\"2022-12-27T07:00:00\",\"2022-12-27T08:00:00\",\"2022-12-27T09:00:00\",\"2022-12-27T10:00:00\",\"2022-12-27T11:00:00\",\"2022-12-27T12:00:00\",\"2022-12-27T13:00:00\",\"2022-12-27T14:00:00\",\"2022-12-27T15:00:00\",\"2022-12-27T16:00:00\",\"2022-12-27T17:00:00\",\"2022-12-27T18:00:00\",\"2022-12-27T19:00:00\",\"2022-12-27T20:00:00\",\"2022-12-28T05:00:00\",\"2022-12-28T06:00:00\",\"2022-12-28T07:00:00\",\"2022-12-28T08:00:00\",\"2022-12-28T09:00:00\",\"2022-12-28T10:00:00\",\"2022-12-28T11:00:00\",\"2022-12-28T12:00:00\",\"2022-12-28T13:00:00\",\"2022-12-28T14:00:00\",\"2022-12-28T15:00:00\",\"2022-12-28T16:00:00\",\"2022-12-28T17:00:00\",\"2022-12-28T18:00:00\",\"2022-12-28T19:00:00\",\"2022-12-28T20:00:00\",\"2022-12-29T05:00:00\",\"2022-12-29T06:00:00\",\"2022-12-29T07:00:00\",\"2022-12-29T08:00:00\",\"2022-12-29T09:00:00\",\"2022-12-29T10:00:00\",\"2022-12-29T11:00:00\",\"2022-12-29T12:00:00\",\"2022-12-29T13:00:00\",\"2022-12-29T14:00:00\",\"2022-12-29T15:00:00\",\"2022-12-29T16:00:00\",\"2022-12-29T17:00:00\",\"2022-12-29T18:00:00\",\"2022-12-29T19:00:00\",\"2022-12-29T20:00:00\",\"2022-12-30T05:00:00\",\"2022-12-30T06:00:00\",\"2022-12-30T07:00:00\",\"2022-12-30T08:00:00\",\"2022-12-30T09:00:00\",\"2022-12-30T10:00:00\",\"2022-12-30T11:00:00\",\"2022-12-30T12:00:00\",\"2022-12-30T13:00:00\",\"2022-12-30T14:00:00\",\"2022-12-30T15:00:00\",\"2022-12-30T16:00:00\",\"2022-12-30T17:00:00\",\"2022-12-30T18:00:00\",\"2022-12-30T19:00:00\",\"2022-12-30T20:00:00\"],\"type\":\"candlestick\",\"xaxis\":\"x\",\"yaxis\":\"y\"}],                        {\"template\":{\"data\":{\"histogram2dcontour\":[{\"type\":\"histogram2dcontour\",\"colorbar\":{\"outlinewidth\":0,\"ticks\":\"\"},\"colorscale\":[[0.0,\"#0d0887\"],[0.1111111111111111,\"#46039f\"],[0.2222222222222222,\"#7201a8\"],[0.3333333333333333,\"#9c179e\"],[0.4444444444444444,\"#bd3786\"],[0.5555555555555556,\"#d8576b\"],[0.6666666666666666,\"#ed7953\"],[0.7777777777777778,\"#fb9f3a\"],[0.8888888888888888,\"#fdca26\"],[1.0,\"#f0f921\"]]}],\"choropleth\":[{\"type\":\"choropleth\",\"colorbar\":{\"outlinewidth\":0,\"ticks\":\"\"}}],\"histogram2d\":[{\"type\":\"histogram2d\",\"colorbar\":{\"outlinewidth\":0,\"ticks\":\"\"},\"colorscale\":[[0.0,\"#0d0887\"],[0.1111111111111111,\"#46039f\"],[0.2222222222222222,\"#7201a8\"],[0.3333333333333333,\"#9c179e\"],[0.4444444444444444,\"#bd3786\"],[0.5555555555555556,\"#d8576b\"],[0.6666666666666666,\"#ed7953\"],[0.7777777777777778,\"#fb9f3a\"],[0.8888888888888888,\"#fdca26\"],[1.0,\"#f0f921\"]]}],\"heatmap\":[{\"type\":\"heatmap\",\"colorbar\":{\"outlinewidth\":0,\"ticks\":\"\"},\"colorscale\":[[0.0,\"#0d0887\"],[0.1111111111111111,\"#46039f\"],[0.2222222222222222,\"#7201a8\"],[0.3333333333333333,\"#9c179e\"],[0.4444444444444444,\"#bd3786\"],[0.5555555555555556,\"#d8576b\"],[0.6666666666666666,\"#ed7953\"],[0.7777777777777778,\"#fb9f3a\"],[0.8888888888888888,\"#fdca26\"],[1.0,\"#f0f921\"]]}],\"heatmapgl\":[{\"type\":\"heatmapgl\",\"colorbar\":{\"outlinewidth\":0,\"ticks\":\"\"},\"colorscale\":[[0.0,\"#0d0887\"],[0.1111111111111111,\"#46039f\"],[0.2222222222222222,\"#7201a8\"],[0.3333333333333333,\"#9c179e\"],[0.4444444444444444,\"#bd3786\"],[0.5555555555555556,\"#d8576b\"],[0.6666666666666666,\"#ed7953\"],[0.7777777777777778,\"#fb9f3a\"],[0.8888888888888888,\"#fdca26\"],[1.0,\"#f0f921\"]]}],\"contourcarpet\":[{\"type\":\"contourcarpet\",\"colorbar\":{\"outlinewidth\":0,\"ticks\":\"\"}}],\"contour\":[{\"type\":\"contour\",\"colorbar\":{\"outlinewidth\":0,\"ticks\":\"\"},\"colorscale\":[[0.0,\"#0d0887\"],[0.1111111111111111,\"#46039f\"],[0.2222222222222222,\"#7201a8\"],[0.3333333333333333,\"#9c179e\"],[0.4444444444444444,\"#bd3786\"],[0.5555555555555556,\"#d8576b\"],[0.6666666666666666,\"#ed7953\"],[0.7777777777777778,\"#fb9f3a\"],[0.8888888888888888,\"#fdca26\"],[1.0,\"#f0f921\"]]}],\"surface\":[{\"type\":\"surface\",\"colorbar\":{\"outlinewidth\":0,\"ticks\":\"\"},\"colorscale\":[[0.0,\"#0d0887\"],[0.1111111111111111,\"#46039f\"],[0.2222222222222222,\"#7201a8\"],[0.3333333333333333,\"#9c179e\"],[0.4444444444444444,\"#bd3786\"],[0.5555555555555556,\"#d8576b\"],[0.6666666666666666,\"#ed7953\"],[0.7777777777777778,\"#fb9f3a\"],[0.8888888888888888,\"#fdca26\"],[1.0,\"#f0f921\"]]}],\"mesh3d\":[{\"type\":\"mesh3d\",\"colorbar\":{\"outlinewidth\":0,\"ticks\":\"\"}}],\"scatter\":[{\"fillpattern\":{\"fillmode\":\"overlay\",\"size\":10,\"solidity\":0.2},\"type\":\"scatter\"}],\"parcoords\":[{\"type\":\"parcoords\",\"line\":{\"colorbar\":{\"outlinewidth\":0,\"ticks\":\"\"}}}],\"scatterpolargl\":[{\"type\":\"scatterpolargl\",\"marker\":{\"colorbar\":{\"outlinewidth\":0,\"ticks\":\"\"}}}],\"bar\":[{\"error_x\":{\"color\":\"#2a3f5f\"},\"error_y\":{\"color\":\"#2a3f5f\"},\"marker\":{\"line\":{\"color\":\"#E5ECF6\",\"width\":0.5},\"pattern\":{\"fillmode\":\"overlay\",\"size\":10,\"solidity\":0.2}},\"type\":\"bar\"}],\"scattergeo\":[{\"type\":\"scattergeo\",\"marker\":{\"colorbar\":{\"outlinewidth\":0,\"ticks\":\"\"}}}],\"scatterpolar\":[{\"type\":\"scatterpolar\",\"marker\":{\"colorbar\":{\"outlinewidth\":0,\"ticks\":\"\"}}}],\"histogram\":[{\"marker\":{\"pattern\":{\"fillmode\":\"overlay\",\"size\":10,\"solidity\":0.2}},\"type\":\"histogram\"}],\"scattergl\":[{\"type\":\"scattergl\",\"marker\":{\"colorbar\":{\"outlinewidth\":0,\"ticks\":\"\"}}}],\"scatter3d\":[{\"type\":\"scatter3d\",\"line\":{\"colorbar\":{\"outlinewidth\":0,\"ticks\":\"\"}},\"marker\":{\"colorbar\":{\"outlinewidth\":0,\"ticks\":\"\"}}}],\"scattermapbox\":[{\"type\":\"scattermapbox\",\"marker\":{\"colorbar\":{\"outlinewidth\":0,\"ticks\":\"\"}}}],\"scatterternary\":[{\"type\":\"scatterternary\",\"marker\":{\"colorbar\":{\"outlinewidth\":0,\"ticks\":\"\"}}}],\"scattercarpet\":[{\"type\":\"scattercarpet\",\"marker\":{\"colorbar\":{\"outlinewidth\":0,\"ticks\":\"\"}}}],\"carpet\":[{\"aaxis\":{\"endlinecolor\":\"#2a3f5f\",\"gridcolor\":\"white\",\"linecolor\":\"white\",\"minorgridcolor\":\"white\",\"startlinecolor\":\"#2a3f5f\"},\"baxis\":{\"endlinecolor\":\"#2a3f5f\",\"gridcolor\":\"white\",\"linecolor\":\"white\",\"minorgridcolor\":\"white\",\"startlinecolor\":\"#2a3f5f\"},\"type\":\"carpet\"}],\"table\":[{\"cells\":{\"fill\":{\"color\":\"#EBF0F8\"},\"line\":{\"color\":\"white\"}},\"header\":{\"fill\":{\"color\":\"#C8D4E3\"},\"line\":{\"color\":\"white\"}},\"type\":\"table\"}],\"barpolar\":[{\"marker\":{\"line\":{\"color\":\"#E5ECF6\",\"width\":0.5},\"pattern\":{\"fillmode\":\"overlay\",\"size\":10,\"solidity\":0.2}},\"type\":\"barpolar\"}],\"pie\":[{\"automargin\":true,\"type\":\"pie\"}]},\"layout\":{\"autotypenumbers\":\"strict\",\"colorway\":[\"#636efa\",\"#EF553B\",\"#00cc96\",\"#ab63fa\",\"#FFA15A\",\"#19d3f3\",\"#FF6692\",\"#B6E880\",\"#FF97FF\",\"#FECB52\"],\"font\":{\"color\":\"#2a3f5f\"},\"hovermode\":\"closest\",\"hoverlabel\":{\"align\":\"left\"},\"paper_bgcolor\":\"white\",\"plot_bgcolor\":\"#E5ECF6\",\"polar\":{\"bgcolor\":\"#E5ECF6\",\"angularaxis\":{\"gridcolor\":\"white\",\"linecolor\":\"white\",\"ticks\":\"\"},\"radialaxis\":{\"gridcolor\":\"white\",\"linecolor\":\"white\",\"ticks\":\"\"}},\"ternary\":{\"bgcolor\":\"#E5ECF6\",\"aaxis\":{\"gridcolor\":\"white\",\"linecolor\":\"white\",\"ticks\":\"\"},\"baxis\":{\"gridcolor\":\"white\",\"linecolor\":\"white\",\"ticks\":\"\"},\"caxis\":{\"gridcolor\":\"white\",\"linecolor\":\"white\",\"ticks\":\"\"}},\"coloraxis\":{\"colorbar\":{\"outlinewidth\":0,\"ticks\":\"\"}},\"colorscale\":{\"sequential\":[[0.0,\"#0d0887\"],[0.1111111111111111,\"#46039f\"],[0.2222222222222222,\"#7201a8\"],[0.3333333333333333,\"#9c179e\"],[0.4444444444444444,\"#bd3786\"],[0.5555555555555556,\"#d8576b\"],[0.6666666666666666,\"#ed7953\"],[0.7777777777777778,\"#fb9f3a\"],[0.8888888888888888,\"#fdca26\"],[1.0,\"#f0f921\"]],\"sequentialminus\":[[0.0,\"#0d0887\"],[0.1111111111111111,\"#46039f\"],[0.2222222222222222,\"#7201a8\"],[0.3333333333333333,\"#9c179e\"],[0.4444444444444444,\"#bd3786\"],[0.5555555555555556,\"#d8576b\"],[0.6666666666666666,\"#ed7953\"],[0.7777777777777778,\"#fb9f3a\"],[0.8888888888888888,\"#fdca26\"],[1.0,\"#f0f921\"]],\"diverging\":[[0,\"#8e0152\"],[0.1,\"#c51b7d\"],[0.2,\"#de77ae\"],[0.3,\"#f1b6da\"],[0.4,\"#fde0ef\"],[0.5,\"#f7f7f7\"],[0.6,\"#e6f5d0\"],[0.7,\"#b8e186\"],[0.8,\"#7fbc41\"],[0.9,\"#4d9221\"],[1,\"#276419\"]]},\"xaxis\":{\"gridcolor\":\"white\",\"linecolor\":\"white\",\"ticks\":\"\",\"title\":{\"standoff\":15},\"zerolinecolor\":\"white\",\"automargin\":true,\"zerolinewidth\":2},\"yaxis\":{\"gridcolor\":\"white\",\"linecolor\":\"white\",\"ticks\":\"\",\"title\":{\"standoff\":15},\"zerolinecolor\":\"white\",\"automargin\":true,\"zerolinewidth\":2},\"scene\":{\"xaxis\":{\"backgroundcolor\":\"#E5ECF6\",\"gridcolor\":\"white\",\"linecolor\":\"white\",\"showbackground\":true,\"ticks\":\"\",\"zerolinecolor\":\"white\",\"gridwidth\":2},\"yaxis\":{\"backgroundcolor\":\"#E5ECF6\",\"gridcolor\":\"white\",\"linecolor\":\"white\",\"showbackground\":true,\"ticks\":\"\",\"zerolinecolor\":\"white\",\"gridwidth\":2},\"zaxis\":{\"backgroundcolor\":\"#E5ECF6\",\"gridcolor\":\"white\",\"linecolor\":\"white\",\"showbackground\":true,\"ticks\":\"\",\"zerolinecolor\":\"white\",\"gridwidth\":2}},\"shapedefaults\":{\"line\":{\"color\":\"#2a3f5f\"}},\"annotationdefaults\":{\"arrowcolor\":\"#2a3f5f\",\"arrowhead\":0,\"arrowwidth\":1},\"geo\":{\"bgcolor\":\"white\",\"landcolor\":\"#E5ECF6\",\"subunitcolor\":\"white\",\"showland\":true,\"showlakes\":true,\"lakecolor\":\"white\"},\"title\":{\"x\":0.05},\"mapbox\":{\"style\":\"light\"}}},\"xaxis\":{\"anchor\":\"y\",\"domain\":[0.0,1.0],\"rangeslider\":{\"visible\":false}},\"yaxis\":{\"anchor\":\"x\",\"domain\":[0.0,1.0]},\"title\":{\"text\":\"\",\"y\":0.9,\"x\":0.5,\"xanchor\":\"center\",\"yanchor\":\"bottom\"},\"height\":500,\"width\":1000},                        {\"responsive\": true}                    ).then(function(){\n",
       "                            \n",
       "var gd = document.getElementById('f62ce550-6000-4f31-8ae7-162a26f23047');\n",
       "var x = new MutationObserver(function (mutations, observer) {{\n",
       "        var display = window.getComputedStyle(gd).display;\n",
       "        if (!display || display === 'none') {{\n",
       "            console.log([gd, 'removed!']);\n",
       "            Plotly.purge(gd);\n",
       "            observer.disconnect();\n",
       "        }}\n",
       "}});\n",
       "\n",
       "// Listen for the removal of the full notebook cells\n",
       "var notebookContainer = gd.closest('#notebook-container');\n",
       "if (notebookContainer) {{\n",
       "    x.observe(notebookContainer, {childList: true});\n",
       "}}\n",
       "\n",
       "// Listen for the clearing of the current output cell\n",
       "var outputEl = gd.closest('.output');\n",
       "if (outputEl) {{\n",
       "    x.observe(outputEl, {childList: true});\n",
       "}}\n",
       "\n",
       "                        })                };                });            </script>        </div>"
      ]
     },
     "metadata": {},
     "output_type": "display_data"
    }
   ],
   "source": [
    "from pyalgotrading.utils import func\n",
    "from pyalgotrading.constants import PlotType\n",
    "\n",
    "indicator_data = indicator1(script_data.main_var,5)[\"indicator\"]\n",
    "\n",
    "func.plot_candlestick_chart(df,PlotType.HEIKINASHI)"
   ]
  },
  {
   "cell_type": "code",
   "execution_count": null,
   "id": "d1c6928b",
   "metadata": {},
   "outputs": [],
   "source": [
    "#!pip freeze > requirements.txt"
   ]
  }
 ],
 "metadata": {
  "kernelspec": {
   "display_name": "Python 3",
   "language": "python",
   "name": "python3"
  },
  "language_info": {
   "codemirror_mode": {
    "name": "ipython",
    "version": 3
   },
   "file_extension": ".py",
   "mimetype": "text/x-python",
   "name": "python",
   "nbconvert_exporter": "python",
   "pygments_lexer": "ipython3",
   "version": "3.8.8"
  }
 },
 "nbformat": 4,
 "nbformat_minor": 5
}
