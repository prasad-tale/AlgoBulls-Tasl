{
 "cells": [
  {
   "cell_type": "code",
   "execution_count": null,
   "id": "ae3ab834",
   "metadata": {},
   "outputs": [],
   "source": []
  },
  {
   "cell_type": "code",
   "execution_count": 223,
   "id": "ac14cced",
   "metadata": {},
   "outputs": [],
   "source": [
    "##importing the required librarires\n",
    "\n",
    "import pandas as pd\n",
    "import numpy as np\n",
    "import datetime as dt\n",
    "import time\n",
    "from alpha_vantage.timeseries import TimeSeries\n"
   ]
  },
  {
   "cell_type": "code",
   "execution_count": 224,
   "id": "096be346",
   "metadata": {},
   "outputs": [],
   "source": [
    "class ScriptData(object):\n",
    "    \n",
    "    #initializing constructor \n",
    "    def __init__(self):\n",
    "        self.main_var = pd.DataFrame()\n",
    "        self.data = {}\n",
    "    ## get method for cllecting json data \n",
    "    def __getJson__(self):\n",
    "        return self.data\n",
    "    ## set method for setting json data \n",
    "    def __setJson__(self,newkey):\n",
    "            self.data =newkey\n",
    "    ## set method for overloading dataframes for diffrent scripts\n",
    "    def __setDataFrame__(self,newkey):\n",
    "        self.main_var = newkey\n",
    "    \n",
    "    ## get method for getting dataframes for diffrent scripts\n",
    "    def __getDataFrame__(self):\n",
    "        return self.main_var\n",
    "        \n",
    "    ##this function will fetch data in json format\n",
    "    def fetch_intraday_data(self,script):\n",
    "        ts = TimeSeries(key='PBUU95WNPEBUZYZI')\n",
    "# Get json object with the intraday data and another with  the call's metadata\n",
    "        data,meta = ts.get_intraday(script)\n",
    "        self.__setJson__(data)\n",
    "        print(type(self.__getJson__()))\n",
    "    \n",
    "    ##this function will convert json data into pandas data frame\n",
    "    def convert_intraday_data(self,script):\n",
    "        df = pd.DataFrame.from_dict(self.data)\n",
    "    \n",
    "        df= df.transpose()\n",
    "        df.reset_index(level = 0, inplace=True)\n",
    "        df.columns = [\"timestamp\",\"open\",\"high\",\"low\",\"close\",\"volume\"]\n",
    "\n",
    "        self.__setDataFrame__(df)## we are setting dataframeto main_varvariableofthe class which willconsist of the main data frame"
   ]
  },
  {
   "cell_type": "code",
   "execution_count": 225,
   "id": "bea60fc8",
   "metadata": {},
   "outputs": [
    {
     "name": "stdout",
     "output_type": "stream",
     "text": [
      "<class 'dict'>\n"
     ]
    },
    {
     "data": {
      "text/html": [
       "<div>\n",
       "<style scoped>\n",
       "    .dataframe tbody tr th:only-of-type {\n",
       "        vertical-align: middle;\n",
       "    }\n",
       "\n",
       "    .dataframe tbody tr th {\n",
       "        vertical-align: top;\n",
       "    }\n",
       "\n",
       "    .dataframe thead th {\n",
       "        text-align: right;\n",
       "    }\n",
       "</style>\n",
       "<table border=\"1\" class=\"dataframe\">\n",
       "  <thead>\n",
       "    <tr style=\"text-align: right;\">\n",
       "      <th></th>\n",
       "      <th>timestamp</th>\n",
       "      <th>open</th>\n",
       "      <th>high</th>\n",
       "      <th>low</th>\n",
       "      <th>close</th>\n",
       "      <th>volume</th>\n",
       "    </tr>\n",
       "  </thead>\n",
       "  <tbody>\n",
       "    <tr>\n",
       "      <th>0</th>\n",
       "      <td>2022-12-30 20:00:00</td>\n",
       "      <td>88.5200</td>\n",
       "      <td>88.5700</td>\n",
       "      <td>88.4800</td>\n",
       "      <td>88.5500</td>\n",
       "      <td>1828</td>\n",
       "    </tr>\n",
       "    <tr>\n",
       "      <th>1</th>\n",
       "      <td>2022-12-30 19:45:00</td>\n",
       "      <td>88.4600</td>\n",
       "      <td>88.5000</td>\n",
       "      <td>88.4500</td>\n",
       "      <td>88.4500</td>\n",
       "      <td>3712</td>\n",
       "    </tr>\n",
       "    <tr>\n",
       "      <th>2</th>\n",
       "      <td>2022-12-30 19:30:00</td>\n",
       "      <td>88.4800</td>\n",
       "      <td>88.4800</td>\n",
       "      <td>88.4800</td>\n",
       "      <td>88.4800</td>\n",
       "      <td>244</td>\n",
       "    </tr>\n",
       "    <tr>\n",
       "      <th>3</th>\n",
       "      <td>2022-12-30 19:15:00</td>\n",
       "      <td>88.4600</td>\n",
       "      <td>88.4600</td>\n",
       "      <td>88.4500</td>\n",
       "      <td>88.4500</td>\n",
       "      <td>676</td>\n",
       "    </tr>\n",
       "    <tr>\n",
       "      <th>4</th>\n",
       "      <td>2022-12-30 19:00:00</td>\n",
       "      <td>88.4200</td>\n",
       "      <td>88.4200</td>\n",
       "      <td>88.4000</td>\n",
       "      <td>88.4000</td>\n",
       "      <td>1984</td>\n",
       "    </tr>\n",
       "  </tbody>\n",
       "</table>\n",
       "</div>"
      ],
      "text/plain": [
       "             timestamp     open     high      low    close volume\n",
       "0  2022-12-30 20:00:00  88.5200  88.5700  88.4800  88.5500   1828\n",
       "1  2022-12-30 19:45:00  88.4600  88.5000  88.4500  88.4500   3712\n",
       "2  2022-12-30 19:30:00  88.4800  88.4800  88.4800  88.4800    244\n",
       "3  2022-12-30 19:15:00  88.4600  88.4600  88.4500  88.4500    676\n",
       "4  2022-12-30 19:00:00  88.4200  88.4200  88.4000  88.4000   1984"
      ]
     },
     "execution_count": 225,
     "metadata": {},
     "output_type": "execute_result"
    }
   ],
   "source": [
    "script_data= ScriptData()## object of class ScriptData\n",
    "script_data.fetch_intraday_data(\"GOOGL\")\n",
    "script_data.convert_intraday_data(\"GOOGL\")\n",
    "script_data.main_var.head()\n",
    "#script_data.plot(script_data.main_var)"
   ]
  },
  {
   "cell_type": "code",
   "execution_count": 226,
   "id": "70066942",
   "metadata": {},
   "outputs": [
    {
     "data": {
      "text/html": [
       "<div>\n",
       "<style scoped>\n",
       "    .dataframe tbody tr th:only-of-type {\n",
       "        vertical-align: middle;\n",
       "    }\n",
       "\n",
       "    .dataframe tbody tr th {\n",
       "        vertical-align: top;\n",
       "    }\n",
       "\n",
       "    .dataframe thead th {\n",
       "        text-align: right;\n",
       "    }\n",
       "</style>\n",
       "<table border=\"1\" class=\"dataframe\">\n",
       "  <thead>\n",
       "    <tr style=\"text-align: right;\">\n",
       "      <th></th>\n",
       "      <th>timestamp</th>\n",
       "      <th>indicator</th>\n",
       "    </tr>\n",
       "  </thead>\n",
       "  <tbody>\n",
       "    <tr>\n",
       "      <th>0</th>\n",
       "      <td>2022-12-30 20:00:00</td>\n",
       "      <td>NaN</td>\n",
       "    </tr>\n",
       "    <tr>\n",
       "      <th>1</th>\n",
       "      <td>2022-12-30 19:45:00</td>\n",
       "      <td>NaN</td>\n",
       "    </tr>\n",
       "    <tr>\n",
       "      <th>2</th>\n",
       "      <td>2022-12-30 19:30:00</td>\n",
       "      <td>NaN</td>\n",
       "    </tr>\n",
       "    <tr>\n",
       "      <th>3</th>\n",
       "      <td>2022-12-30 19:15:00</td>\n",
       "      <td>NaN</td>\n",
       "    </tr>\n",
       "    <tr>\n",
       "      <th>4</th>\n",
       "      <td>2022-12-30 19:00:00</td>\n",
       "      <td>88.46600</td>\n",
       "    </tr>\n",
       "    <tr>\n",
       "      <th>...</th>\n",
       "      <td>...</td>\n",
       "      <td>...</td>\n",
       "    </tr>\n",
       "    <tr>\n",
       "      <th>95</th>\n",
       "      <td>2022-12-29 12:00:00</td>\n",
       "      <td>88.49502</td>\n",
       "    </tr>\n",
       "    <tr>\n",
       "      <th>96</th>\n",
       "      <td>2022-12-29 11:45:00</td>\n",
       "      <td>88.49070</td>\n",
       "    </tr>\n",
       "    <tr>\n",
       "      <th>97</th>\n",
       "      <td>2022-12-29 11:30:00</td>\n",
       "      <td>88.44370</td>\n",
       "    </tr>\n",
       "    <tr>\n",
       "      <th>98</th>\n",
       "      <td>2022-12-29 11:15:00</td>\n",
       "      <td>88.31968</td>\n",
       "    </tr>\n",
       "    <tr>\n",
       "      <th>99</th>\n",
       "      <td>2022-12-29 11:00:00</td>\n",
       "      <td>88.27268</td>\n",
       "    </tr>\n",
       "  </tbody>\n",
       "</table>\n",
       "<p>100 rows × 2 columns</p>\n",
       "</div>"
      ],
      "text/plain": [
       "              timestamp  indicator\n",
       "0   2022-12-30 20:00:00        NaN\n",
       "1   2022-12-30 19:45:00        NaN\n",
       "2   2022-12-30 19:30:00        NaN\n",
       "3   2022-12-30 19:15:00        NaN\n",
       "4   2022-12-30 19:00:00   88.46600\n",
       "..                  ...        ...\n",
       "95  2022-12-29 12:00:00   88.49502\n",
       "96  2022-12-29 11:45:00   88.49070\n",
       "97  2022-12-29 11:30:00   88.44370\n",
       "98  2022-12-29 11:15:00   88.31968\n",
       "99  2022-12-29 11:00:00   88.27268\n",
       "\n",
       "[100 rows x 2 columns]"
      ]
     },
     "execution_count": 226,
     "metadata": {},
     "output_type": "execute_result"
    }
   ],
   "source": [
    "###calculating moving average\n",
    "### function to calculate moving average on close data point\n",
    "def indicator1(df,timeperiod):\n",
    "    temp= pd.DataFrame()\n",
    "    temp[\"close\"] = df[\"close\"]\n",
    "    temp[\"MA\"] = temp[\"close\"].rolling(timeperiod).mean()\n",
    "    indicator_df = pd.DataFrame()\n",
    "    indicator_df[\"timestamp\"] = df[\"timestamp\"]\n",
    "    indicator_df[\"indicator\"] = temp[\"MA\"]\n",
    "    return indicator_df\n",
    "\n",
    "indicator1(script_data.main_var,5)"
   ]
  },
  {
   "cell_type": "code",
   "execution_count": 227,
   "id": "93024b79",
   "metadata": {
    "scrolled": true
   },
   "outputs": [],
   "source": [
    "### defining our strategy "
   ]
  },
  {
   "cell_type": "code",
   "execution_count": 252,
   "id": "59e0f38f",
   "metadata": {},
   "outputs": [
    {
     "name": "stdout",
     "output_type": "stream",
     "text": [
      "<class 'dict'>\n"
     ]
    },
    {
     "data": {
      "text/html": [
       "<div>\n",
       "<style scoped>\n",
       "    .dataframe tbody tr th:only-of-type {\n",
       "        vertical-align: middle;\n",
       "    }\n",
       "\n",
       "    .dataframe tbody tr th {\n",
       "        vertical-align: top;\n",
       "    }\n",
       "\n",
       "    .dataframe thead th {\n",
       "        text-align: right;\n",
       "    }\n",
       "</style>\n",
       "<table border=\"1\" class=\"dataframe\">\n",
       "  <thead>\n",
       "    <tr style=\"text-align: right;\">\n",
       "      <th></th>\n",
       "      <th>timestamp</th>\n",
       "      <th>signal</th>\n",
       "    </tr>\n",
       "  </thead>\n",
       "  <tbody>\n",
       "    <tr>\n",
       "      <th>8</th>\n",
       "      <td>2022-12-30 18:00:00</td>\n",
       "      <td>SELL</td>\n",
       "    </tr>\n",
       "    <tr>\n",
       "      <th>9</th>\n",
       "      <td>2022-12-30 17:45:00</td>\n",
       "      <td>BUY</td>\n",
       "    </tr>\n",
       "    <tr>\n",
       "      <th>10</th>\n",
       "      <td>2022-12-30 17:30:00</td>\n",
       "      <td>SELL</td>\n",
       "    </tr>\n",
       "    <tr>\n",
       "      <th>11</th>\n",
       "      <td>2022-12-30 17:15:00</td>\n",
       "      <td>BUY</td>\n",
       "    </tr>\n",
       "    <tr>\n",
       "      <th>12</th>\n",
       "      <td>2022-12-30 17:00:00</td>\n",
       "      <td>SELL</td>\n",
       "    </tr>\n",
       "    <tr>\n",
       "      <th>16</th>\n",
       "      <td>2022-12-30 16:00:00</td>\n",
       "      <td>BUY</td>\n",
       "    </tr>\n",
       "    <tr>\n",
       "      <th>24</th>\n",
       "      <td>2022-12-30 14:00:00</td>\n",
       "      <td>SELL</td>\n",
       "    </tr>\n",
       "    <tr>\n",
       "      <th>25</th>\n",
       "      <td>2022-12-30 13:45:00</td>\n",
       "      <td>BUY</td>\n",
       "    </tr>\n",
       "    <tr>\n",
       "      <th>27</th>\n",
       "      <td>2022-12-30 13:15:00</td>\n",
       "      <td>SELL</td>\n",
       "    </tr>\n",
       "    <tr>\n",
       "      <th>31</th>\n",
       "      <td>2022-12-30 12:15:00</td>\n",
       "      <td>BUY</td>\n",
       "    </tr>\n",
       "    <tr>\n",
       "      <th>41</th>\n",
       "      <td>2022-12-30 09:45:00</td>\n",
       "      <td>SELL</td>\n",
       "    </tr>\n",
       "    <tr>\n",
       "      <th>42</th>\n",
       "      <td>2022-12-30 09:30:00</td>\n",
       "      <td>BUY</td>\n",
       "    </tr>\n",
       "    <tr>\n",
       "      <th>43</th>\n",
       "      <td>2022-12-30 09:15:00</td>\n",
       "      <td>SELL</td>\n",
       "    </tr>\n",
       "    <tr>\n",
       "      <th>46</th>\n",
       "      <td>2022-12-30 08:30:00</td>\n",
       "      <td>BUY</td>\n",
       "    </tr>\n",
       "    <tr>\n",
       "      <th>47</th>\n",
       "      <td>2022-12-30 08:15:00</td>\n",
       "      <td>SELL</td>\n",
       "    </tr>\n",
       "    <tr>\n",
       "      <th>56</th>\n",
       "      <td>2022-12-30 05:45:00</td>\n",
       "      <td>BUY</td>\n",
       "    </tr>\n",
       "    <tr>\n",
       "      <th>63</th>\n",
       "      <td>2022-12-29 20:00:00</td>\n",
       "      <td>SELL</td>\n",
       "    </tr>\n",
       "    <tr>\n",
       "      <th>67</th>\n",
       "      <td>2022-12-29 19:00:00</td>\n",
       "      <td>BUY</td>\n",
       "    </tr>\n",
       "    <tr>\n",
       "      <th>68</th>\n",
       "      <td>2022-12-29 18:45:00</td>\n",
       "      <td>SELL</td>\n",
       "    </tr>\n",
       "    <tr>\n",
       "      <th>74</th>\n",
       "      <td>2022-12-29 17:15:00</td>\n",
       "      <td>BUY</td>\n",
       "    </tr>\n",
       "    <tr>\n",
       "      <th>75</th>\n",
       "      <td>2022-12-29 17:00:00</td>\n",
       "      <td>SELL</td>\n",
       "    </tr>\n",
       "    <tr>\n",
       "      <th>77</th>\n",
       "      <td>2022-12-29 16:30:00</td>\n",
       "      <td>BUY</td>\n",
       "    </tr>\n",
       "    <tr>\n",
       "      <th>78</th>\n",
       "      <td>2022-12-29 16:15:00</td>\n",
       "      <td>SELL</td>\n",
       "    </tr>\n",
       "    <tr>\n",
       "      <th>83</th>\n",
       "      <td>2022-12-29 15:00:00</td>\n",
       "      <td>BUY</td>\n",
       "    </tr>\n",
       "    <tr>\n",
       "      <th>84</th>\n",
       "      <td>2022-12-29 14:45:00</td>\n",
       "      <td>SELL</td>\n",
       "    </tr>\n",
       "    <tr>\n",
       "      <th>86</th>\n",
       "      <td>2022-12-29 14:15:00</td>\n",
       "      <td>BUY</td>\n",
       "    </tr>\n",
       "    <tr>\n",
       "      <th>93</th>\n",
       "      <td>2022-12-29 12:30:00</td>\n",
       "      <td>SELL</td>\n",
       "    </tr>\n",
       "    <tr>\n",
       "      <th>96</th>\n",
       "      <td>2022-12-29 11:45:00</td>\n",
       "      <td>BUY</td>\n",
       "    </tr>\n",
       "    <tr>\n",
       "      <th>99</th>\n",
       "      <td>2022-12-29 11:00:00</td>\n",
       "      <td>SELL</td>\n",
       "    </tr>\n",
       "  </tbody>\n",
       "</table>\n",
       "</div>"
      ],
      "text/plain": [
       "              timestamp signal\n",
       "8   2022-12-30 18:00:00   SELL\n",
       "9   2022-12-30 17:45:00    BUY\n",
       "10  2022-12-30 17:30:00   SELL\n",
       "11  2022-12-30 17:15:00    BUY\n",
       "12  2022-12-30 17:00:00   SELL\n",
       "16  2022-12-30 16:00:00    BUY\n",
       "24  2022-12-30 14:00:00   SELL\n",
       "25  2022-12-30 13:45:00    BUY\n",
       "27  2022-12-30 13:15:00   SELL\n",
       "31  2022-12-30 12:15:00    BUY\n",
       "41  2022-12-30 09:45:00   SELL\n",
       "42  2022-12-30 09:30:00    BUY\n",
       "43  2022-12-30 09:15:00   SELL\n",
       "46  2022-12-30 08:30:00    BUY\n",
       "47  2022-12-30 08:15:00   SELL\n",
       "56  2022-12-30 05:45:00    BUY\n",
       "63  2022-12-29 20:00:00   SELL\n",
       "67  2022-12-29 19:00:00    BUY\n",
       "68  2022-12-29 18:45:00   SELL\n",
       "74  2022-12-29 17:15:00    BUY\n",
       "75  2022-12-29 17:00:00   SELL\n",
       "77  2022-12-29 16:30:00    BUY\n",
       "78  2022-12-29 16:15:00   SELL\n",
       "83  2022-12-29 15:00:00    BUY\n",
       "84  2022-12-29 14:45:00   SELL\n",
       "86  2022-12-29 14:15:00    BUY\n",
       "93  2022-12-29 12:30:00   SELL\n",
       "96  2022-12-29 11:45:00    BUY\n",
       "99  2022-12-29 11:00:00   SELL"
      ]
     },
     "execution_count": 252,
     "metadata": {},
     "output_type": "execute_result"
    }
   ],
   "source": [
    "class Strategy:\n",
    "    def __init__(self,script):\n",
    "        self.script = script\n",
    "    ##fetching the required data\n",
    "    def get_script_data(self):\n",
    "        script_data.fetch_intraday_data(self.script)\n",
    "        script_data.convert_intraday_data(self.script)\n",
    "    \n",
    "    ##function to geerate signals\n",
    "    def get_signal(self):\n",
    "        signals = pd.DataFrame()\n",
    "        signals[\"timestamp\"] = script_data.main_var[\"timestamp\"]\n",
    "        signals[\"signal\"] = None\n",
    "        close_data = script_data.main_var[\"close\"]\n",
    "        indicator_data = indicator1(script_data.main_var,5)[\"indicator\"]\n",
    "        temp = pd.DataFrame()###temproray dtaframe\n",
    "        temp[\"prev_indicator\"] = indicator_data.shift(1)\n",
    "        temp[\"indicator\"] = indicator_data\n",
    "        temp[\"close\"] = close_data\n",
    "        temp = temp.astype(float)\n",
    "\n",
    "            \n",
    "        prev_indicator = indicator_data.shift(1)##prev indicator value in column\n",
    "        prev_close = temp[\"close\"].shift(1)##prev closevalue in column\n",
    "        \n",
    "        \n",
    "        \n",
    "        ##defining cut_upwards , cut_downward, \n",
    "        ## if the current indicator value is greater than close and previous indicator value is less then previous the it is a \"BULLISH\" crossover\n",
    "        ##if the current indicator value is less than close and previous indicator value is greater then previous the it is a \"BEARISH\" crossover\n",
    "\n",
    "        upward_crossing  = ((temp['indicator'] > temp['close']) & (prev_indicator < prev_close))## returns true if cndition is matced\n",
    "        downward_crossing = ((temp['indicator'] < temp['close']) & (prev_indicator > prev_close))      \n",
    "        \n",
    "\n",
    "        temp[\"upward_crossing\"] = upward_crossing\n",
    "        temp[\"downward_crossing\"]= downward_crossing\n",
    "        #print(signals) \n",
    "        ## here we are assigning BUY and sell value if the value of upward_crossing& downward_Crossing is TRUE\n",
    "        for i in range(len(temp[\"upward_crossing\"])):\n",
    "            if temp[\"upward_crossing\"][i] == True:\n",
    "                signals[\"signal\"][i] = \"BUY\"\n",
    "        for i in range(len(temp[\"downward_crossing\"])):\n",
    "            if temp[\"downward_crossing\"][i] == True:\n",
    "                signals[\"signal\"][i] = \"SELL\"\n",
    "            #if there is no buy and sell seignal we assign that column with \"NO SISGNAL\"\n",
    "            elif signals[\"signal\"][i] == None:\n",
    "                signals[\"signal\"][i] = \"NO SIGNAL\"\n",
    "                \n",
    "        signal_lst = [\"BUY\",\"SELL\"]\n",
    "        #print(temp)\n",
    "        ##returning the dataframe with only buy and sell value \n",
    "        return signals[signals.signal.isin(signal_lst)]\n",
    "        \n",
    "        \n",
    "strat = Strategy(\"GOOGL\")\n",
    "strat.get_script_data()\n",
    "strat.get_signal()"
   ]
  },
  {
   "cell_type": "code",
   "execution_count": 229,
   "id": "d53638e5",
   "metadata": {},
   "outputs": [
    {
     "name": "stdout",
     "output_type": "stream",
     "text": [
      "Requirement already satisfied: pyalgotrading in c:\\users\\dell\\anaconda3\\lib\\site-packages (2022.9.3)\n",
      "Requirement already satisfied: requests>=2.24.0 in c:\\users\\dell\\anaconda3\\lib\\site-packages (from pyalgotrading) (2.24.0)\n",
      "Requirement already satisfied: pandas>=0.25.3 in c:\\users\\dell\\anaconda3\\lib\\site-packages (from pyalgotrading) (1.2.4)\n",
      "Requirement already satisfied: python-dateutil>=2.7.3 in c:\\users\\dell\\anaconda3\\lib\\site-packages (from pandas>=0.25.3->pyalgotrading) (2.8.1)\n",
      "Requirement already satisfied: numpy>=1.16.5 in c:\\users\\dell\\anaconda3\\lib\\site-packages (from pandas>=0.25.3->pyalgotrading) (1.22.4)\n",
      "Requirement already satisfied: pytz>=2017.3 in c:\\users\\dell\\anaconda3\\lib\\site-packages (from pandas>=0.25.3->pyalgotrading) (2020.1)\n",
      "Requirement already satisfied: six>=1.5 in c:\\users\\dell\\anaconda3\\lib\\site-packages (from python-dateutil>=2.7.3->pandas>=0.25.3->pyalgotrading) (1.15.0)\n",
      "Requirement already satisfied: certifi>=2017.4.17 in c:\\users\\dell\\anaconda3\\lib\\site-packages (from requests>=2.24.0->pyalgotrading) (2020.6.20)\n",
      "Requirement already satisfied: urllib3!=1.25.0,!=1.25.1,<1.26,>=1.21.1 in c:\\users\\dell\\anaconda3\\lib\\site-packages (from requests>=2.24.0->pyalgotrading) (1.25.10)\n",
      "Requirement already satisfied: idna<3,>=2.5 in c:\\users\\dell\\anaconda3\\lib\\site-packages (from requests>=2.24.0->pyalgotrading) (2.10)\n",
      "Requirement already satisfied: chardet<4,>=3.0.2 in c:\\users\\dell\\anaconda3\\lib\\site-packages (from requests>=2.24.0->pyalgotrading) (3.0.4)\n"
     ]
    }
   ],
   "source": [
    "#!pip install pyalgotrading"
   ]
  },
  {
   "cell_type": "code",
   "execution_count": 230,
   "id": "a6e7ad01",
   "metadata": {},
   "outputs": [],
   "source": [
    "from pyalgotrading.utils.candlesticks.heikinashi import HeikinAshi\n",
    "df = script_data.main_var\n",
    "df['timestamp'] = df['timestamp'].astype('datetime64[ns]')\n",
    "df = df.astype({col: float for col in df.columns[1:]})\n",
    "\n"
   ]
  },
  {
   "cell_type": "code",
   "execution_count": 231,
   "id": "716cfe7d",
   "metadata": {},
   "outputs": [
    {
     "data": {
      "text/html": [
       "<div>\n",
       "<style scoped>\n",
       "    .dataframe tbody tr th:only-of-type {\n",
       "        vertical-align: middle;\n",
       "    }\n",
       "\n",
       "    .dataframe tbody tr th {\n",
       "        vertical-align: top;\n",
       "    }\n",
       "\n",
       "    .dataframe thead th {\n",
       "        text-align: right;\n",
       "    }\n",
       "</style>\n",
       "<table border=\"1\" class=\"dataframe\">\n",
       "  <thead>\n",
       "    <tr style=\"text-align: right;\">\n",
       "      <th></th>\n",
       "      <th>timestamp</th>\n",
       "      <th>open</th>\n",
       "      <th>high</th>\n",
       "      <th>low</th>\n",
       "      <th>close</th>\n",
       "    </tr>\n",
       "  </thead>\n",
       "  <tbody>\n",
       "    <tr>\n",
       "      <th>0</th>\n",
       "      <td>2022-12-30 20:00:00</td>\n",
       "      <td>88.535000</td>\n",
       "      <td>88.570000</td>\n",
       "      <td>88.480</td>\n",
       "      <td>88.53000</td>\n",
       "    </tr>\n",
       "    <tr>\n",
       "      <th>1</th>\n",
       "      <td>2022-12-30 19:45:00</td>\n",
       "      <td>88.532500</td>\n",
       "      <td>88.532500</td>\n",
       "      <td>88.450</td>\n",
       "      <td>88.46500</td>\n",
       "    </tr>\n",
       "    <tr>\n",
       "      <th>2</th>\n",
       "      <td>2022-12-30 19:30:00</td>\n",
       "      <td>88.498750</td>\n",
       "      <td>88.498750</td>\n",
       "      <td>88.480</td>\n",
       "      <td>88.48000</td>\n",
       "    </tr>\n",
       "    <tr>\n",
       "      <th>3</th>\n",
       "      <td>2022-12-30 19:15:00</td>\n",
       "      <td>88.489375</td>\n",
       "      <td>88.489375</td>\n",
       "      <td>88.450</td>\n",
       "      <td>88.45500</td>\n",
       "    </tr>\n",
       "    <tr>\n",
       "      <th>4</th>\n",
       "      <td>2022-12-30 19:00:00</td>\n",
       "      <td>88.472187</td>\n",
       "      <td>88.472187</td>\n",
       "      <td>88.400</td>\n",
       "      <td>88.41000</td>\n",
       "    </tr>\n",
       "    <tr>\n",
       "      <th>...</th>\n",
       "      <td>...</td>\n",
       "      <td>...</td>\n",
       "      <td>...</td>\n",
       "      <td>...</td>\n",
       "      <td>...</td>\n",
       "    </tr>\n",
       "    <tr>\n",
       "      <th>95</th>\n",
       "      <td>2022-12-29 12:00:00</td>\n",
       "      <td>88.518225</td>\n",
       "      <td>88.630000</td>\n",
       "      <td>88.335</td>\n",
       "      <td>88.45250</td>\n",
       "    </tr>\n",
       "    <tr>\n",
       "      <th>96</th>\n",
       "      <td>2022-12-29 11:45:00</td>\n",
       "      <td>88.485363</td>\n",
       "      <td>88.485363</td>\n",
       "      <td>88.130</td>\n",
       "      <td>88.25085</td>\n",
       "    </tr>\n",
       "    <tr>\n",
       "      <th>97</th>\n",
       "      <td>2022-12-29 11:30:00</td>\n",
       "      <td>88.368106</td>\n",
       "      <td>88.368106</td>\n",
       "      <td>88.005</td>\n",
       "      <td>88.09750</td>\n",
       "    </tr>\n",
       "    <tr>\n",
       "      <th>98</th>\n",
       "      <td>2022-12-29 11:15:00</td>\n",
       "      <td>88.232803</td>\n",
       "      <td>88.430000</td>\n",
       "      <td>87.980</td>\n",
       "      <td>88.20000</td>\n",
       "    </tr>\n",
       "    <tr>\n",
       "      <th>99</th>\n",
       "      <td>2022-12-29 11:00:00</td>\n",
       "      <td>88.216402</td>\n",
       "      <td>88.345000</td>\n",
       "      <td>88.035</td>\n",
       "      <td>88.19625</td>\n",
       "    </tr>\n",
       "  </tbody>\n",
       "</table>\n",
       "<p>100 rows × 5 columns</p>\n",
       "</div>"
      ],
      "text/plain": [
       "             timestamp       open       high     low     close\n",
       "0  2022-12-30 20:00:00  88.535000  88.570000  88.480  88.53000\n",
       "1  2022-12-30 19:45:00  88.532500  88.532500  88.450  88.46500\n",
       "2  2022-12-30 19:30:00  88.498750  88.498750  88.480  88.48000\n",
       "3  2022-12-30 19:15:00  88.489375  88.489375  88.450  88.45500\n",
       "4  2022-12-30 19:00:00  88.472187  88.472187  88.400  88.41000\n",
       "..                 ...        ...        ...     ...       ...\n",
       "95 2022-12-29 12:00:00  88.518225  88.630000  88.335  88.45250\n",
       "96 2022-12-29 11:45:00  88.485363  88.485363  88.130  88.25085\n",
       "97 2022-12-29 11:30:00  88.368106  88.368106  88.005  88.09750\n",
       "98 2022-12-29 11:15:00  88.232803  88.430000  87.980  88.20000\n",
       "99 2022-12-29 11:00:00  88.216402  88.345000  88.035  88.19625\n",
       "\n",
       "[100 rows x 5 columns]"
      ]
     },
     "execution_count": 231,
     "metadata": {},
     "output_type": "execute_result"
    }
   ],
   "source": [
    "HeikinAshi(df)\n"
   ]
  },
  {
   "cell_type": "code",
   "execution_count": 253,
   "id": "fbd48af6",
   "metadata": {},
   "outputs": [
    {
     "data": {
      "application/vnd.plotly.v1+json": {
       "config": {
        "plotlyServerURL": "https://plot.ly"
       },
       "data": [
        {
         "close": [
          88.55,
          88.45,
          88.48,
          88.45,
          88.4,
          88.44,
          88.44,
          88.35,
          88.4199,
          88.38,
          88.41,
          88.38,
          88.5,
          88.5,
          88.48,
          88.4896,
          88.24,
          87.675,
          87.5115,
          87.585,
          87.205,
          87.1832,
          87.13,
          87.04,
          87.14,
          87.04,
          87,
          87.25,
          87.46,
          87.445,
          87.4367,
          87.3001,
          87.3815,
          87.355,
          87.35,
          87.25,
          87.24,
          87.185,
          87.045,
          86.93,
          87.02,
          87.0801,
          86.93,
          87.3,
          87.4,
          87.2,
          87.13,
          87.5,
          87.56,
          87.35,
          87.7,
          87.74,
          87.91,
          87.87,
          87.96,
          87.95,
          87.92,
          87.91,
          87.87,
          87.81,
          87.8,
          87.74,
          87.78,
          88.1,
          88.1,
          88.05,
          88.05,
          88,
          88.1,
          88.2,
          88.37,
          88.32,
          88.28,
          88.4,
          88.3404,
          88.34,
          88.36,
          88.34,
          88.46,
          88.41,
          88.74,
          88.72,
          88.615,
          88.555,
          88.67,
          88.651,
          88.5612,
          88.555,
          88.545,
          88.42,
          88.33,
          88.37,
          88.36,
          88.7001,
          88.545,
          88.5,
          88.3484,
          88.125,
          88.08,
          88.31
         ],
         "high": [
          88.57,
          88.5,
          88.48,
          88.46,
          88.42,
          88.45,
          88.44,
          88.4,
          88.4199,
          88.44,
          88.43,
          88.4815,
          88.6,
          88.52,
          88.74,
          88.5,
          88.3,
          87.755,
          87.745,
          87.67,
          87.35,
          87.24,
          87.155,
          87.155,
          87.18,
          87.24,
          87.28,
          87.47,
          87.49,
          87.5151,
          87.5,
          87.394,
          87.45,
          87.5138,
          87.39,
          87.5795,
          87.55,
          87.2699,
          87.2236,
          87.06,
          87.18,
          87.24,
          87.3,
          87.38,
          87.48,
          87.45,
          87.35,
          87.84,
          87.56,
          87.55,
          87.75,
          87.98,
          87.91,
          87.87,
          87.98,
          87.95,
          87.95,
          87.98,
          87.87,
          87.81,
          87.8,
          87.81,
          87.78,
          88.14,
          88.12,
          88.14,
          88.12,
          88.15,
          88.22,
          88.28,
          88.37,
          88.35,
          88.3424,
          88.4,
          88.4642,
          88.42,
          88.45,
          88.45,
          88.49,
          88.79,
          88.845,
          88.81,
          88.73,
          88.75,
          88.75,
          88.74,
          88.74,
          88.59,
          88.56,
          88.48,
          88.3999,
          88.44,
          88.81,
          88.78,
          88.547,
          88.63,
          88.395,
          88.18,
          88.43,
          88.345
         ],
         "low": [
          88.48,
          88.45,
          88.48,
          88.45,
          88.4,
          88.36,
          88.35,
          88.35,
          88.36,
          88.38,
          88.41,
          88.38,
          88.42,
          88.41,
          88.23,
          88.22,
          87.66,
          87.48,
          87.49,
          87.2,
          87.13,
          87.11,
          86.94,
          86.94,
          86.98,
          86.96,
          86.7,
          87.225,
          87.255,
          87.342,
          87.305,
          87.18,
          87.21,
          87.33,
          87.15,
          87.21,
          87.14,
          86.89,
          86.88,
          86.78,
          86.57,
          86.66,
          86.69,
          87.24,
          87.34,
          87.1343,
          87.13,
          87.34,
          87.4,
          87.3,
          87.7,
          87.74,
          87.91,
          87.87,
          87.96,
          87.95,
          87.92,
          87.91,
          87.87,
          87.81,
          87.8,
          87.74,
          87.49,
          88.1,
          88,
          88.05,
          88.05,
          87.99,
          88.1,
          88.16,
          88.27,
          88.3,
          88.28,
          88.33,
          88.3401,
          88.3101,
          88.36,
          88.34,
          88.41,
          88.34,
          88.705,
          88.55,
          88.5,
          88.47,
          88.595,
          88.52,
          88.54,
          88.46,
          88.2807,
          88.25,
          88.21,
          88.31,
          88.33,
          88.52,
          88.34,
          88.335,
          88.13,
          88.005,
          87.98,
          88.035
         ],
         "name": "Historical Data",
         "open": [
          88.52,
          88.46,
          88.48,
          88.46,
          88.42,
          88.37,
          88.39,
          88.36,
          88.36,
          88.44,
          88.43,
          88.4815,
          88.5,
          88.48,
          88.45,
          88.23,
          87.675,
          87.51,
          87.59,
          87.205,
          87.19,
          87.14,
          87.03,
          87.14,
          87.0353,
          86.989,
          87.26,
          87.46,
          87.45,
          87.435,
          87.31,
          87.38,
          87.36,
          87.35,
          87.26,
          87.235,
          87.1895,
          87.03,
          86.925,
          87,
          87.09,
          86.98,
          87.29,
          87.24,
          87.34,
          87.1442,
          87.35,
          87.7402,
          87.41,
          87.54,
          87.74,
          87.98,
          87.91,
          87.87,
          87.98,
          87.95,
          87.95,
          87.98,
          87.87,
          87.81,
          87.8,
          87.81,
          87.59,
          88.1,
          88.05,
          88.05,
          88.05,
          88.15,
          88.2,
          88.28,
          88.28,
          88.33,
          88.341,
          88.37,
          88.4642,
          88.39,
          88.45,
          88.43,
          88.45,
          88.73,
          88.715,
          88.62,
          88.555,
          88.66,
          88.65,
          88.56,
          88.55,
          88.55,
          88.41,
          88.34,
          88.38,
          88.365,
          88.71,
          88.545,
          88.51,
          88.345,
          88.13,
          88.08,
          88.31,
          88.095
         ],
         "type": "candlestick",
         "x": [
          "2022-12-30T20:00:00",
          "2022-12-30T19:45:00",
          "2022-12-30T19:30:00",
          "2022-12-30T19:15:00",
          "2022-12-30T19:00:00",
          "2022-12-30T18:45:00",
          "2022-12-30T18:30:00",
          "2022-12-30T18:15:00",
          "2022-12-30T18:00:00",
          "2022-12-30T17:45:00",
          "2022-12-30T17:30:00",
          "2022-12-30T17:15:00",
          "2022-12-30T17:00:00",
          "2022-12-30T16:45:00",
          "2022-12-30T16:30:00",
          "2022-12-30T16:15:00",
          "2022-12-30T16:00:00",
          "2022-12-30T15:45:00",
          "2022-12-30T15:30:00",
          "2022-12-30T15:15:00",
          "2022-12-30T15:00:00",
          "2022-12-30T14:45:00",
          "2022-12-30T14:30:00",
          "2022-12-30T14:15:00",
          "2022-12-30T14:00:00",
          "2022-12-30T13:45:00",
          "2022-12-30T13:30:00",
          "2022-12-30T13:15:00",
          "2022-12-30T13:00:00",
          "2022-12-30T12:45:00",
          "2022-12-30T12:30:00",
          "2022-12-30T12:15:00",
          "2022-12-30T12:00:00",
          "2022-12-30T11:45:00",
          "2022-12-30T11:30:00",
          "2022-12-30T11:15:00",
          "2022-12-30T11:00:00",
          "2022-12-30T10:45:00",
          "2022-12-30T10:30:00",
          "2022-12-30T10:15:00",
          "2022-12-30T10:00:00",
          "2022-12-30T09:45:00",
          "2022-12-30T09:30:00",
          "2022-12-30T09:15:00",
          "2022-12-30T09:00:00",
          "2022-12-30T08:45:00",
          "2022-12-30T08:30:00",
          "2022-12-30T08:15:00",
          "2022-12-30T08:00:00",
          "2022-12-30T07:45:00",
          "2022-12-30T07:30:00",
          "2022-12-30T07:15:00",
          "2022-12-30T07:00:00",
          "2022-12-30T06:30:00",
          "2022-12-30T06:15:00",
          "2022-12-30T06:00:00",
          "2022-12-30T05:45:00",
          "2022-12-30T05:30:00",
          "2022-12-30T05:15:00",
          "2022-12-30T05:00:00",
          "2022-12-30T04:45:00",
          "2022-12-30T04:30:00",
          "2022-12-30T04:15:00",
          "2022-12-29T20:00:00",
          "2022-12-29T19:45:00",
          "2022-12-29T19:30:00",
          "2022-12-29T19:15:00",
          "2022-12-29T19:00:00",
          "2022-12-29T18:45:00",
          "2022-12-29T18:30:00",
          "2022-12-29T18:15:00",
          "2022-12-29T18:00:00",
          "2022-12-29T17:45:00",
          "2022-12-29T17:30:00",
          "2022-12-29T17:15:00",
          "2022-12-29T17:00:00",
          "2022-12-29T16:45:00",
          "2022-12-29T16:30:00",
          "2022-12-29T16:15:00",
          "2022-12-29T16:00:00",
          "2022-12-29T15:45:00",
          "2022-12-29T15:30:00",
          "2022-12-29T15:15:00",
          "2022-12-29T15:00:00",
          "2022-12-29T14:45:00",
          "2022-12-29T14:30:00",
          "2022-12-29T14:15:00",
          "2022-12-29T14:00:00",
          "2022-12-29T13:45:00",
          "2022-12-29T13:30:00",
          "2022-12-29T13:15:00",
          "2022-12-29T13:00:00",
          "2022-12-29T12:45:00",
          "2022-12-29T12:30:00",
          "2022-12-29T12:15:00",
          "2022-12-29T12:00:00",
          "2022-12-29T11:45:00",
          "2022-12-29T11:30:00",
          "2022-12-29T11:15:00",
          "2022-12-29T11:00:00"
         ],
         "xaxis": "x",
         "yaxis": "y"
        }
       ],
       "layout": {
        "height": 500,
        "template": {
         "data": {
          "bar": [
           {
            "error_x": {
             "color": "#2a3f5f"
            },
            "error_y": {
             "color": "#2a3f5f"
            },
            "marker": {
             "line": {
              "color": "#E5ECF6",
              "width": 0.5
             },
             "pattern": {
              "fillmode": "overlay",
              "size": 10,
              "solidity": 0.2
             }
            },
            "type": "bar"
           }
          ],
          "barpolar": [
           {
            "marker": {
             "line": {
              "color": "#E5ECF6",
              "width": 0.5
             },
             "pattern": {
              "fillmode": "overlay",
              "size": 10,
              "solidity": 0.2
             }
            },
            "type": "barpolar"
           }
          ],
          "carpet": [
           {
            "aaxis": {
             "endlinecolor": "#2a3f5f",
             "gridcolor": "white",
             "linecolor": "white",
             "minorgridcolor": "white",
             "startlinecolor": "#2a3f5f"
            },
            "baxis": {
             "endlinecolor": "#2a3f5f",
             "gridcolor": "white",
             "linecolor": "white",
             "minorgridcolor": "white",
             "startlinecolor": "#2a3f5f"
            },
            "type": "carpet"
           }
          ],
          "choropleth": [
           {
            "colorbar": {
             "outlinewidth": 0,
             "ticks": ""
            },
            "type": "choropleth"
           }
          ],
          "contour": [
           {
            "colorbar": {
             "outlinewidth": 0,
             "ticks": ""
            },
            "colorscale": [
             [
              0,
              "#0d0887"
             ],
             [
              0.1111111111111111,
              "#46039f"
             ],
             [
              0.2222222222222222,
              "#7201a8"
             ],
             [
              0.3333333333333333,
              "#9c179e"
             ],
             [
              0.4444444444444444,
              "#bd3786"
             ],
             [
              0.5555555555555556,
              "#d8576b"
             ],
             [
              0.6666666666666666,
              "#ed7953"
             ],
             [
              0.7777777777777778,
              "#fb9f3a"
             ],
             [
              0.8888888888888888,
              "#fdca26"
             ],
             [
              1,
              "#f0f921"
             ]
            ],
            "type": "contour"
           }
          ],
          "contourcarpet": [
           {
            "colorbar": {
             "outlinewidth": 0,
             "ticks": ""
            },
            "type": "contourcarpet"
           }
          ],
          "heatmap": [
           {
            "colorbar": {
             "outlinewidth": 0,
             "ticks": ""
            },
            "colorscale": [
             [
              0,
              "#0d0887"
             ],
             [
              0.1111111111111111,
              "#46039f"
             ],
             [
              0.2222222222222222,
              "#7201a8"
             ],
             [
              0.3333333333333333,
              "#9c179e"
             ],
             [
              0.4444444444444444,
              "#bd3786"
             ],
             [
              0.5555555555555556,
              "#d8576b"
             ],
             [
              0.6666666666666666,
              "#ed7953"
             ],
             [
              0.7777777777777778,
              "#fb9f3a"
             ],
             [
              0.8888888888888888,
              "#fdca26"
             ],
             [
              1,
              "#f0f921"
             ]
            ],
            "type": "heatmap"
           }
          ],
          "heatmapgl": [
           {
            "colorbar": {
             "outlinewidth": 0,
             "ticks": ""
            },
            "colorscale": [
             [
              0,
              "#0d0887"
             ],
             [
              0.1111111111111111,
              "#46039f"
             ],
             [
              0.2222222222222222,
              "#7201a8"
             ],
             [
              0.3333333333333333,
              "#9c179e"
             ],
             [
              0.4444444444444444,
              "#bd3786"
             ],
             [
              0.5555555555555556,
              "#d8576b"
             ],
             [
              0.6666666666666666,
              "#ed7953"
             ],
             [
              0.7777777777777778,
              "#fb9f3a"
             ],
             [
              0.8888888888888888,
              "#fdca26"
             ],
             [
              1,
              "#f0f921"
             ]
            ],
            "type": "heatmapgl"
           }
          ],
          "histogram": [
           {
            "marker": {
             "pattern": {
              "fillmode": "overlay",
              "size": 10,
              "solidity": 0.2
             }
            },
            "type": "histogram"
           }
          ],
          "histogram2d": [
           {
            "colorbar": {
             "outlinewidth": 0,
             "ticks": ""
            },
            "colorscale": [
             [
              0,
              "#0d0887"
             ],
             [
              0.1111111111111111,
              "#46039f"
             ],
             [
              0.2222222222222222,
              "#7201a8"
             ],
             [
              0.3333333333333333,
              "#9c179e"
             ],
             [
              0.4444444444444444,
              "#bd3786"
             ],
             [
              0.5555555555555556,
              "#d8576b"
             ],
             [
              0.6666666666666666,
              "#ed7953"
             ],
             [
              0.7777777777777778,
              "#fb9f3a"
             ],
             [
              0.8888888888888888,
              "#fdca26"
             ],
             [
              1,
              "#f0f921"
             ]
            ],
            "type": "histogram2d"
           }
          ],
          "histogram2dcontour": [
           {
            "colorbar": {
             "outlinewidth": 0,
             "ticks": ""
            },
            "colorscale": [
             [
              0,
              "#0d0887"
             ],
             [
              0.1111111111111111,
              "#46039f"
             ],
             [
              0.2222222222222222,
              "#7201a8"
             ],
             [
              0.3333333333333333,
              "#9c179e"
             ],
             [
              0.4444444444444444,
              "#bd3786"
             ],
             [
              0.5555555555555556,
              "#d8576b"
             ],
             [
              0.6666666666666666,
              "#ed7953"
             ],
             [
              0.7777777777777778,
              "#fb9f3a"
             ],
             [
              0.8888888888888888,
              "#fdca26"
             ],
             [
              1,
              "#f0f921"
             ]
            ],
            "type": "histogram2dcontour"
           }
          ],
          "mesh3d": [
           {
            "colorbar": {
             "outlinewidth": 0,
             "ticks": ""
            },
            "type": "mesh3d"
           }
          ],
          "parcoords": [
           {
            "line": {
             "colorbar": {
              "outlinewidth": 0,
              "ticks": ""
             }
            },
            "type": "parcoords"
           }
          ],
          "pie": [
           {
            "automargin": true,
            "type": "pie"
           }
          ],
          "scatter": [
           {
            "fillpattern": {
             "fillmode": "overlay",
             "size": 10,
             "solidity": 0.2
            },
            "type": "scatter"
           }
          ],
          "scatter3d": [
           {
            "line": {
             "colorbar": {
              "outlinewidth": 0,
              "ticks": ""
             }
            },
            "marker": {
             "colorbar": {
              "outlinewidth": 0,
              "ticks": ""
             }
            },
            "type": "scatter3d"
           }
          ],
          "scattercarpet": [
           {
            "marker": {
             "colorbar": {
              "outlinewidth": 0,
              "ticks": ""
             }
            },
            "type": "scattercarpet"
           }
          ],
          "scattergeo": [
           {
            "marker": {
             "colorbar": {
              "outlinewidth": 0,
              "ticks": ""
             }
            },
            "type": "scattergeo"
           }
          ],
          "scattergl": [
           {
            "marker": {
             "colorbar": {
              "outlinewidth": 0,
              "ticks": ""
             }
            },
            "type": "scattergl"
           }
          ],
          "scattermapbox": [
           {
            "marker": {
             "colorbar": {
              "outlinewidth": 0,
              "ticks": ""
             }
            },
            "type": "scattermapbox"
           }
          ],
          "scatterpolar": [
           {
            "marker": {
             "colorbar": {
              "outlinewidth": 0,
              "ticks": ""
             }
            },
            "type": "scatterpolar"
           }
          ],
          "scatterpolargl": [
           {
            "marker": {
             "colorbar": {
              "outlinewidth": 0,
              "ticks": ""
             }
            },
            "type": "scatterpolargl"
           }
          ],
          "scatterternary": [
           {
            "marker": {
             "colorbar": {
              "outlinewidth": 0,
              "ticks": ""
             }
            },
            "type": "scatterternary"
           }
          ],
          "surface": [
           {
            "colorbar": {
             "outlinewidth": 0,
             "ticks": ""
            },
            "colorscale": [
             [
              0,
              "#0d0887"
             ],
             [
              0.1111111111111111,
              "#46039f"
             ],
             [
              0.2222222222222222,
              "#7201a8"
             ],
             [
              0.3333333333333333,
              "#9c179e"
             ],
             [
              0.4444444444444444,
              "#bd3786"
             ],
             [
              0.5555555555555556,
              "#d8576b"
             ],
             [
              0.6666666666666666,
              "#ed7953"
             ],
             [
              0.7777777777777778,
              "#fb9f3a"
             ],
             [
              0.8888888888888888,
              "#fdca26"
             ],
             [
              1,
              "#f0f921"
             ]
            ],
            "type": "surface"
           }
          ],
          "table": [
           {
            "cells": {
             "fill": {
              "color": "#EBF0F8"
             },
             "line": {
              "color": "white"
             }
            },
            "header": {
             "fill": {
              "color": "#C8D4E3"
             },
             "line": {
              "color": "white"
             }
            },
            "type": "table"
           }
          ]
         },
         "layout": {
          "annotationdefaults": {
           "arrowcolor": "#2a3f5f",
           "arrowhead": 0,
           "arrowwidth": 1
          },
          "autotypenumbers": "strict",
          "coloraxis": {
           "colorbar": {
            "outlinewidth": 0,
            "ticks": ""
           }
          },
          "colorscale": {
           "diverging": [
            [
             0,
             "#8e0152"
            ],
            [
             0.1,
             "#c51b7d"
            ],
            [
             0.2,
             "#de77ae"
            ],
            [
             0.3,
             "#f1b6da"
            ],
            [
             0.4,
             "#fde0ef"
            ],
            [
             0.5,
             "#f7f7f7"
            ],
            [
             0.6,
             "#e6f5d0"
            ],
            [
             0.7,
             "#b8e186"
            ],
            [
             0.8,
             "#7fbc41"
            ],
            [
             0.9,
             "#4d9221"
            ],
            [
             1,
             "#276419"
            ]
           ],
           "sequential": [
            [
             0,
             "#0d0887"
            ],
            [
             0.1111111111111111,
             "#46039f"
            ],
            [
             0.2222222222222222,
             "#7201a8"
            ],
            [
             0.3333333333333333,
             "#9c179e"
            ],
            [
             0.4444444444444444,
             "#bd3786"
            ],
            [
             0.5555555555555556,
             "#d8576b"
            ],
            [
             0.6666666666666666,
             "#ed7953"
            ],
            [
             0.7777777777777778,
             "#fb9f3a"
            ],
            [
             0.8888888888888888,
             "#fdca26"
            ],
            [
             1,
             "#f0f921"
            ]
           ],
           "sequentialminus": [
            [
             0,
             "#0d0887"
            ],
            [
             0.1111111111111111,
             "#46039f"
            ],
            [
             0.2222222222222222,
             "#7201a8"
            ],
            [
             0.3333333333333333,
             "#9c179e"
            ],
            [
             0.4444444444444444,
             "#bd3786"
            ],
            [
             0.5555555555555556,
             "#d8576b"
            ],
            [
             0.6666666666666666,
             "#ed7953"
            ],
            [
             0.7777777777777778,
             "#fb9f3a"
            ],
            [
             0.8888888888888888,
             "#fdca26"
            ],
            [
             1,
             "#f0f921"
            ]
           ]
          },
          "colorway": [
           "#636efa",
           "#EF553B",
           "#00cc96",
           "#ab63fa",
           "#FFA15A",
           "#19d3f3",
           "#FF6692",
           "#B6E880",
           "#FF97FF",
           "#FECB52"
          ],
          "font": {
           "color": "#2a3f5f"
          },
          "geo": {
           "bgcolor": "white",
           "lakecolor": "white",
           "landcolor": "#E5ECF6",
           "showlakes": true,
           "showland": true,
           "subunitcolor": "white"
          },
          "hoverlabel": {
           "align": "left"
          },
          "hovermode": "closest",
          "mapbox": {
           "style": "light"
          },
          "paper_bgcolor": "white",
          "plot_bgcolor": "#E5ECF6",
          "polar": {
           "angularaxis": {
            "gridcolor": "white",
            "linecolor": "white",
            "ticks": ""
           },
           "bgcolor": "#E5ECF6",
           "radialaxis": {
            "gridcolor": "white",
            "linecolor": "white",
            "ticks": ""
           }
          },
          "scene": {
           "xaxis": {
            "backgroundcolor": "#E5ECF6",
            "gridcolor": "white",
            "gridwidth": 2,
            "linecolor": "white",
            "showbackground": true,
            "ticks": "",
            "zerolinecolor": "white"
           },
           "yaxis": {
            "backgroundcolor": "#E5ECF6",
            "gridcolor": "white",
            "gridwidth": 2,
            "linecolor": "white",
            "showbackground": true,
            "ticks": "",
            "zerolinecolor": "white"
           },
           "zaxis": {
            "backgroundcolor": "#E5ECF6",
            "gridcolor": "white",
            "gridwidth": 2,
            "linecolor": "white",
            "showbackground": true,
            "ticks": "",
            "zerolinecolor": "white"
           }
          },
          "shapedefaults": {
           "line": {
            "color": "#2a3f5f"
           }
          },
          "ternary": {
           "aaxis": {
            "gridcolor": "white",
            "linecolor": "white",
            "ticks": ""
           },
           "baxis": {
            "gridcolor": "white",
            "linecolor": "white",
            "ticks": ""
           },
           "bgcolor": "#E5ECF6",
           "caxis": {
            "gridcolor": "white",
            "linecolor": "white",
            "ticks": ""
           }
          },
          "title": {
           "x": 0.05
          },
          "xaxis": {
           "automargin": true,
           "gridcolor": "white",
           "linecolor": "white",
           "ticks": "",
           "title": {
            "standoff": 15
           },
           "zerolinecolor": "white",
           "zerolinewidth": 2
          },
          "yaxis": {
           "automargin": true,
           "gridcolor": "white",
           "linecolor": "white",
           "ticks": "",
           "title": {
            "standoff": 15
           },
           "zerolinecolor": "white",
           "zerolinewidth": 2
          }
         }
        },
        "title": {
         "text": "",
         "x": 0.5,
         "xanchor": "center",
         "y": 0.9,
         "yanchor": "bottom"
        },
        "width": 1000,
        "xaxis": {
         "anchor": "y",
         "domain": [
          0,
          1
         ],
         "rangeslider": {
          "visible": false
         }
        },
        "yaxis": {
         "anchor": "x",
         "domain": [
          0,
          1
         ]
        }
       }
      },
      "text/html": [
       "<div>                            <div id=\"dffc2ac2-9b63-4fba-aecc-d975d9af8ee6\" class=\"plotly-graph-div\" style=\"height:500px; width:1000px;\"></div>            <script type=\"text/javascript\">                require([\"plotly\"], function(Plotly) {                    window.PLOTLYENV=window.PLOTLYENV || {};                                    if (document.getElementById(\"dffc2ac2-9b63-4fba-aecc-d975d9af8ee6\")) {                    Plotly.newPlot(                        \"dffc2ac2-9b63-4fba-aecc-d975d9af8ee6\",                        [{\"close\":[88.55,88.45,88.48,88.45,88.4,88.44,88.44,88.35,88.4199,88.38,88.41,88.38,88.5,88.5,88.48,88.4896,88.24,87.675,87.5115,87.585,87.205,87.1832,87.13,87.04,87.14,87.04,87.0,87.25,87.46,87.445,87.4367,87.3001,87.3815,87.355,87.35,87.25,87.24,87.185,87.045,86.93,87.02,87.0801,86.93,87.3,87.4,87.2,87.13,87.5,87.56,87.35,87.7,87.74,87.91,87.87,87.96,87.95,87.92,87.91,87.87,87.81,87.8,87.74,87.78,88.1,88.1,88.05,88.05,88.0,88.1,88.2,88.37,88.32,88.28,88.4,88.3404,88.34,88.36,88.34,88.46,88.41,88.74,88.72,88.615,88.555,88.67,88.651,88.5612,88.555,88.545,88.42,88.33,88.37,88.36,88.7001,88.545,88.5,88.3484,88.125,88.08,88.31],\"high\":[88.57,88.5,88.48,88.46,88.42,88.45,88.44,88.4,88.4199,88.44,88.43,88.4815,88.6,88.52,88.74,88.5,88.3,87.755,87.745,87.67,87.35,87.24,87.155,87.155,87.18,87.24,87.28,87.47,87.49,87.5151,87.5,87.394,87.45,87.5138,87.39,87.5795,87.55,87.2699,87.2236,87.06,87.18,87.24,87.3,87.38,87.48,87.45,87.35,87.84,87.56,87.55,87.75,87.98,87.91,87.87,87.98,87.95,87.95,87.98,87.87,87.81,87.8,87.81,87.78,88.14,88.12,88.14,88.12,88.15,88.22,88.28,88.37,88.35,88.3424,88.4,88.4642,88.42,88.45,88.45,88.49,88.79,88.845,88.81,88.73,88.75,88.75,88.74,88.74,88.59,88.56,88.48,88.3999,88.44,88.81,88.78,88.547,88.63,88.395,88.18,88.43,88.345],\"low\":[88.48,88.45,88.48,88.45,88.4,88.36,88.35,88.35,88.36,88.38,88.41,88.38,88.42,88.41,88.23,88.22,87.66,87.48,87.49,87.2,87.13,87.11,86.94,86.94,86.98,86.96,86.7,87.225,87.255,87.342,87.305,87.18,87.21,87.33,87.15,87.21,87.14,86.89,86.88,86.78,86.57,86.66,86.69,87.24,87.34,87.1343,87.13,87.34,87.4,87.3,87.7,87.74,87.91,87.87,87.96,87.95,87.92,87.91,87.87,87.81,87.8,87.74,87.49,88.1,88.0,88.05,88.05,87.99,88.1,88.16,88.27,88.3,88.28,88.33,88.3401,88.3101,88.36,88.34,88.41,88.34,88.705,88.55,88.5,88.47,88.595,88.52,88.54,88.46,88.2807,88.25,88.21,88.31,88.33,88.52,88.34,88.335,88.13,88.005,87.98,88.035],\"name\":\"Historical Data\",\"open\":[88.52,88.46,88.48,88.46,88.42,88.37,88.39,88.36,88.36,88.44,88.43,88.4815,88.5,88.48,88.45,88.23,87.675,87.51,87.59,87.205,87.19,87.14,87.03,87.14,87.0353,86.989,87.26,87.46,87.45,87.435,87.31,87.38,87.36,87.35,87.26,87.235,87.1895,87.03,86.925,87.0,87.09,86.98,87.29,87.24,87.34,87.1442,87.35,87.7402,87.41,87.54,87.74,87.98,87.91,87.87,87.98,87.95,87.95,87.98,87.87,87.81,87.8,87.81,87.59,88.1,88.05,88.05,88.05,88.15,88.2,88.28,88.28,88.33,88.341,88.37,88.4642,88.39,88.45,88.43,88.45,88.73,88.715,88.62,88.555,88.66,88.65,88.56,88.55,88.55,88.41,88.34,88.38,88.365,88.71,88.545,88.51,88.345,88.13,88.08,88.31,88.095],\"x\":[\"2022-12-30T20:00:00\",\"2022-12-30T19:45:00\",\"2022-12-30T19:30:00\",\"2022-12-30T19:15:00\",\"2022-12-30T19:00:00\",\"2022-12-30T18:45:00\",\"2022-12-30T18:30:00\",\"2022-12-30T18:15:00\",\"2022-12-30T18:00:00\",\"2022-12-30T17:45:00\",\"2022-12-30T17:30:00\",\"2022-12-30T17:15:00\",\"2022-12-30T17:00:00\",\"2022-12-30T16:45:00\",\"2022-12-30T16:30:00\",\"2022-12-30T16:15:00\",\"2022-12-30T16:00:00\",\"2022-12-30T15:45:00\",\"2022-12-30T15:30:00\",\"2022-12-30T15:15:00\",\"2022-12-30T15:00:00\",\"2022-12-30T14:45:00\",\"2022-12-30T14:30:00\",\"2022-12-30T14:15:00\",\"2022-12-30T14:00:00\",\"2022-12-30T13:45:00\",\"2022-12-30T13:30:00\",\"2022-12-30T13:15:00\",\"2022-12-30T13:00:00\",\"2022-12-30T12:45:00\",\"2022-12-30T12:30:00\",\"2022-12-30T12:15:00\",\"2022-12-30T12:00:00\",\"2022-12-30T11:45:00\",\"2022-12-30T11:30:00\",\"2022-12-30T11:15:00\",\"2022-12-30T11:00:00\",\"2022-12-30T10:45:00\",\"2022-12-30T10:30:00\",\"2022-12-30T10:15:00\",\"2022-12-30T10:00:00\",\"2022-12-30T09:45:00\",\"2022-12-30T09:30:00\",\"2022-12-30T09:15:00\",\"2022-12-30T09:00:00\",\"2022-12-30T08:45:00\",\"2022-12-30T08:30:00\",\"2022-12-30T08:15:00\",\"2022-12-30T08:00:00\",\"2022-12-30T07:45:00\",\"2022-12-30T07:30:00\",\"2022-12-30T07:15:00\",\"2022-12-30T07:00:00\",\"2022-12-30T06:30:00\",\"2022-12-30T06:15:00\",\"2022-12-30T06:00:00\",\"2022-12-30T05:45:00\",\"2022-12-30T05:30:00\",\"2022-12-30T05:15:00\",\"2022-12-30T05:00:00\",\"2022-12-30T04:45:00\",\"2022-12-30T04:30:00\",\"2022-12-30T04:15:00\",\"2022-12-29T20:00:00\",\"2022-12-29T19:45:00\",\"2022-12-29T19:30:00\",\"2022-12-29T19:15:00\",\"2022-12-29T19:00:00\",\"2022-12-29T18:45:00\",\"2022-12-29T18:30:00\",\"2022-12-29T18:15:00\",\"2022-12-29T18:00:00\",\"2022-12-29T17:45:00\",\"2022-12-29T17:30:00\",\"2022-12-29T17:15:00\",\"2022-12-29T17:00:00\",\"2022-12-29T16:45:00\",\"2022-12-29T16:30:00\",\"2022-12-29T16:15:00\",\"2022-12-29T16:00:00\",\"2022-12-29T15:45:00\",\"2022-12-29T15:30:00\",\"2022-12-29T15:15:00\",\"2022-12-29T15:00:00\",\"2022-12-29T14:45:00\",\"2022-12-29T14:30:00\",\"2022-12-29T14:15:00\",\"2022-12-29T14:00:00\",\"2022-12-29T13:45:00\",\"2022-12-29T13:30:00\",\"2022-12-29T13:15:00\",\"2022-12-29T13:00:00\",\"2022-12-29T12:45:00\",\"2022-12-29T12:30:00\",\"2022-12-29T12:15:00\",\"2022-12-29T12:00:00\",\"2022-12-29T11:45:00\",\"2022-12-29T11:30:00\",\"2022-12-29T11:15:00\",\"2022-12-29T11:00:00\"],\"type\":\"candlestick\",\"xaxis\":\"x\",\"yaxis\":\"y\"}],                        {\"template\":{\"data\":{\"histogram2dcontour\":[{\"type\":\"histogram2dcontour\",\"colorbar\":{\"outlinewidth\":0,\"ticks\":\"\"},\"colorscale\":[[0.0,\"#0d0887\"],[0.1111111111111111,\"#46039f\"],[0.2222222222222222,\"#7201a8\"],[0.3333333333333333,\"#9c179e\"],[0.4444444444444444,\"#bd3786\"],[0.5555555555555556,\"#d8576b\"],[0.6666666666666666,\"#ed7953\"],[0.7777777777777778,\"#fb9f3a\"],[0.8888888888888888,\"#fdca26\"],[1.0,\"#f0f921\"]]}],\"choropleth\":[{\"type\":\"choropleth\",\"colorbar\":{\"outlinewidth\":0,\"ticks\":\"\"}}],\"histogram2d\":[{\"type\":\"histogram2d\",\"colorbar\":{\"outlinewidth\":0,\"ticks\":\"\"},\"colorscale\":[[0.0,\"#0d0887\"],[0.1111111111111111,\"#46039f\"],[0.2222222222222222,\"#7201a8\"],[0.3333333333333333,\"#9c179e\"],[0.4444444444444444,\"#bd3786\"],[0.5555555555555556,\"#d8576b\"],[0.6666666666666666,\"#ed7953\"],[0.7777777777777778,\"#fb9f3a\"],[0.8888888888888888,\"#fdca26\"],[1.0,\"#f0f921\"]]}],\"heatmap\":[{\"type\":\"heatmap\",\"colorbar\":{\"outlinewidth\":0,\"ticks\":\"\"},\"colorscale\":[[0.0,\"#0d0887\"],[0.1111111111111111,\"#46039f\"],[0.2222222222222222,\"#7201a8\"],[0.3333333333333333,\"#9c179e\"],[0.4444444444444444,\"#bd3786\"],[0.5555555555555556,\"#d8576b\"],[0.6666666666666666,\"#ed7953\"],[0.7777777777777778,\"#fb9f3a\"],[0.8888888888888888,\"#fdca26\"],[1.0,\"#f0f921\"]]}],\"heatmapgl\":[{\"type\":\"heatmapgl\",\"colorbar\":{\"outlinewidth\":0,\"ticks\":\"\"},\"colorscale\":[[0.0,\"#0d0887\"],[0.1111111111111111,\"#46039f\"],[0.2222222222222222,\"#7201a8\"],[0.3333333333333333,\"#9c179e\"],[0.4444444444444444,\"#bd3786\"],[0.5555555555555556,\"#d8576b\"],[0.6666666666666666,\"#ed7953\"],[0.7777777777777778,\"#fb9f3a\"],[0.8888888888888888,\"#fdca26\"],[1.0,\"#f0f921\"]]}],\"contourcarpet\":[{\"type\":\"contourcarpet\",\"colorbar\":{\"outlinewidth\":0,\"ticks\":\"\"}}],\"contour\":[{\"type\":\"contour\",\"colorbar\":{\"outlinewidth\":0,\"ticks\":\"\"},\"colorscale\":[[0.0,\"#0d0887\"],[0.1111111111111111,\"#46039f\"],[0.2222222222222222,\"#7201a8\"],[0.3333333333333333,\"#9c179e\"],[0.4444444444444444,\"#bd3786\"],[0.5555555555555556,\"#d8576b\"],[0.6666666666666666,\"#ed7953\"],[0.7777777777777778,\"#fb9f3a\"],[0.8888888888888888,\"#fdca26\"],[1.0,\"#f0f921\"]]}],\"surface\":[{\"type\":\"surface\",\"colorbar\":{\"outlinewidth\":0,\"ticks\":\"\"},\"colorscale\":[[0.0,\"#0d0887\"],[0.1111111111111111,\"#46039f\"],[0.2222222222222222,\"#7201a8\"],[0.3333333333333333,\"#9c179e\"],[0.4444444444444444,\"#bd3786\"],[0.5555555555555556,\"#d8576b\"],[0.6666666666666666,\"#ed7953\"],[0.7777777777777778,\"#fb9f3a\"],[0.8888888888888888,\"#fdca26\"],[1.0,\"#f0f921\"]]}],\"mesh3d\":[{\"type\":\"mesh3d\",\"colorbar\":{\"outlinewidth\":0,\"ticks\":\"\"}}],\"scatter\":[{\"fillpattern\":{\"fillmode\":\"overlay\",\"size\":10,\"solidity\":0.2},\"type\":\"scatter\"}],\"parcoords\":[{\"type\":\"parcoords\",\"line\":{\"colorbar\":{\"outlinewidth\":0,\"ticks\":\"\"}}}],\"scatterpolargl\":[{\"type\":\"scatterpolargl\",\"marker\":{\"colorbar\":{\"outlinewidth\":0,\"ticks\":\"\"}}}],\"bar\":[{\"error_x\":{\"color\":\"#2a3f5f\"},\"error_y\":{\"color\":\"#2a3f5f\"},\"marker\":{\"line\":{\"color\":\"#E5ECF6\",\"width\":0.5},\"pattern\":{\"fillmode\":\"overlay\",\"size\":10,\"solidity\":0.2}},\"type\":\"bar\"}],\"scattergeo\":[{\"type\":\"scattergeo\",\"marker\":{\"colorbar\":{\"outlinewidth\":0,\"ticks\":\"\"}}}],\"scatterpolar\":[{\"type\":\"scatterpolar\",\"marker\":{\"colorbar\":{\"outlinewidth\":0,\"ticks\":\"\"}}}],\"histogram\":[{\"marker\":{\"pattern\":{\"fillmode\":\"overlay\",\"size\":10,\"solidity\":0.2}},\"type\":\"histogram\"}],\"scattergl\":[{\"type\":\"scattergl\",\"marker\":{\"colorbar\":{\"outlinewidth\":0,\"ticks\":\"\"}}}],\"scatter3d\":[{\"type\":\"scatter3d\",\"line\":{\"colorbar\":{\"outlinewidth\":0,\"ticks\":\"\"}},\"marker\":{\"colorbar\":{\"outlinewidth\":0,\"ticks\":\"\"}}}],\"scattermapbox\":[{\"type\":\"scattermapbox\",\"marker\":{\"colorbar\":{\"outlinewidth\":0,\"ticks\":\"\"}}}],\"scatterternary\":[{\"type\":\"scatterternary\",\"marker\":{\"colorbar\":{\"outlinewidth\":0,\"ticks\":\"\"}}}],\"scattercarpet\":[{\"type\":\"scattercarpet\",\"marker\":{\"colorbar\":{\"outlinewidth\":0,\"ticks\":\"\"}}}],\"carpet\":[{\"aaxis\":{\"endlinecolor\":\"#2a3f5f\",\"gridcolor\":\"white\",\"linecolor\":\"white\",\"minorgridcolor\":\"white\",\"startlinecolor\":\"#2a3f5f\"},\"baxis\":{\"endlinecolor\":\"#2a3f5f\",\"gridcolor\":\"white\",\"linecolor\":\"white\",\"minorgridcolor\":\"white\",\"startlinecolor\":\"#2a3f5f\"},\"type\":\"carpet\"}],\"table\":[{\"cells\":{\"fill\":{\"color\":\"#EBF0F8\"},\"line\":{\"color\":\"white\"}},\"header\":{\"fill\":{\"color\":\"#C8D4E3\"},\"line\":{\"color\":\"white\"}},\"type\":\"table\"}],\"barpolar\":[{\"marker\":{\"line\":{\"color\":\"#E5ECF6\",\"width\":0.5},\"pattern\":{\"fillmode\":\"overlay\",\"size\":10,\"solidity\":0.2}},\"type\":\"barpolar\"}],\"pie\":[{\"automargin\":true,\"type\":\"pie\"}]},\"layout\":{\"autotypenumbers\":\"strict\",\"colorway\":[\"#636efa\",\"#EF553B\",\"#00cc96\",\"#ab63fa\",\"#FFA15A\",\"#19d3f3\",\"#FF6692\",\"#B6E880\",\"#FF97FF\",\"#FECB52\"],\"font\":{\"color\":\"#2a3f5f\"},\"hovermode\":\"closest\",\"hoverlabel\":{\"align\":\"left\"},\"paper_bgcolor\":\"white\",\"plot_bgcolor\":\"#E5ECF6\",\"polar\":{\"bgcolor\":\"#E5ECF6\",\"angularaxis\":{\"gridcolor\":\"white\",\"linecolor\":\"white\",\"ticks\":\"\"},\"radialaxis\":{\"gridcolor\":\"white\",\"linecolor\":\"white\",\"ticks\":\"\"}},\"ternary\":{\"bgcolor\":\"#E5ECF6\",\"aaxis\":{\"gridcolor\":\"white\",\"linecolor\":\"white\",\"ticks\":\"\"},\"baxis\":{\"gridcolor\":\"white\",\"linecolor\":\"white\",\"ticks\":\"\"},\"caxis\":{\"gridcolor\":\"white\",\"linecolor\":\"white\",\"ticks\":\"\"}},\"coloraxis\":{\"colorbar\":{\"outlinewidth\":0,\"ticks\":\"\"}},\"colorscale\":{\"sequential\":[[0.0,\"#0d0887\"],[0.1111111111111111,\"#46039f\"],[0.2222222222222222,\"#7201a8\"],[0.3333333333333333,\"#9c179e\"],[0.4444444444444444,\"#bd3786\"],[0.5555555555555556,\"#d8576b\"],[0.6666666666666666,\"#ed7953\"],[0.7777777777777778,\"#fb9f3a\"],[0.8888888888888888,\"#fdca26\"],[1.0,\"#f0f921\"]],\"sequentialminus\":[[0.0,\"#0d0887\"],[0.1111111111111111,\"#46039f\"],[0.2222222222222222,\"#7201a8\"],[0.3333333333333333,\"#9c179e\"],[0.4444444444444444,\"#bd3786\"],[0.5555555555555556,\"#d8576b\"],[0.6666666666666666,\"#ed7953\"],[0.7777777777777778,\"#fb9f3a\"],[0.8888888888888888,\"#fdca26\"],[1.0,\"#f0f921\"]],\"diverging\":[[0,\"#8e0152\"],[0.1,\"#c51b7d\"],[0.2,\"#de77ae\"],[0.3,\"#f1b6da\"],[0.4,\"#fde0ef\"],[0.5,\"#f7f7f7\"],[0.6,\"#e6f5d0\"],[0.7,\"#b8e186\"],[0.8,\"#7fbc41\"],[0.9,\"#4d9221\"],[1,\"#276419\"]]},\"xaxis\":{\"gridcolor\":\"white\",\"linecolor\":\"white\",\"ticks\":\"\",\"title\":{\"standoff\":15},\"zerolinecolor\":\"white\",\"automargin\":true,\"zerolinewidth\":2},\"yaxis\":{\"gridcolor\":\"white\",\"linecolor\":\"white\",\"ticks\":\"\",\"title\":{\"standoff\":15},\"zerolinecolor\":\"white\",\"automargin\":true,\"zerolinewidth\":2},\"scene\":{\"xaxis\":{\"backgroundcolor\":\"#E5ECF6\",\"gridcolor\":\"white\",\"linecolor\":\"white\",\"showbackground\":true,\"ticks\":\"\",\"zerolinecolor\":\"white\",\"gridwidth\":2},\"yaxis\":{\"backgroundcolor\":\"#E5ECF6\",\"gridcolor\":\"white\",\"linecolor\":\"white\",\"showbackground\":true,\"ticks\":\"\",\"zerolinecolor\":\"white\",\"gridwidth\":2},\"zaxis\":{\"backgroundcolor\":\"#E5ECF6\",\"gridcolor\":\"white\",\"linecolor\":\"white\",\"showbackground\":true,\"ticks\":\"\",\"zerolinecolor\":\"white\",\"gridwidth\":2}},\"shapedefaults\":{\"line\":{\"color\":\"#2a3f5f\"}},\"annotationdefaults\":{\"arrowcolor\":\"#2a3f5f\",\"arrowhead\":0,\"arrowwidth\":1},\"geo\":{\"bgcolor\":\"white\",\"landcolor\":\"#E5ECF6\",\"subunitcolor\":\"white\",\"showland\":true,\"showlakes\":true,\"lakecolor\":\"white\"},\"title\":{\"x\":0.05},\"mapbox\":{\"style\":\"light\"}}},\"xaxis\":{\"anchor\":\"y\",\"domain\":[0.0,1.0],\"rangeslider\":{\"visible\":false}},\"yaxis\":{\"anchor\":\"x\",\"domain\":[0.0,1.0]},\"title\":{\"text\":\"\",\"y\":0.9,\"x\":0.5,\"xanchor\":\"center\",\"yanchor\":\"bottom\"},\"height\":500,\"width\":1000},                        {\"responsive\": true}                    ).then(function(){\n",
       "                            \n",
       "var gd = document.getElementById('dffc2ac2-9b63-4fba-aecc-d975d9af8ee6');\n",
       "var x = new MutationObserver(function (mutations, observer) {{\n",
       "        var display = window.getComputedStyle(gd).display;\n",
       "        if (!display || display === 'none') {{\n",
       "            console.log([gd, 'removed!']);\n",
       "            Plotly.purge(gd);\n",
       "            observer.disconnect();\n",
       "        }}\n",
       "}});\n",
       "\n",
       "// Listen for the removal of the full notebook cells\n",
       "var notebookContainer = gd.closest('#notebook-container');\n",
       "if (notebookContainer) {{\n",
       "    x.observe(notebookContainer, {childList: true});\n",
       "}}\n",
       "\n",
       "// Listen for the clearing of the current output cell\n",
       "var outputEl = gd.closest('.output');\n",
       "if (outputEl) {{\n",
       "    x.observe(outputEl, {childList: true});\n",
       "}}\n",
       "\n",
       "                        })                };                });            </script>        </div>"
      ]
     },
     "metadata": {},
     "output_type": "display_data"
    }
   ],
   "source": [
    "from pyalgotrading.utils import func\n",
    "from pyalgotrading.constants import PlotType\n",
    "\n",
    "indicator_data = indicator1(script_data.main_var,5)[\"indicator\"]\n",
    "\n",
    "func.plot_candlestick_chart(df,PlotType.HEIKINASHI)"
   ]
  },
  {
   "cell_type": "code",
   "execution_count": 254,
   "id": "b9301ff5",
   "metadata": {},
   "outputs": [],
   "source": [
    "#!pip freeze > requirements.txt"
   ]
  }
 ],
 "metadata": {
  "kernelspec": {
   "display_name": "Python 3",
   "language": "python",
   "name": "python3"
  },
  "language_info": {
   "codemirror_mode": {
    "name": "ipython",
    "version": 3
   },
   "file_extension": ".py",
   "mimetype": "text/x-python",
   "name": "python",
   "nbconvert_exporter": "python",
   "pygments_lexer": "ipython3",
   "version": "3.8.8"
  }
 },
 "nbformat": 4,
 "nbformat_minor": 5
}
