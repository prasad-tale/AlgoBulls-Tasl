{
 "cells": [
  {
   "cell_type": "code",
   "execution_count": null,
   "id": "ae3ab834",
   "metadata": {},
   "outputs": [],
   "source": []
  },
  {
   "cell_type": "code",
   "execution_count": 406,
   "id": "ac14cced",
   "metadata": {},
   "outputs": [],
   "source": [
    "##importing the required librarires\n",
    "\n",
    "import pandas as pd\n",
    "import numpy as np\n",
    "import datetime as dt\n",
    "import time\n",
    "from alpha_vantage.timeseries import TimeSeries\n"
   ]
  },
  {
   "cell_type": "code",
   "execution_count": 407,
   "id": "096be346",
   "metadata": {},
   "outputs": [],
   "source": [
    "class ScriptData(object):\n",
    "    \n",
    "    #initializing constructor \n",
    "    def __init__(self):\n",
    "        self.main_var = pd.DataFrame()\n",
    "        self.data = {}\n",
    "    ## get method for cllecting json data \n",
    "    def __getJson__(self):\n",
    "        return self.data\n",
    "    ## set method for setting json data \n",
    "    def __setJson__(self,newkey):\n",
    "            self.data =newkey\n",
    "    ## set method for overloading dataframes for diffrent scripts\n",
    "    def __setDataFrame__(self,newkey):\n",
    "        self.main_var = newkey\n",
    "    \n",
    "    ## get method for getting dataframes for diffrent scripts\n",
    "    def __getDataFrame__(self):\n",
    "        return self.main_var\n",
    "        \n",
    "    ##this function will fetch data in json format\n",
    "    def fetch_intraday_data(self,script):\n",
    "        ts = TimeSeries(key='PBUU95WNPEBUZYZI')\n",
    "# Get json object with the intraday data and another with  the call's metadata\n",
    "        data,meta = ts.get_intraday(script,\"60min\")\n",
    "        self.__setJson__(data)\n",
    "        #print(type(self.__getJson__()))\n",
    "    \n",
    "    ##this function will convert json data into pandas data frame\n",
    "    def convert_intraday_data(self,script):\n",
    "        df = pd.DataFrame.from_dict(self.data)\n",
    "    \n",
    "        df= df.transpose()\n",
    "        df.reset_index(level = 0, inplace=True)\n",
    "        df.columns = [\"timestamp\",\"open\",\"high\",\"low\",\"close\",\"volume\"]\n",
    "        df.sort_values(by='timestamp', inplace= True)\n",
    "        df= df.reset_index()\n",
    "\n",
    "        self.__setDataFrame__(df)## we are setting dataframeto main_varvariableofthe class which willconsist of the main data frame"
   ]
  },
  {
   "cell_type": "code",
   "execution_count": 408,
   "id": "bea60fc8",
   "metadata": {},
   "outputs": [
    {
     "data": {
      "text/html": [
       "<div>\n",
       "<style scoped>\n",
       "    .dataframe tbody tr th:only-of-type {\n",
       "        vertical-align: middle;\n",
       "    }\n",
       "\n",
       "    .dataframe tbody tr th {\n",
       "        vertical-align: top;\n",
       "    }\n",
       "\n",
       "    .dataframe thead th {\n",
       "        text-align: right;\n",
       "    }\n",
       "</style>\n",
       "<table border=\"1\" class=\"dataframe\">\n",
       "  <thead>\n",
       "    <tr style=\"text-align: right;\">\n",
       "      <th></th>\n",
       "      <th>index</th>\n",
       "      <th>timestamp</th>\n",
       "      <th>open</th>\n",
       "      <th>high</th>\n",
       "      <th>low</th>\n",
       "      <th>close</th>\n",
       "      <th>volume</th>\n",
       "    </tr>\n",
       "  </thead>\n",
       "  <tbody>\n",
       "    <tr>\n",
       "      <th>0</th>\n",
       "      <td>99</td>\n",
       "      <td>2022-12-27 17:00:00</td>\n",
       "      <td>141.2100</td>\n",
       "      <td>141.3000</td>\n",
       "      <td>140.2600</td>\n",
       "      <td>140.2999</td>\n",
       "      <td>442894</td>\n",
       "    </tr>\n",
       "    <tr>\n",
       "      <th>1</th>\n",
       "      <td>98</td>\n",
       "      <td>2022-12-27 18:00:00</td>\n",
       "      <td>140.3000</td>\n",
       "      <td>141.2100</td>\n",
       "      <td>140.1300</td>\n",
       "      <td>140.3500</td>\n",
       "      <td>85986</td>\n",
       "    </tr>\n",
       "    <tr>\n",
       "      <th>2</th>\n",
       "      <td>97</td>\n",
       "      <td>2022-12-27 19:00:00</td>\n",
       "      <td>140.3500</td>\n",
       "      <td>140.4800</td>\n",
       "      <td>140.2600</td>\n",
       "      <td>140.2700</td>\n",
       "      <td>24609</td>\n",
       "    </tr>\n",
       "    <tr>\n",
       "      <th>3</th>\n",
       "      <td>96</td>\n",
       "      <td>2022-12-27 20:00:00</td>\n",
       "      <td>140.2700</td>\n",
       "      <td>140.4000</td>\n",
       "      <td>139.9500</td>\n",
       "      <td>139.9900</td>\n",
       "      <td>63432</td>\n",
       "    </tr>\n",
       "    <tr>\n",
       "      <th>4</th>\n",
       "      <td>95</td>\n",
       "      <td>2022-12-28 05:00:00</td>\n",
       "      <td>141.2100</td>\n",
       "      <td>141.2100</td>\n",
       "      <td>138.7500</td>\n",
       "      <td>139.0000</td>\n",
       "      <td>44358</td>\n",
       "    </tr>\n",
       "    <tr>\n",
       "      <th>...</th>\n",
       "      <td>...</td>\n",
       "      <td>...</td>\n",
       "      <td>...</td>\n",
       "      <td>...</td>\n",
       "      <td>...</td>\n",
       "      <td>...</td>\n",
       "      <td>...</td>\n",
       "    </tr>\n",
       "    <tr>\n",
       "      <th>95</th>\n",
       "      <td>4</td>\n",
       "      <td>2023-01-05 16:00:00</td>\n",
       "      <td>143.8400</td>\n",
       "      <td>143.9800</td>\n",
       "      <td>142.4000</td>\n",
       "      <td>142.6600</td>\n",
       "      <td>5783153</td>\n",
       "    </tr>\n",
       "    <tr>\n",
       "      <th>96</th>\n",
       "      <td>3</td>\n",
       "      <td>2023-01-05 17:00:00</td>\n",
       "      <td>142.6500</td>\n",
       "      <td>142.9000</td>\n",
       "      <td>142.4410</td>\n",
       "      <td>142.8600</td>\n",
       "      <td>588476</td>\n",
       "    </tr>\n",
       "    <tr>\n",
       "      <th>97</th>\n",
       "      <td>2</td>\n",
       "      <td>2023-01-05 18:00:00</td>\n",
       "      <td>142.8100</td>\n",
       "      <td>142.8100</td>\n",
       "      <td>142.5600</td>\n",
       "      <td>142.7500</td>\n",
       "      <td>11943</td>\n",
       "    </tr>\n",
       "    <tr>\n",
       "      <th>98</th>\n",
       "      <td>1</td>\n",
       "      <td>2023-01-05 19:00:00</td>\n",
       "      <td>142.7800</td>\n",
       "      <td>142.8800</td>\n",
       "      <td>142.7000</td>\n",
       "      <td>142.7300</td>\n",
       "      <td>7452</td>\n",
       "    </tr>\n",
       "    <tr>\n",
       "      <th>99</th>\n",
       "      <td>0</td>\n",
       "      <td>2023-01-05 20:00:00</td>\n",
       "      <td>142.7000</td>\n",
       "      <td>143.0900</td>\n",
       "      <td>142.6800</td>\n",
       "      <td>142.9900</td>\n",
       "      <td>36349</td>\n",
       "    </tr>\n",
       "  </tbody>\n",
       "</table>\n",
       "<p>100 rows × 7 columns</p>\n",
       "</div>"
      ],
      "text/plain": [
       "    index            timestamp      open      high       low     close  \\\n",
       "0      99  2022-12-27 17:00:00  141.2100  141.3000  140.2600  140.2999   \n",
       "1      98  2022-12-27 18:00:00  140.3000  141.2100  140.1300  140.3500   \n",
       "2      97  2022-12-27 19:00:00  140.3500  140.4800  140.2600  140.2700   \n",
       "3      96  2022-12-27 20:00:00  140.2700  140.4000  139.9500  139.9900   \n",
       "4      95  2022-12-28 05:00:00  141.2100  141.2100  138.7500  139.0000   \n",
       "..    ...                  ...       ...       ...       ...       ...   \n",
       "95      4  2023-01-05 16:00:00  143.8400  143.9800  142.4000  142.6600   \n",
       "96      3  2023-01-05 17:00:00  142.6500  142.9000  142.4410  142.8600   \n",
       "97      2  2023-01-05 18:00:00  142.8100  142.8100  142.5600  142.7500   \n",
       "98      1  2023-01-05 19:00:00  142.7800  142.8800  142.7000  142.7300   \n",
       "99      0  2023-01-05 20:00:00  142.7000  143.0900  142.6800  142.9900   \n",
       "\n",
       "     volume  \n",
       "0    442894  \n",
       "1     85986  \n",
       "2     24609  \n",
       "3     63432  \n",
       "4     44358  \n",
       "..      ...  \n",
       "95  5783153  \n",
       "96   588476  \n",
       "97    11943  \n",
       "98     7452  \n",
       "99    36349  \n",
       "\n",
       "[100 rows x 7 columns]"
      ]
     },
     "execution_count": 408,
     "metadata": {},
     "output_type": "execute_result"
    }
   ],
   "source": [
    "script_data= ScriptData()## object of class ScriptData\n",
    "script_data.fetch_intraday_data(\"NVDA\")\n",
    "script_data.convert_intraday_data(\"NVDA\")\n",
    "script_data.main_var\n",
    "#script_data.plot(script_data.main_var)"
   ]
  },
  {
   "cell_type": "code",
   "execution_count": 409,
   "id": "70066942",
   "metadata": {},
   "outputs": [
    {
     "data": {
      "text/html": [
       "<div>\n",
       "<style scoped>\n",
       "    .dataframe tbody tr th:only-of-type {\n",
       "        vertical-align: middle;\n",
       "    }\n",
       "\n",
       "    .dataframe tbody tr th {\n",
       "        vertical-align: top;\n",
       "    }\n",
       "\n",
       "    .dataframe thead th {\n",
       "        text-align: right;\n",
       "    }\n",
       "</style>\n",
       "<table border=\"1\" class=\"dataframe\">\n",
       "  <thead>\n",
       "    <tr style=\"text-align: right;\">\n",
       "      <th></th>\n",
       "      <th>timestamp</th>\n",
       "      <th>indicator</th>\n",
       "    </tr>\n",
       "  </thead>\n",
       "  <tbody>\n",
       "    <tr>\n",
       "      <th>0</th>\n",
       "      <td>2022-12-27 17:00:00</td>\n",
       "      <td>NaN</td>\n",
       "    </tr>\n",
       "    <tr>\n",
       "      <th>1</th>\n",
       "      <td>2022-12-27 18:00:00</td>\n",
       "      <td>NaN</td>\n",
       "    </tr>\n",
       "    <tr>\n",
       "      <th>2</th>\n",
       "      <td>2022-12-27 19:00:00</td>\n",
       "      <td>NaN</td>\n",
       "    </tr>\n",
       "    <tr>\n",
       "      <th>3</th>\n",
       "      <td>2022-12-27 20:00:00</td>\n",
       "      <td>NaN</td>\n",
       "    </tr>\n",
       "    <tr>\n",
       "      <th>4</th>\n",
       "      <td>2022-12-28 05:00:00</td>\n",
       "      <td>139.98198</td>\n",
       "    </tr>\n",
       "    <tr>\n",
       "      <th>...</th>\n",
       "      <td>...</td>\n",
       "      <td>...</td>\n",
       "    </tr>\n",
       "    <tr>\n",
       "      <th>95</th>\n",
       "      <td>2023-01-05 16:00:00</td>\n",
       "      <td>142.92756</td>\n",
       "    </tr>\n",
       "    <tr>\n",
       "      <th>96</th>\n",
       "      <td>2023-01-05 17:00:00</td>\n",
       "      <td>143.10156</td>\n",
       "    </tr>\n",
       "    <tr>\n",
       "      <th>97</th>\n",
       "      <td>2023-01-05 18:00:00</td>\n",
       "      <td>143.13800</td>\n",
       "    </tr>\n",
       "    <tr>\n",
       "      <th>98</th>\n",
       "      <td>2023-01-05 19:00:00</td>\n",
       "      <td>142.96600</td>\n",
       "    </tr>\n",
       "    <tr>\n",
       "      <th>99</th>\n",
       "      <td>2023-01-05 20:00:00</td>\n",
       "      <td>142.79800</td>\n",
       "    </tr>\n",
       "  </tbody>\n",
       "</table>\n",
       "<p>100 rows × 2 columns</p>\n",
       "</div>"
      ],
      "text/plain": [
       "              timestamp  indicator\n",
       "0   2022-12-27 17:00:00        NaN\n",
       "1   2022-12-27 18:00:00        NaN\n",
       "2   2022-12-27 19:00:00        NaN\n",
       "3   2022-12-27 20:00:00        NaN\n",
       "4   2022-12-28 05:00:00  139.98198\n",
       "..                  ...        ...\n",
       "95  2023-01-05 16:00:00  142.92756\n",
       "96  2023-01-05 17:00:00  143.10156\n",
       "97  2023-01-05 18:00:00  143.13800\n",
       "98  2023-01-05 19:00:00  142.96600\n",
       "99  2023-01-05 20:00:00  142.79800\n",
       "\n",
       "[100 rows x 2 columns]"
      ]
     },
     "execution_count": 409,
     "metadata": {},
     "output_type": "execute_result"
    }
   ],
   "source": [
    "###calculating moving average\n",
    "### function to calculate moving average on close data point\n",
    "def indicator1(df,timeperiod):\n",
    "    temp= pd.DataFrame()\n",
    "    temp[\"close\"] = df[\"close\"]\n",
    "    temp[\"MA\"] = temp[\"close\"].rolling(timeperiod).mean()\n",
    "    indicator_df = pd.DataFrame()\n",
    "    indicator_df[\"timestamp\"] = df[\"timestamp\"]\n",
    "    indicator_df[\"indicator\"] = temp[\"MA\"]\n",
    "    return indicator_df\n",
    "\n",
    "indicator1(script_data.main_var,5)"
   ]
  },
  {
   "cell_type": "code",
   "execution_count": 410,
   "id": "6f0b6e3f",
   "metadata": {
    "scrolled": true
   },
   "outputs": [],
   "source": [
    "### defining our strategy "
   ]
  },
  {
   "cell_type": "code",
   "execution_count": 411,
   "id": "59e0f38f",
   "metadata": {},
   "outputs": [
    {
     "data": {
      "text/html": [
       "<div>\n",
       "<style scoped>\n",
       "    .dataframe tbody tr th:only-of-type {\n",
       "        vertical-align: middle;\n",
       "    }\n",
       "\n",
       "    .dataframe tbody tr th {\n",
       "        vertical-align: top;\n",
       "    }\n",
       "\n",
       "    .dataframe thead th {\n",
       "        text-align: right;\n",
       "    }\n",
       "</style>\n",
       "<table border=\"1\" class=\"dataframe\">\n",
       "  <thead>\n",
       "    <tr style=\"text-align: right;\">\n",
       "      <th></th>\n",
       "      <th>timestamp</th>\n",
       "      <th>signal</th>\n",
       "    </tr>\n",
       "  </thead>\n",
       "  <tbody>\n",
       "    <tr>\n",
       "      <th>5</th>\n",
       "      <td>2022-12-28 06:00:00</td>\n",
       "      <td>SELL</td>\n",
       "    </tr>\n",
       "    <tr>\n",
       "      <th>8</th>\n",
       "      <td>2022-12-28 09:00:00</td>\n",
       "      <td>BUY</td>\n",
       "    </tr>\n",
       "    <tr>\n",
       "      <th>9</th>\n",
       "      <td>2022-12-28 10:00:00</td>\n",
       "      <td>SELL</td>\n",
       "    </tr>\n",
       "    <tr>\n",
       "      <th>10</th>\n",
       "      <td>2022-12-28 11:00:00</td>\n",
       "      <td>BUY</td>\n",
       "    </tr>\n",
       "    <tr>\n",
       "      <th>12</th>\n",
       "      <td>2022-12-28 13:00:00</td>\n",
       "      <td>SELL</td>\n",
       "    </tr>\n",
       "    <tr>\n",
       "      <th>14</th>\n",
       "      <td>2022-12-28 15:00:00</td>\n",
       "      <td>BUY</td>\n",
       "    </tr>\n",
       "    <tr>\n",
       "      <th>18</th>\n",
       "      <td>2022-12-28 19:00:00</td>\n",
       "      <td>SELL</td>\n",
       "    </tr>\n",
       "    <tr>\n",
       "      <th>30</th>\n",
       "      <td>2022-12-29 15:00:00</td>\n",
       "      <td>BUY</td>\n",
       "    </tr>\n",
       "    <tr>\n",
       "      <th>31</th>\n",
       "      <td>2022-12-29 16:00:00</td>\n",
       "      <td>SELL</td>\n",
       "    </tr>\n",
       "    <tr>\n",
       "      <th>35</th>\n",
       "      <td>2022-12-29 20:00:00</td>\n",
       "      <td>BUY</td>\n",
       "    </tr>\n",
       "    <tr>\n",
       "      <th>43</th>\n",
       "      <td>2022-12-30 12:00:00</td>\n",
       "      <td>SELL</td>\n",
       "    </tr>\n",
       "    <tr>\n",
       "      <th>45</th>\n",
       "      <td>2022-12-30 14:00:00</td>\n",
       "      <td>BUY</td>\n",
       "    </tr>\n",
       "    <tr>\n",
       "      <th>47</th>\n",
       "      <td>2022-12-30 16:00:00</td>\n",
       "      <td>SELL</td>\n",
       "    </tr>\n",
       "    <tr>\n",
       "      <th>54</th>\n",
       "      <td>2023-01-03 07:00:00</td>\n",
       "      <td>BUY</td>\n",
       "    </tr>\n",
       "    <tr>\n",
       "      <th>62</th>\n",
       "      <td>2023-01-03 15:00:00</td>\n",
       "      <td>SELL</td>\n",
       "    </tr>\n",
       "    <tr>\n",
       "      <th>66</th>\n",
       "      <td>2023-01-03 19:00:00</td>\n",
       "      <td>BUY</td>\n",
       "    </tr>\n",
       "    <tr>\n",
       "      <th>68</th>\n",
       "      <td>2023-01-04 05:00:00</td>\n",
       "      <td>SELL</td>\n",
       "    </tr>\n",
       "    <tr>\n",
       "      <th>74</th>\n",
       "      <td>2023-01-04 11:00:00</td>\n",
       "      <td>BUY</td>\n",
       "    </tr>\n",
       "    <tr>\n",
       "      <th>75</th>\n",
       "      <td>2023-01-04 12:00:00</td>\n",
       "      <td>SELL</td>\n",
       "    </tr>\n",
       "    <tr>\n",
       "      <th>82</th>\n",
       "      <td>2023-01-04 19:00:00</td>\n",
       "      <td>BUY</td>\n",
       "    </tr>\n",
       "    <tr>\n",
       "      <th>83</th>\n",
       "      <td>2023-01-04 20:00:00</td>\n",
       "      <td>SELL</td>\n",
       "    </tr>\n",
       "    <tr>\n",
       "      <th>84</th>\n",
       "      <td>2023-01-05 05:00:00</td>\n",
       "      <td>BUY</td>\n",
       "    </tr>\n",
       "    <tr>\n",
       "      <th>85</th>\n",
       "      <td>2023-01-05 06:00:00</td>\n",
       "      <td>SELL</td>\n",
       "    </tr>\n",
       "    <tr>\n",
       "      <th>88</th>\n",
       "      <td>2023-01-05 09:00:00</td>\n",
       "      <td>BUY</td>\n",
       "    </tr>\n",
       "    <tr>\n",
       "      <th>93</th>\n",
       "      <td>2023-01-05 14:00:00</td>\n",
       "      <td>SELL</td>\n",
       "    </tr>\n",
       "    <tr>\n",
       "      <th>95</th>\n",
       "      <td>2023-01-05 16:00:00</td>\n",
       "      <td>BUY</td>\n",
       "    </tr>\n",
       "    <tr>\n",
       "      <th>99</th>\n",
       "      <td>2023-01-05 20:00:00</td>\n",
       "      <td>SELL</td>\n",
       "    </tr>\n",
       "  </tbody>\n",
       "</table>\n",
       "</div>"
      ],
      "text/plain": [
       "              timestamp signal\n",
       "5   2022-12-28 06:00:00   SELL\n",
       "8   2022-12-28 09:00:00    BUY\n",
       "9   2022-12-28 10:00:00   SELL\n",
       "10  2022-12-28 11:00:00    BUY\n",
       "12  2022-12-28 13:00:00   SELL\n",
       "14  2022-12-28 15:00:00    BUY\n",
       "18  2022-12-28 19:00:00   SELL\n",
       "30  2022-12-29 15:00:00    BUY\n",
       "31  2022-12-29 16:00:00   SELL\n",
       "35  2022-12-29 20:00:00    BUY\n",
       "43  2022-12-30 12:00:00   SELL\n",
       "45  2022-12-30 14:00:00    BUY\n",
       "47  2022-12-30 16:00:00   SELL\n",
       "54  2023-01-03 07:00:00    BUY\n",
       "62  2023-01-03 15:00:00   SELL\n",
       "66  2023-01-03 19:00:00    BUY\n",
       "68  2023-01-04 05:00:00   SELL\n",
       "74  2023-01-04 11:00:00    BUY\n",
       "75  2023-01-04 12:00:00   SELL\n",
       "82  2023-01-04 19:00:00    BUY\n",
       "83  2023-01-04 20:00:00   SELL\n",
       "84  2023-01-05 05:00:00    BUY\n",
       "85  2023-01-05 06:00:00   SELL\n",
       "88  2023-01-05 09:00:00    BUY\n",
       "93  2023-01-05 14:00:00   SELL\n",
       "95  2023-01-05 16:00:00    BUY\n",
       "99  2023-01-05 20:00:00   SELL"
      ]
     },
     "execution_count": 411,
     "metadata": {},
     "output_type": "execute_result"
    }
   ],
   "source": [
    "class Strategy:\n",
    "    def __init__(self,script):\n",
    "        self.script = script\n",
    "    ##fetching the required data\n",
    "    def get_script_data(self):\n",
    "        script_data.fetch_intraday_data(self.script)\n",
    "        script_data.convert_intraday_data(self.script)\n",
    "    \n",
    "    ##function to geerate signals\n",
    "    def get_signal(self):\n",
    "        signals = pd.DataFrame()\n",
    "        signals[\"timestamp\"] = script_data.main_var[\"timestamp\"]\n",
    "        signals[\"signal\"] = None\n",
    "        close_data = script_data.main_var[\"close\"]\n",
    "        indicator_data = indicator1(script_data.main_var,5)[\"indicator\"]\n",
    "        temp = pd.DataFrame()###temproray dtaframe\n",
    "        temp[\"prev_indicator\"] = indicator_data.shift(1)\n",
    "        temp[\"indicator\"] = indicator_data\n",
    "        temp[\"close\"] = close_data\n",
    "        temp = temp.astype(float)\n",
    "\n",
    "            \n",
    "        prev_indicator = indicator_data.shift(1)##prev indicator value in column\n",
    "        prev_close = temp[\"close\"].shift(1)##prev closevalue in column\n",
    "        \n",
    "        \n",
    "        \n",
    "        ##defining cut_upwards , cut_downward, \n",
    "        ## if the current indicator value is greater than close and previous indicator value is less then previous the it is a \"BULLISH\" crossover\n",
    "        ##if the current indicator value is less than close and previous indicator value is greater then previous the it is a \"BEARISH\" crossover\n",
    "\n",
    "        upward_crossing  = ((temp['indicator'] > temp['close']) & (prev_indicator < prev_close))## returns true if cndition is matced\n",
    "        downward_crossing = ((temp['indicator'] < temp['close']) & (prev_indicator > prev_close))      \n",
    "        \n",
    "\n",
    "        temp[\"upward_crossing\"] = upward_crossing\n",
    "        temp[\"downward_crossing\"]= downward_crossing\n",
    "        #print(signals) \n",
    "        ## here we are assigning BUY and sell value if the value of upward_crossing& downward_Crossing is TRUE\n",
    "        for i in range(len(temp[\"upward_crossing\"])):\n",
    "            if temp[\"upward_crossing\"][i] == True:\n",
    "                signals[\"signal\"][i] = \"BUY\"\n",
    "        for i in range(len(temp[\"downward_crossing\"])):\n",
    "            if temp[\"downward_crossing\"][i] == True:\n",
    "                signals[\"signal\"][i] = \"SELL\"\n",
    "            #if there is no buy and sell seignal we assign that column with \"NO SISGNAL\"\n",
    "            elif signals[\"signal\"][i] == None:\n",
    "                signals[\"signal\"][i] = \"NO SIGNAL\"\n",
    "                \n",
    "        signal_lst = [\"BUY\",\"SELL\"]\n",
    "        #print(temp)\n",
    "        ##returning the dataframe with only buy and sell value \n",
    "        return signals[signals.signal.isin(signal_lst)]\n",
    "        \n",
    "        \n",
    "strat = Strategy(\"NVDA\")\n",
    "strat.get_script_data()\n",
    "strat.get_signal()"
   ]
  },
  {
   "cell_type": "code",
   "execution_count": 412,
   "id": "d53638e5",
   "metadata": {},
   "outputs": [],
   "source": [
    "#!pip install pyalgotrading"
   ]
  },
  {
   "cell_type": "code",
   "execution_count": 413,
   "id": "a6e7ad01",
   "metadata": {},
   "outputs": [],
   "source": [
    "# from pyalgotrading.utils.candlesticks.heikinashi import HeikinAshi\n",
    "# df = script_data.main_var\n",
    "# df['timestamp'] = df['timestamp'].astype('datetime64[ns]')\n",
    "# df = df.astype({col: float for col in df.columns[1:]})\n",
    "\n"
   ]
  },
  {
   "cell_type": "code",
   "execution_count": null,
   "id": "86e2b192",
   "metadata": {},
   "outputs": [],
   "source": []
  },
  {
   "cell_type": "code",
   "execution_count": 414,
   "id": "b85b1f40",
   "metadata": {},
   "outputs": [],
   "source": [
    "import plotly.graph_objects as go\n"
   ]
  },
  {
   "cell_type": "code",
   "execution_count": 415,
   "id": "849028b8",
   "metadata": {},
   "outputs": [
    {
     "data": {
      "application/vnd.plotly.v1+json": {
       "config": {
        "plotlyServerURL": "https://plot.ly"
       },
       "data": [
        {
         "close": [
          "140.2999",
          "140.3500",
          "140.2700",
          "139.9900",
          "139.0000",
          "141.0000",
          "141.0200",
          "141.2500",
          "140.1600",
          "140.9460",
          "139.4508",
          "140.0700",
          "141.5400",
          "141.3299",
          "140.4300",
          "140.3600",
          "140.3600",
          "140.2700",
          "140.4700",
          "140.5500",
          "142.0400",
          "142.0600",
          "142.0200",
          "142.0000",
          "144.2400",
          "144.6450",
          "145.4000",
          "146.3500",
          "146.4300",
          "145.8250",
          "145.2300",
          "146.0300",
          "146.1100",
          "146.1000",
          "146.0500",
          "145.9500",
          "145.0000",
          "145.6000",
          "145.0000",
          "143.8000",
          "143.5100",
          "144.3200",
          "143.9652",
          "144.6520",
          "144.9595",
          "144.1700",
          "144.0500",
          "146.1450",
          "146.2375",
          "146.3300",
          "146.3600",
          "146.4000",
          "149.7800",
          "149.4900",
          "148.0000",
          "148.1500",
          "148.5000",
          "145.4273",
          "143.3700",
          "141.3900",
          "141.9773",
          "142.6201",
          "143.1100",
          "143.1500",
          "143.3700",
          "143.1400",
          "143.1400",
          "143.1100",
          "144.8200",
          "144.6700",
          "145.3000",
          "145.0000",
          "146.0100",
          "145.3800",
          "144.0600",
          "146.6900",
          "146.4900",
          "147.4900",
          "147.7000",
          "147.5500",
          "147.4000",
          "147.7100",
          "147.4700",
          "147.5900",
          "146.8500",
          "147.6100",
          "148.1200",
          "148.2000",
          "144.9500",
          "143.2350",
          "141.9400",
          "141.9900",
          "142.5678",
          "143.5900",
          "143.8300",
          "142.6600",
          "142.8600",
          "142.7500",
          "142.7300",
          "142.9900"
         ],
         "high": [
          "141.3000",
          "141.2100",
          "140.4800",
          "140.4000",
          "141.2100",
          "141.2100",
          "141.3800",
          "141.4000",
          "141.4299",
          "142.6200",
          "142.1200",
          "140.6099",
          "141.6700",
          "141.8300",
          "141.5900",
          "140.7300",
          "140.5800",
          "140.4500",
          "140.4900",
          "140.5800",
          "142.0400",
          "142.1200",
          "142.3000",
          "142.0200",
          "144.9500",
          "145.3100",
          "145.4900",
          "146.7996",
          "146.5800",
          "146.4500",
          "146.0900",
          "146.8300",
          "146.2999",
          "146.1100",
          "146.1200",
          "146.0500",
          "145.5100",
          "145.6000",
          "145.2000",
          "144.9000",
          "144.9900",
          "144.5700",
          "144.8000",
          "144.7550",
          "145.1700",
          "144.9900",
          "144.2800",
          "146.2899",
          "146.7500",
          "146.4199",
          "146.4000",
          "146.4800",
          "151.0000",
          "149.8800",
          "149.7000",
          "148.6400",
          "148.7500",
          "149.9600",
          "145.5900",
          "143.5700",
          "142.5100",
          "142.8600",
          "143.6300",
          "144.0800",
          "143.3700",
          "143.3700",
          "143.2200",
          "143.3400",
          "145.1400",
          "145.2100",
          "145.4000",
          "145.3700",
          "146.1500",
          "148.1400",
          "146.1300",
          "147.7900",
          "147.6800",
          "148.1131",
          "148.5300",
          "148.2999",
          "147.9900",
          "147.8800",
          "147.5700",
          "147.6900",
          "147.1700",
          "147.9400",
          "148.2700",
          "148.7400",
          "148.7885",
          "145.6400",
          "145.0000",
          "143.0799",
          "143.4700",
          "144.7779",
          "144.4800",
          "143.9800",
          "142.9000",
          "142.8100",
          "142.8800",
          "143.0900"
         ],
         "low": [
          "140.2600",
          "140.1300",
          "140.2600",
          "139.9500",
          "138.7500",
          "138.4700",
          "140.0200",
          "140.3500",
          "139.7100",
          "138.8400",
          "139.4200",
          "138.8600",
          "139.6615",
          "140.8600",
          "139.9050",
          "139.5900",
          "140.1600",
          "140.1600",
          "140.2800",
          "140.2000",
          "140.9100",
          "141.7300",
          "141.8300",
          "141.7600",
          "141.7300",
          "142.2700",
          "143.6100",
          "144.8100",
          "145.2500",
          "145.3200",
          "145.0100",
          "145.1600",
          "146.0000",
          "146.0500",
          "146.0300",
          "145.8600",
          "144.0900",
          "145.0800",
          "145.0000",
          "143.7700",
          "143.1500",
          "142.3300",
          "143.3600",
          "143.3800",
          "144.2554",
          "143.6200",
          "143.6500",
          "144.0334",
          "145.9000",
          "146.2300",
          "146.3200",
          "146.3600",
          "148.1700",
          "148.8000",
          "147.7600",
          "147.0000",
          "146.7100",
          "145.3600",
          "141.0301",
          "140.9600",
          "141.2901",
          "141.6300",
          "141.6400",
          "142.7300",
          "142.8000",
          "143.1400",
          "143.0700",
          "143.0500",
          "143.0800",
          "144.4500",
          "145.1400",
          "144.7500",
          "144.2500",
          "144.5400",
          "142.4100",
          "143.4662",
          "146.0141",
          "146.2000",
          "145.3600",
          "145.7101",
          "147.2854",
          "147.4000",
          "147.3900",
          "147.3000",
          "146.4000",
          "147.2300",
          "147.6000",
          "147.9000",
          "144.7700",
          "142.6200",
          "141.8200",
          "141.4795",
          "141.9750",
          "142.3800",
          "143.1706",
          "142.4000",
          "142.4410",
          "142.5600",
          "142.7000",
          "142.6800"
         ],
         "name": "Historical Data",
         "open": [
          "141.2100",
          "140.3000",
          "140.3500",
          "140.2700",
          "141.2100",
          "139.0800",
          "140.7100",
          "140.9300",
          "140.5001",
          "140.1600",
          "140.9350",
          "139.4504",
          "140.0300",
          "141.5500",
          "141.3500",
          "140.4700",
          "140.3600",
          "140.4000",
          "140.3000",
          "140.4900",
          "140.9100",
          "142.0400",
          "142.3000",
          "142.0200",
          "141.8600",
          "144.1000",
          "144.6700",
          "145.4200",
          "146.3800",
          "146.4400",
          "145.8200",
          "145.2200",
          "146.0300",
          "146.1100",
          "146.0800",
          "146.0200",
          "145.5100",
          "145.1000",
          "145.1800",
          "144.9000",
          "144.7106",
          "143.5200",
          "144.3200",
          "143.9500",
          "144.6700",
          "144.9800",
          "144.1900",
          "144.0700",
          "146.1400",
          "146.3000",
          "146.3900",
          "146.3600",
          "150.7000",
          "149.7900",
          "149.4500",
          "148.0000",
          "147.7600",
          "148.3200",
          "145.4500",
          "143.3800",
          "141.4050",
          "141.9700",
          "142.6400",
          "143.1200",
          "143.1500",
          "143.3700",
          "143.1300",
          "143.1500",
          "144.1500",
          "144.9900",
          "145.1800",
          "145.0000",
          "144.8000",
          "146.0800",
          "145.2300",
          "144.0500",
          "146.7000",
          "146.4850",
          "147.5300",
          "147.7100",
          "147.4900",
          "147.4500",
          "147.5700",
          "147.4700",
          "146.4600",
          "147.2300",
          "147.6000",
          "148.0500",
          "148.0400",
          "144.9700",
          "143.2250",
          "141.9250",
          "142.0100",
          "142.5636",
          "143.5800",
          "143.8400",
          "142.6500",
          "142.8100",
          "142.7800",
          "142.7000"
         ],
         "type": "candlestick",
         "x": [
          "21/12 17:00",
          "21/12 18:00",
          "21/12 19:00",
          "21/12 20:00",
          "22/12 05:00",
          "22/12 06:00",
          "22/12 07:00",
          "22/12 08:00",
          "22/12 09:00",
          "22/12 10:00",
          "22/12 11:00",
          "22/12 12:00",
          "22/12 13:00",
          "22/12 14:00",
          "22/12 15:00",
          "22/12 16:00",
          "22/12 17:00",
          "22/12 18:00",
          "22/12 19:00",
          "22/12 20:00",
          "23/12 05:00",
          "23/12 06:00",
          "23/12 07:00",
          "23/12 08:00",
          "23/12 09:00",
          "23/12 10:00",
          "23/12 11:00",
          "23/12 12:00",
          "23/12 13:00",
          "23/12 14:00",
          "23/12 15:00",
          "23/12 16:00",
          "23/12 17:00",
          "23/12 18:00",
          "23/12 19:00",
          "23/12 20:00",
          "27/12 05:00",
          "27/12 06:00",
          "27/12 07:00",
          "27/12 08:00",
          "27/12 09:00",
          "27/12 10:00",
          "27/12 11:00",
          "27/12 12:00",
          "27/12 13:00",
          "27/12 14:00",
          "27/12 15:00",
          "27/12 16:00",
          "27/12 17:00",
          "27/12 18:00",
          "27/12 19:00",
          "27/12 20:00",
          "28/12 05:00",
          "28/12 06:00",
          "28/12 07:00",
          "28/12 08:00",
          "28/12 09:00",
          "28/12 10:00",
          "28/12 11:00",
          "28/12 12:00",
          "28/12 13:00",
          "28/12 14:00",
          "28/12 15:00",
          "28/12 16:00",
          "28/12 17:00",
          "28/12 18:00",
          "28/12 19:00",
          "28/12 20:00",
          "29/12 05:00",
          "29/12 06:00",
          "29/12 07:00",
          "29/12 08:00",
          "29/12 09:00",
          "29/12 10:00",
          "29/12 11:00",
          "29/12 12:00",
          "29/12 13:00",
          "29/12 14:00",
          "29/12 15:00",
          "29/12 16:00",
          "29/12 17:00",
          "29/12 18:00",
          "29/12 19:00",
          "29/12 20:00",
          "30/12 05:00",
          "30/12 06:00",
          "30/12 07:00",
          "30/12 08:00",
          "30/12 09:00",
          "30/12 10:00",
          "30/12 11:00",
          "30/12 12:00",
          "30/12 13:00",
          "30/12 14:00",
          "30/12 15:00",
          "30/12 16:00",
          "30/12 17:00",
          "30/12 18:00",
          "30/12 19:00",
          "30/12 20:00"
         ]
        },
        {
         "mode": "lines",
         "name": "SMA",
         "type": "scatter",
         "x": [
          "21/12 17:00",
          "21/12 18:00",
          "21/12 19:00",
          "21/12 20:00",
          "22/12 05:00",
          "22/12 06:00",
          "22/12 07:00",
          "22/12 08:00",
          "22/12 09:00",
          "22/12 10:00",
          "22/12 11:00",
          "22/12 12:00",
          "22/12 13:00",
          "22/12 14:00",
          "22/12 15:00",
          "22/12 16:00",
          "22/12 17:00",
          "22/12 18:00",
          "22/12 19:00",
          "22/12 20:00",
          "23/12 05:00",
          "23/12 06:00",
          "23/12 07:00",
          "23/12 08:00",
          "23/12 09:00",
          "23/12 10:00",
          "23/12 11:00",
          "23/12 12:00",
          "23/12 13:00",
          "23/12 14:00",
          "23/12 15:00",
          "23/12 16:00",
          "23/12 17:00",
          "23/12 18:00",
          "23/12 19:00",
          "23/12 20:00",
          "27/12 05:00",
          "27/12 06:00",
          "27/12 07:00",
          "27/12 08:00",
          "27/12 09:00",
          "27/12 10:00",
          "27/12 11:00",
          "27/12 12:00",
          "27/12 13:00",
          "27/12 14:00",
          "27/12 15:00",
          "27/12 16:00",
          "27/12 17:00",
          "27/12 18:00",
          "27/12 19:00",
          "27/12 20:00",
          "28/12 05:00",
          "28/12 06:00",
          "28/12 07:00",
          "28/12 08:00",
          "28/12 09:00",
          "28/12 10:00",
          "28/12 11:00",
          "28/12 12:00",
          "28/12 13:00",
          "28/12 14:00",
          "28/12 15:00",
          "28/12 16:00",
          "28/12 17:00",
          "28/12 18:00",
          "28/12 19:00",
          "28/12 20:00",
          "29/12 05:00",
          "29/12 06:00",
          "29/12 07:00",
          "29/12 08:00",
          "29/12 09:00",
          "29/12 10:00",
          "29/12 11:00",
          "29/12 12:00",
          "29/12 13:00",
          "29/12 14:00",
          "29/12 15:00",
          "29/12 16:00",
          "29/12 17:00",
          "29/12 18:00",
          "29/12 19:00",
          "29/12 20:00",
          "30/12 05:00",
          "30/12 06:00",
          "30/12 07:00",
          "30/12 08:00",
          "30/12 09:00",
          "30/12 10:00",
          "30/12 11:00",
          "30/12 12:00",
          "30/12 13:00",
          "30/12 14:00",
          "30/12 15:00",
          "30/12 16:00",
          "30/12 17:00",
          "30/12 18:00",
          "30/12 19:00",
          "30/12 20:00"
         ],
         "y": [
          null,
          null,
          null,
          null,
          139.98198,
          140.122,
          140.256,
          140.452,
          140.48600000000002,
          140.8752,
          140.56536,
          140.37536,
          140.43336,
          140.66734,
          140.56414,
          140.74598,
          140.80398,
          140.54998000000003,
          140.37800000000001,
          140.402,
          140.738,
          141.078,
          141.428,
          141.734,
          142.472,
          142.993,
          143.661,
          144.527,
          145.413,
          145.73,
          145.847,
          145.973,
          145.925,
          145.85899999999998,
          145.904,
          146.048,
          145.842,
          145.74,
          145.52,
          145.07,
          144.582,
          144.446,
          144.11903999999998,
          144.04944,
          144.28134,
          144.41334,
          144.35934,
          144.7953,
          145.11239999999998,
          145.3865,
          145.8245,
          146.29450000000003,
          147.0215,
          147.67200000000003,
          148.00600000000003,
          148.364,
          148.78400000000002,
          147.91346,
          146.68946,
          145.36746,
          144.13292,
          142.95694,
          142.49348000000003,
          142.44948000000002,
          142.84548,
          143.07801999999998,
          143.182,
          143.182,
          143.516,
          143.776,
          144.208,
          144.57999999999998,
          145.16,
          145.272,
          145.15,
          145.428,
          145.726,
          146.022,
          146.48600000000002,
          147.184,
          147.32600000000002,
          147.57,
          147.566,
          147.544,
          147.404,
          147.446,
          147.52800000000002,
          147.674,
          147.14600000000002,
          146.423,
          145.289,
          144.06300000000002,
          142.93656000000001,
          142.66456,
          142.78356000000002,
          142.92756,
          143.10156,
          143.138,
          142.966,
          142.798
         ]
        }
       ],
       "layout": {
        "template": {
         "data": {
          "bar": [
           {
            "error_x": {
             "color": "#2a3f5f"
            },
            "error_y": {
             "color": "#2a3f5f"
            },
            "marker": {
             "line": {
              "color": "#E5ECF6",
              "width": 0.5
             },
             "pattern": {
              "fillmode": "overlay",
              "size": 10,
              "solidity": 0.2
             }
            },
            "type": "bar"
           }
          ],
          "barpolar": [
           {
            "marker": {
             "line": {
              "color": "#E5ECF6",
              "width": 0.5
             },
             "pattern": {
              "fillmode": "overlay",
              "size": 10,
              "solidity": 0.2
             }
            },
            "type": "barpolar"
           }
          ],
          "carpet": [
           {
            "aaxis": {
             "endlinecolor": "#2a3f5f",
             "gridcolor": "white",
             "linecolor": "white",
             "minorgridcolor": "white",
             "startlinecolor": "#2a3f5f"
            },
            "baxis": {
             "endlinecolor": "#2a3f5f",
             "gridcolor": "white",
             "linecolor": "white",
             "minorgridcolor": "white",
             "startlinecolor": "#2a3f5f"
            },
            "type": "carpet"
           }
          ],
          "choropleth": [
           {
            "colorbar": {
             "outlinewidth": 0,
             "ticks": ""
            },
            "type": "choropleth"
           }
          ],
          "contour": [
           {
            "colorbar": {
             "outlinewidth": 0,
             "ticks": ""
            },
            "colorscale": [
             [
              0,
              "#0d0887"
             ],
             [
              0.1111111111111111,
              "#46039f"
             ],
             [
              0.2222222222222222,
              "#7201a8"
             ],
             [
              0.3333333333333333,
              "#9c179e"
             ],
             [
              0.4444444444444444,
              "#bd3786"
             ],
             [
              0.5555555555555556,
              "#d8576b"
             ],
             [
              0.6666666666666666,
              "#ed7953"
             ],
             [
              0.7777777777777778,
              "#fb9f3a"
             ],
             [
              0.8888888888888888,
              "#fdca26"
             ],
             [
              1,
              "#f0f921"
             ]
            ],
            "type": "contour"
           }
          ],
          "contourcarpet": [
           {
            "colorbar": {
             "outlinewidth": 0,
             "ticks": ""
            },
            "type": "contourcarpet"
           }
          ],
          "heatmap": [
           {
            "colorbar": {
             "outlinewidth": 0,
             "ticks": ""
            },
            "colorscale": [
             [
              0,
              "#0d0887"
             ],
             [
              0.1111111111111111,
              "#46039f"
             ],
             [
              0.2222222222222222,
              "#7201a8"
             ],
             [
              0.3333333333333333,
              "#9c179e"
             ],
             [
              0.4444444444444444,
              "#bd3786"
             ],
             [
              0.5555555555555556,
              "#d8576b"
             ],
             [
              0.6666666666666666,
              "#ed7953"
             ],
             [
              0.7777777777777778,
              "#fb9f3a"
             ],
             [
              0.8888888888888888,
              "#fdca26"
             ],
             [
              1,
              "#f0f921"
             ]
            ],
            "type": "heatmap"
           }
          ],
          "heatmapgl": [
           {
            "colorbar": {
             "outlinewidth": 0,
             "ticks": ""
            },
            "colorscale": [
             [
              0,
              "#0d0887"
             ],
             [
              0.1111111111111111,
              "#46039f"
             ],
             [
              0.2222222222222222,
              "#7201a8"
             ],
             [
              0.3333333333333333,
              "#9c179e"
             ],
             [
              0.4444444444444444,
              "#bd3786"
             ],
             [
              0.5555555555555556,
              "#d8576b"
             ],
             [
              0.6666666666666666,
              "#ed7953"
             ],
             [
              0.7777777777777778,
              "#fb9f3a"
             ],
             [
              0.8888888888888888,
              "#fdca26"
             ],
             [
              1,
              "#f0f921"
             ]
            ],
            "type": "heatmapgl"
           }
          ],
          "histogram": [
           {
            "marker": {
             "pattern": {
              "fillmode": "overlay",
              "size": 10,
              "solidity": 0.2
             }
            },
            "type": "histogram"
           }
          ],
          "histogram2d": [
           {
            "colorbar": {
             "outlinewidth": 0,
             "ticks": ""
            },
            "colorscale": [
             [
              0,
              "#0d0887"
             ],
             [
              0.1111111111111111,
              "#46039f"
             ],
             [
              0.2222222222222222,
              "#7201a8"
             ],
             [
              0.3333333333333333,
              "#9c179e"
             ],
             [
              0.4444444444444444,
              "#bd3786"
             ],
             [
              0.5555555555555556,
              "#d8576b"
             ],
             [
              0.6666666666666666,
              "#ed7953"
             ],
             [
              0.7777777777777778,
              "#fb9f3a"
             ],
             [
              0.8888888888888888,
              "#fdca26"
             ],
             [
              1,
              "#f0f921"
             ]
            ],
            "type": "histogram2d"
           }
          ],
          "histogram2dcontour": [
           {
            "colorbar": {
             "outlinewidth": 0,
             "ticks": ""
            },
            "colorscale": [
             [
              0,
              "#0d0887"
             ],
             [
              0.1111111111111111,
              "#46039f"
             ],
             [
              0.2222222222222222,
              "#7201a8"
             ],
             [
              0.3333333333333333,
              "#9c179e"
             ],
             [
              0.4444444444444444,
              "#bd3786"
             ],
             [
              0.5555555555555556,
              "#d8576b"
             ],
             [
              0.6666666666666666,
              "#ed7953"
             ],
             [
              0.7777777777777778,
              "#fb9f3a"
             ],
             [
              0.8888888888888888,
              "#fdca26"
             ],
             [
              1,
              "#f0f921"
             ]
            ],
            "type": "histogram2dcontour"
           }
          ],
          "mesh3d": [
           {
            "colorbar": {
             "outlinewidth": 0,
             "ticks": ""
            },
            "type": "mesh3d"
           }
          ],
          "parcoords": [
           {
            "line": {
             "colorbar": {
              "outlinewidth": 0,
              "ticks": ""
             }
            },
            "type": "parcoords"
           }
          ],
          "pie": [
           {
            "automargin": true,
            "type": "pie"
           }
          ],
          "scatter": [
           {
            "fillpattern": {
             "fillmode": "overlay",
             "size": 10,
             "solidity": 0.2
            },
            "type": "scatter"
           }
          ],
          "scatter3d": [
           {
            "line": {
             "colorbar": {
              "outlinewidth": 0,
              "ticks": ""
             }
            },
            "marker": {
             "colorbar": {
              "outlinewidth": 0,
              "ticks": ""
             }
            },
            "type": "scatter3d"
           }
          ],
          "scattercarpet": [
           {
            "marker": {
             "colorbar": {
              "outlinewidth": 0,
              "ticks": ""
             }
            },
            "type": "scattercarpet"
           }
          ],
          "scattergeo": [
           {
            "marker": {
             "colorbar": {
              "outlinewidth": 0,
              "ticks": ""
             }
            },
            "type": "scattergeo"
           }
          ],
          "scattergl": [
           {
            "marker": {
             "colorbar": {
              "outlinewidth": 0,
              "ticks": ""
             }
            },
            "type": "scattergl"
           }
          ],
          "scattermapbox": [
           {
            "marker": {
             "colorbar": {
              "outlinewidth": 0,
              "ticks": ""
             }
            },
            "type": "scattermapbox"
           }
          ],
          "scatterpolar": [
           {
            "marker": {
             "colorbar": {
              "outlinewidth": 0,
              "ticks": ""
             }
            },
            "type": "scatterpolar"
           }
          ],
          "scatterpolargl": [
           {
            "marker": {
             "colorbar": {
              "outlinewidth": 0,
              "ticks": ""
             }
            },
            "type": "scatterpolargl"
           }
          ],
          "scatterternary": [
           {
            "marker": {
             "colorbar": {
              "outlinewidth": 0,
              "ticks": ""
             }
            },
            "type": "scatterternary"
           }
          ],
          "surface": [
           {
            "colorbar": {
             "outlinewidth": 0,
             "ticks": ""
            },
            "colorscale": [
             [
              0,
              "#0d0887"
             ],
             [
              0.1111111111111111,
              "#46039f"
             ],
             [
              0.2222222222222222,
              "#7201a8"
             ],
             [
              0.3333333333333333,
              "#9c179e"
             ],
             [
              0.4444444444444444,
              "#bd3786"
             ],
             [
              0.5555555555555556,
              "#d8576b"
             ],
             [
              0.6666666666666666,
              "#ed7953"
             ],
             [
              0.7777777777777778,
              "#fb9f3a"
             ],
             [
              0.8888888888888888,
              "#fdca26"
             ],
             [
              1,
              "#f0f921"
             ]
            ],
            "type": "surface"
           }
          ],
          "table": [
           {
            "cells": {
             "fill": {
              "color": "#EBF0F8"
             },
             "line": {
              "color": "white"
             }
            },
            "header": {
             "fill": {
              "color": "#C8D4E3"
             },
             "line": {
              "color": "white"
             }
            },
            "type": "table"
           }
          ]
         },
         "layout": {
          "annotationdefaults": {
           "arrowcolor": "#2a3f5f",
           "arrowhead": 0,
           "arrowwidth": 1
          },
          "autotypenumbers": "strict",
          "coloraxis": {
           "colorbar": {
            "outlinewidth": 0,
            "ticks": ""
           }
          },
          "colorscale": {
           "diverging": [
            [
             0,
             "#8e0152"
            ],
            [
             0.1,
             "#c51b7d"
            ],
            [
             0.2,
             "#de77ae"
            ],
            [
             0.3,
             "#f1b6da"
            ],
            [
             0.4,
             "#fde0ef"
            ],
            [
             0.5,
             "#f7f7f7"
            ],
            [
             0.6,
             "#e6f5d0"
            ],
            [
             0.7,
             "#b8e186"
            ],
            [
             0.8,
             "#7fbc41"
            ],
            [
             0.9,
             "#4d9221"
            ],
            [
             1,
             "#276419"
            ]
           ],
           "sequential": [
            [
             0,
             "#0d0887"
            ],
            [
             0.1111111111111111,
             "#46039f"
            ],
            [
             0.2222222222222222,
             "#7201a8"
            ],
            [
             0.3333333333333333,
             "#9c179e"
            ],
            [
             0.4444444444444444,
             "#bd3786"
            ],
            [
             0.5555555555555556,
             "#d8576b"
            ],
            [
             0.6666666666666666,
             "#ed7953"
            ],
            [
             0.7777777777777778,
             "#fb9f3a"
            ],
            [
             0.8888888888888888,
             "#fdca26"
            ],
            [
             1,
             "#f0f921"
            ]
           ],
           "sequentialminus": [
            [
             0,
             "#0d0887"
            ],
            [
             0.1111111111111111,
             "#46039f"
            ],
            [
             0.2222222222222222,
             "#7201a8"
            ],
            [
             0.3333333333333333,
             "#9c179e"
            ],
            [
             0.4444444444444444,
             "#bd3786"
            ],
            [
             0.5555555555555556,
             "#d8576b"
            ],
            [
             0.6666666666666666,
             "#ed7953"
            ],
            [
             0.7777777777777778,
             "#fb9f3a"
            ],
            [
             0.8888888888888888,
             "#fdca26"
            ],
            [
             1,
             "#f0f921"
            ]
           ]
          },
          "colorway": [
           "#636efa",
           "#EF553B",
           "#00cc96",
           "#ab63fa",
           "#FFA15A",
           "#19d3f3",
           "#FF6692",
           "#B6E880",
           "#FF97FF",
           "#FECB52"
          ],
          "font": {
           "color": "#2a3f5f"
          },
          "geo": {
           "bgcolor": "white",
           "lakecolor": "white",
           "landcolor": "#E5ECF6",
           "showlakes": true,
           "showland": true,
           "subunitcolor": "white"
          },
          "hoverlabel": {
           "align": "left"
          },
          "hovermode": "closest",
          "mapbox": {
           "style": "light"
          },
          "paper_bgcolor": "white",
          "plot_bgcolor": "#E5ECF6",
          "polar": {
           "angularaxis": {
            "gridcolor": "white",
            "linecolor": "white",
            "ticks": ""
           },
           "bgcolor": "#E5ECF6",
           "radialaxis": {
            "gridcolor": "white",
            "linecolor": "white",
            "ticks": ""
           }
          },
          "scene": {
           "xaxis": {
            "backgroundcolor": "#E5ECF6",
            "gridcolor": "white",
            "gridwidth": 2,
            "linecolor": "white",
            "showbackground": true,
            "ticks": "",
            "zerolinecolor": "white"
           },
           "yaxis": {
            "backgroundcolor": "#E5ECF6",
            "gridcolor": "white",
            "gridwidth": 2,
            "linecolor": "white",
            "showbackground": true,
            "ticks": "",
            "zerolinecolor": "white"
           },
           "zaxis": {
            "backgroundcolor": "#E5ECF6",
            "gridcolor": "white",
            "gridwidth": 2,
            "linecolor": "white",
            "showbackground": true,
            "ticks": "",
            "zerolinecolor": "white"
           }
          },
          "shapedefaults": {
           "line": {
            "color": "#2a3f5f"
           }
          },
          "ternary": {
           "aaxis": {
            "gridcolor": "white",
            "linecolor": "white",
            "ticks": ""
           },
           "baxis": {
            "gridcolor": "white",
            "linecolor": "white",
            "ticks": ""
           },
           "bgcolor": "#E5ECF6",
           "caxis": {
            "gridcolor": "white",
            "linecolor": "white",
            "ticks": ""
           }
          },
          "title": {
           "x": 0.05
          },
          "xaxis": {
           "automargin": true,
           "gridcolor": "white",
           "linecolor": "white",
           "ticks": "",
           "title": {
            "standoff": 15
           },
           "zerolinecolor": "white",
           "zerolinewidth": 2
          },
          "yaxis": {
           "automargin": true,
           "gridcolor": "white",
           "linecolor": "white",
           "ticks": "",
           "title": {
            "standoff": 15
           },
           "zerolinecolor": "white",
           "zerolinewidth": 2
          }
         }
        },
        "xaxis": {
         "type": "category"
        }
       }
      },
      "text/html": [
       "<div>                            <div id=\"c77bcdcf-e01f-4a46-9c97-77e651647c4b\" class=\"plotly-graph-div\" style=\"height:525px; width:100%;\"></div>            <script type=\"text/javascript\">                require([\"plotly\"], function(Plotly) {                    window.PLOTLYENV=window.PLOTLYENV || {};                                    if (document.getElementById(\"c77bcdcf-e01f-4a46-9c97-77e651647c4b\")) {                    Plotly.newPlot(                        \"c77bcdcf-e01f-4a46-9c97-77e651647c4b\",                        [{\"close\":[\"140.2999\",\"140.3500\",\"140.2700\",\"139.9900\",\"139.0000\",\"141.0000\",\"141.0200\",\"141.2500\",\"140.1600\",\"140.9460\",\"139.4508\",\"140.0700\",\"141.5400\",\"141.3299\",\"140.4300\",\"140.3600\",\"140.3600\",\"140.2700\",\"140.4700\",\"140.5500\",\"142.0400\",\"142.0600\",\"142.0200\",\"142.0000\",\"144.2400\",\"144.6450\",\"145.4000\",\"146.3500\",\"146.4300\",\"145.8250\",\"145.2300\",\"146.0300\",\"146.1100\",\"146.1000\",\"146.0500\",\"145.9500\",\"145.0000\",\"145.6000\",\"145.0000\",\"143.8000\",\"143.5100\",\"144.3200\",\"143.9652\",\"144.6520\",\"144.9595\",\"144.1700\",\"144.0500\",\"146.1450\",\"146.2375\",\"146.3300\",\"146.3600\",\"146.4000\",\"149.7800\",\"149.4900\",\"148.0000\",\"148.1500\",\"148.5000\",\"145.4273\",\"143.3700\",\"141.3900\",\"141.9773\",\"142.6201\",\"143.1100\",\"143.1500\",\"143.3700\",\"143.1400\",\"143.1400\",\"143.1100\",\"144.8200\",\"144.6700\",\"145.3000\",\"145.0000\",\"146.0100\",\"145.3800\",\"144.0600\",\"146.6900\",\"146.4900\",\"147.4900\",\"147.7000\",\"147.5500\",\"147.4000\",\"147.7100\",\"147.4700\",\"147.5900\",\"146.8500\",\"147.6100\",\"148.1200\",\"148.2000\",\"144.9500\",\"143.2350\",\"141.9400\",\"141.9900\",\"142.5678\",\"143.5900\",\"143.8300\",\"142.6600\",\"142.8600\",\"142.7500\",\"142.7300\",\"142.9900\"],\"high\":[\"141.3000\",\"141.2100\",\"140.4800\",\"140.4000\",\"141.2100\",\"141.2100\",\"141.3800\",\"141.4000\",\"141.4299\",\"142.6200\",\"142.1200\",\"140.6099\",\"141.6700\",\"141.8300\",\"141.5900\",\"140.7300\",\"140.5800\",\"140.4500\",\"140.4900\",\"140.5800\",\"142.0400\",\"142.1200\",\"142.3000\",\"142.0200\",\"144.9500\",\"145.3100\",\"145.4900\",\"146.7996\",\"146.5800\",\"146.4500\",\"146.0900\",\"146.8300\",\"146.2999\",\"146.1100\",\"146.1200\",\"146.0500\",\"145.5100\",\"145.6000\",\"145.2000\",\"144.9000\",\"144.9900\",\"144.5700\",\"144.8000\",\"144.7550\",\"145.1700\",\"144.9900\",\"144.2800\",\"146.2899\",\"146.7500\",\"146.4199\",\"146.4000\",\"146.4800\",\"151.0000\",\"149.8800\",\"149.7000\",\"148.6400\",\"148.7500\",\"149.9600\",\"145.5900\",\"143.5700\",\"142.5100\",\"142.8600\",\"143.6300\",\"144.0800\",\"143.3700\",\"143.3700\",\"143.2200\",\"143.3400\",\"145.1400\",\"145.2100\",\"145.4000\",\"145.3700\",\"146.1500\",\"148.1400\",\"146.1300\",\"147.7900\",\"147.6800\",\"148.1131\",\"148.5300\",\"148.2999\",\"147.9900\",\"147.8800\",\"147.5700\",\"147.6900\",\"147.1700\",\"147.9400\",\"148.2700\",\"148.7400\",\"148.7885\",\"145.6400\",\"145.0000\",\"143.0799\",\"143.4700\",\"144.7779\",\"144.4800\",\"143.9800\",\"142.9000\",\"142.8100\",\"142.8800\",\"143.0900\"],\"low\":[\"140.2600\",\"140.1300\",\"140.2600\",\"139.9500\",\"138.7500\",\"138.4700\",\"140.0200\",\"140.3500\",\"139.7100\",\"138.8400\",\"139.4200\",\"138.8600\",\"139.6615\",\"140.8600\",\"139.9050\",\"139.5900\",\"140.1600\",\"140.1600\",\"140.2800\",\"140.2000\",\"140.9100\",\"141.7300\",\"141.8300\",\"141.7600\",\"141.7300\",\"142.2700\",\"143.6100\",\"144.8100\",\"145.2500\",\"145.3200\",\"145.0100\",\"145.1600\",\"146.0000\",\"146.0500\",\"146.0300\",\"145.8600\",\"144.0900\",\"145.0800\",\"145.0000\",\"143.7700\",\"143.1500\",\"142.3300\",\"143.3600\",\"143.3800\",\"144.2554\",\"143.6200\",\"143.6500\",\"144.0334\",\"145.9000\",\"146.2300\",\"146.3200\",\"146.3600\",\"148.1700\",\"148.8000\",\"147.7600\",\"147.0000\",\"146.7100\",\"145.3600\",\"141.0301\",\"140.9600\",\"141.2901\",\"141.6300\",\"141.6400\",\"142.7300\",\"142.8000\",\"143.1400\",\"143.0700\",\"143.0500\",\"143.0800\",\"144.4500\",\"145.1400\",\"144.7500\",\"144.2500\",\"144.5400\",\"142.4100\",\"143.4662\",\"146.0141\",\"146.2000\",\"145.3600\",\"145.7101\",\"147.2854\",\"147.4000\",\"147.3900\",\"147.3000\",\"146.4000\",\"147.2300\",\"147.6000\",\"147.9000\",\"144.7700\",\"142.6200\",\"141.8200\",\"141.4795\",\"141.9750\",\"142.3800\",\"143.1706\",\"142.4000\",\"142.4410\",\"142.5600\",\"142.7000\",\"142.6800\"],\"name\":\"Historical Data\",\"open\":[\"141.2100\",\"140.3000\",\"140.3500\",\"140.2700\",\"141.2100\",\"139.0800\",\"140.7100\",\"140.9300\",\"140.5001\",\"140.1600\",\"140.9350\",\"139.4504\",\"140.0300\",\"141.5500\",\"141.3500\",\"140.4700\",\"140.3600\",\"140.4000\",\"140.3000\",\"140.4900\",\"140.9100\",\"142.0400\",\"142.3000\",\"142.0200\",\"141.8600\",\"144.1000\",\"144.6700\",\"145.4200\",\"146.3800\",\"146.4400\",\"145.8200\",\"145.2200\",\"146.0300\",\"146.1100\",\"146.0800\",\"146.0200\",\"145.5100\",\"145.1000\",\"145.1800\",\"144.9000\",\"144.7106\",\"143.5200\",\"144.3200\",\"143.9500\",\"144.6700\",\"144.9800\",\"144.1900\",\"144.0700\",\"146.1400\",\"146.3000\",\"146.3900\",\"146.3600\",\"150.7000\",\"149.7900\",\"149.4500\",\"148.0000\",\"147.7600\",\"148.3200\",\"145.4500\",\"143.3800\",\"141.4050\",\"141.9700\",\"142.6400\",\"143.1200\",\"143.1500\",\"143.3700\",\"143.1300\",\"143.1500\",\"144.1500\",\"144.9900\",\"145.1800\",\"145.0000\",\"144.8000\",\"146.0800\",\"145.2300\",\"144.0500\",\"146.7000\",\"146.4850\",\"147.5300\",\"147.7100\",\"147.4900\",\"147.4500\",\"147.5700\",\"147.4700\",\"146.4600\",\"147.2300\",\"147.6000\",\"148.0500\",\"148.0400\",\"144.9700\",\"143.2250\",\"141.9250\",\"142.0100\",\"142.5636\",\"143.5800\",\"143.8400\",\"142.6500\",\"142.8100\",\"142.7800\",\"142.7000\"],\"x\":[\"21/12 17:00\",\"21/12 18:00\",\"21/12 19:00\",\"21/12 20:00\",\"22/12 05:00\",\"22/12 06:00\",\"22/12 07:00\",\"22/12 08:00\",\"22/12 09:00\",\"22/12 10:00\",\"22/12 11:00\",\"22/12 12:00\",\"22/12 13:00\",\"22/12 14:00\",\"22/12 15:00\",\"22/12 16:00\",\"22/12 17:00\",\"22/12 18:00\",\"22/12 19:00\",\"22/12 20:00\",\"23/12 05:00\",\"23/12 06:00\",\"23/12 07:00\",\"23/12 08:00\",\"23/12 09:00\",\"23/12 10:00\",\"23/12 11:00\",\"23/12 12:00\",\"23/12 13:00\",\"23/12 14:00\",\"23/12 15:00\",\"23/12 16:00\",\"23/12 17:00\",\"23/12 18:00\",\"23/12 19:00\",\"23/12 20:00\",\"27/12 05:00\",\"27/12 06:00\",\"27/12 07:00\",\"27/12 08:00\",\"27/12 09:00\",\"27/12 10:00\",\"27/12 11:00\",\"27/12 12:00\",\"27/12 13:00\",\"27/12 14:00\",\"27/12 15:00\",\"27/12 16:00\",\"27/12 17:00\",\"27/12 18:00\",\"27/12 19:00\",\"27/12 20:00\",\"28/12 05:00\",\"28/12 06:00\",\"28/12 07:00\",\"28/12 08:00\",\"28/12 09:00\",\"28/12 10:00\",\"28/12 11:00\",\"28/12 12:00\",\"28/12 13:00\",\"28/12 14:00\",\"28/12 15:00\",\"28/12 16:00\",\"28/12 17:00\",\"28/12 18:00\",\"28/12 19:00\",\"28/12 20:00\",\"29/12 05:00\",\"29/12 06:00\",\"29/12 07:00\",\"29/12 08:00\",\"29/12 09:00\",\"29/12 10:00\",\"29/12 11:00\",\"29/12 12:00\",\"29/12 13:00\",\"29/12 14:00\",\"29/12 15:00\",\"29/12 16:00\",\"29/12 17:00\",\"29/12 18:00\",\"29/12 19:00\",\"29/12 20:00\",\"30/12 05:00\",\"30/12 06:00\",\"30/12 07:00\",\"30/12 08:00\",\"30/12 09:00\",\"30/12 10:00\",\"30/12 11:00\",\"30/12 12:00\",\"30/12 13:00\",\"30/12 14:00\",\"30/12 15:00\",\"30/12 16:00\",\"30/12 17:00\",\"30/12 18:00\",\"30/12 19:00\",\"30/12 20:00\"],\"type\":\"candlestick\"},{\"mode\":\"lines\",\"name\":\"SMA\",\"x\":[\"21/12 17:00\",\"21/12 18:00\",\"21/12 19:00\",\"21/12 20:00\",\"22/12 05:00\",\"22/12 06:00\",\"22/12 07:00\",\"22/12 08:00\",\"22/12 09:00\",\"22/12 10:00\",\"22/12 11:00\",\"22/12 12:00\",\"22/12 13:00\",\"22/12 14:00\",\"22/12 15:00\",\"22/12 16:00\",\"22/12 17:00\",\"22/12 18:00\",\"22/12 19:00\",\"22/12 20:00\",\"23/12 05:00\",\"23/12 06:00\",\"23/12 07:00\",\"23/12 08:00\",\"23/12 09:00\",\"23/12 10:00\",\"23/12 11:00\",\"23/12 12:00\",\"23/12 13:00\",\"23/12 14:00\",\"23/12 15:00\",\"23/12 16:00\",\"23/12 17:00\",\"23/12 18:00\",\"23/12 19:00\",\"23/12 20:00\",\"27/12 05:00\",\"27/12 06:00\",\"27/12 07:00\",\"27/12 08:00\",\"27/12 09:00\",\"27/12 10:00\",\"27/12 11:00\",\"27/12 12:00\",\"27/12 13:00\",\"27/12 14:00\",\"27/12 15:00\",\"27/12 16:00\",\"27/12 17:00\",\"27/12 18:00\",\"27/12 19:00\",\"27/12 20:00\",\"28/12 05:00\",\"28/12 06:00\",\"28/12 07:00\",\"28/12 08:00\",\"28/12 09:00\",\"28/12 10:00\",\"28/12 11:00\",\"28/12 12:00\",\"28/12 13:00\",\"28/12 14:00\",\"28/12 15:00\",\"28/12 16:00\",\"28/12 17:00\",\"28/12 18:00\",\"28/12 19:00\",\"28/12 20:00\",\"29/12 05:00\",\"29/12 06:00\",\"29/12 07:00\",\"29/12 08:00\",\"29/12 09:00\",\"29/12 10:00\",\"29/12 11:00\",\"29/12 12:00\",\"29/12 13:00\",\"29/12 14:00\",\"29/12 15:00\",\"29/12 16:00\",\"29/12 17:00\",\"29/12 18:00\",\"29/12 19:00\",\"29/12 20:00\",\"30/12 05:00\",\"30/12 06:00\",\"30/12 07:00\",\"30/12 08:00\",\"30/12 09:00\",\"30/12 10:00\",\"30/12 11:00\",\"30/12 12:00\",\"30/12 13:00\",\"30/12 14:00\",\"30/12 15:00\",\"30/12 16:00\",\"30/12 17:00\",\"30/12 18:00\",\"30/12 19:00\",\"30/12 20:00\"],\"y\":[null,null,null,null,139.98198,140.122,140.256,140.452,140.48600000000002,140.8752,140.56536,140.37536,140.43336,140.66734,140.56414,140.74598,140.80398,140.54998000000003,140.37800000000001,140.402,140.738,141.078,141.428,141.734,142.472,142.993,143.661,144.527,145.413,145.73,145.847,145.973,145.925,145.85899999999998,145.904,146.048,145.842,145.74,145.52,145.07,144.582,144.446,144.11903999999998,144.04944,144.28134,144.41334,144.35934,144.7953,145.11239999999998,145.3865,145.8245,146.29450000000003,147.0215,147.67200000000003,148.00600000000003,148.364,148.78400000000002,147.91346,146.68946,145.36746,144.13292,142.95694,142.49348000000003,142.44948000000002,142.84548,143.07801999999998,143.182,143.182,143.516,143.776,144.208,144.57999999999998,145.16,145.272,145.15,145.428,145.726,146.022,146.48600000000002,147.184,147.32600000000002,147.57,147.566,147.544,147.404,147.446,147.52800000000002,147.674,147.14600000000002,146.423,145.289,144.06300000000002,142.93656000000001,142.66456,142.78356000000002,142.92756,143.10156,143.138,142.966,142.798],\"type\":\"scatter\"}],                        {\"template\":{\"data\":{\"histogram2dcontour\":[{\"type\":\"histogram2dcontour\",\"colorbar\":{\"outlinewidth\":0,\"ticks\":\"\"},\"colorscale\":[[0.0,\"#0d0887\"],[0.1111111111111111,\"#46039f\"],[0.2222222222222222,\"#7201a8\"],[0.3333333333333333,\"#9c179e\"],[0.4444444444444444,\"#bd3786\"],[0.5555555555555556,\"#d8576b\"],[0.6666666666666666,\"#ed7953\"],[0.7777777777777778,\"#fb9f3a\"],[0.8888888888888888,\"#fdca26\"],[1.0,\"#f0f921\"]]}],\"choropleth\":[{\"type\":\"choropleth\",\"colorbar\":{\"outlinewidth\":0,\"ticks\":\"\"}}],\"histogram2d\":[{\"type\":\"histogram2d\",\"colorbar\":{\"outlinewidth\":0,\"ticks\":\"\"},\"colorscale\":[[0.0,\"#0d0887\"],[0.1111111111111111,\"#46039f\"],[0.2222222222222222,\"#7201a8\"],[0.3333333333333333,\"#9c179e\"],[0.4444444444444444,\"#bd3786\"],[0.5555555555555556,\"#d8576b\"],[0.6666666666666666,\"#ed7953\"],[0.7777777777777778,\"#fb9f3a\"],[0.8888888888888888,\"#fdca26\"],[1.0,\"#f0f921\"]]}],\"heatmap\":[{\"type\":\"heatmap\",\"colorbar\":{\"outlinewidth\":0,\"ticks\":\"\"},\"colorscale\":[[0.0,\"#0d0887\"],[0.1111111111111111,\"#46039f\"],[0.2222222222222222,\"#7201a8\"],[0.3333333333333333,\"#9c179e\"],[0.4444444444444444,\"#bd3786\"],[0.5555555555555556,\"#d8576b\"],[0.6666666666666666,\"#ed7953\"],[0.7777777777777778,\"#fb9f3a\"],[0.8888888888888888,\"#fdca26\"],[1.0,\"#f0f921\"]]}],\"heatmapgl\":[{\"type\":\"heatmapgl\",\"colorbar\":{\"outlinewidth\":0,\"ticks\":\"\"},\"colorscale\":[[0.0,\"#0d0887\"],[0.1111111111111111,\"#46039f\"],[0.2222222222222222,\"#7201a8\"],[0.3333333333333333,\"#9c179e\"],[0.4444444444444444,\"#bd3786\"],[0.5555555555555556,\"#d8576b\"],[0.6666666666666666,\"#ed7953\"],[0.7777777777777778,\"#fb9f3a\"],[0.8888888888888888,\"#fdca26\"],[1.0,\"#f0f921\"]]}],\"contourcarpet\":[{\"type\":\"contourcarpet\",\"colorbar\":{\"outlinewidth\":0,\"ticks\":\"\"}}],\"contour\":[{\"type\":\"contour\",\"colorbar\":{\"outlinewidth\":0,\"ticks\":\"\"},\"colorscale\":[[0.0,\"#0d0887\"],[0.1111111111111111,\"#46039f\"],[0.2222222222222222,\"#7201a8\"],[0.3333333333333333,\"#9c179e\"],[0.4444444444444444,\"#bd3786\"],[0.5555555555555556,\"#d8576b\"],[0.6666666666666666,\"#ed7953\"],[0.7777777777777778,\"#fb9f3a\"],[0.8888888888888888,\"#fdca26\"],[1.0,\"#f0f921\"]]}],\"surface\":[{\"type\":\"surface\",\"colorbar\":{\"outlinewidth\":0,\"ticks\":\"\"},\"colorscale\":[[0.0,\"#0d0887\"],[0.1111111111111111,\"#46039f\"],[0.2222222222222222,\"#7201a8\"],[0.3333333333333333,\"#9c179e\"],[0.4444444444444444,\"#bd3786\"],[0.5555555555555556,\"#d8576b\"],[0.6666666666666666,\"#ed7953\"],[0.7777777777777778,\"#fb9f3a\"],[0.8888888888888888,\"#fdca26\"],[1.0,\"#f0f921\"]]}],\"mesh3d\":[{\"type\":\"mesh3d\",\"colorbar\":{\"outlinewidth\":0,\"ticks\":\"\"}}],\"scatter\":[{\"fillpattern\":{\"fillmode\":\"overlay\",\"size\":10,\"solidity\":0.2},\"type\":\"scatter\"}],\"parcoords\":[{\"type\":\"parcoords\",\"line\":{\"colorbar\":{\"outlinewidth\":0,\"ticks\":\"\"}}}],\"scatterpolargl\":[{\"type\":\"scatterpolargl\",\"marker\":{\"colorbar\":{\"outlinewidth\":0,\"ticks\":\"\"}}}],\"bar\":[{\"error_x\":{\"color\":\"#2a3f5f\"},\"error_y\":{\"color\":\"#2a3f5f\"},\"marker\":{\"line\":{\"color\":\"#E5ECF6\",\"width\":0.5},\"pattern\":{\"fillmode\":\"overlay\",\"size\":10,\"solidity\":0.2}},\"type\":\"bar\"}],\"scattergeo\":[{\"type\":\"scattergeo\",\"marker\":{\"colorbar\":{\"outlinewidth\":0,\"ticks\":\"\"}}}],\"scatterpolar\":[{\"type\":\"scatterpolar\",\"marker\":{\"colorbar\":{\"outlinewidth\":0,\"ticks\":\"\"}}}],\"histogram\":[{\"marker\":{\"pattern\":{\"fillmode\":\"overlay\",\"size\":10,\"solidity\":0.2}},\"type\":\"histogram\"}],\"scattergl\":[{\"type\":\"scattergl\",\"marker\":{\"colorbar\":{\"outlinewidth\":0,\"ticks\":\"\"}}}],\"scatter3d\":[{\"type\":\"scatter3d\",\"line\":{\"colorbar\":{\"outlinewidth\":0,\"ticks\":\"\"}},\"marker\":{\"colorbar\":{\"outlinewidth\":0,\"ticks\":\"\"}}}],\"scattermapbox\":[{\"type\":\"scattermapbox\",\"marker\":{\"colorbar\":{\"outlinewidth\":0,\"ticks\":\"\"}}}],\"scatterternary\":[{\"type\":\"scatterternary\",\"marker\":{\"colorbar\":{\"outlinewidth\":0,\"ticks\":\"\"}}}],\"scattercarpet\":[{\"type\":\"scattercarpet\",\"marker\":{\"colorbar\":{\"outlinewidth\":0,\"ticks\":\"\"}}}],\"carpet\":[{\"aaxis\":{\"endlinecolor\":\"#2a3f5f\",\"gridcolor\":\"white\",\"linecolor\":\"white\",\"minorgridcolor\":\"white\",\"startlinecolor\":\"#2a3f5f\"},\"baxis\":{\"endlinecolor\":\"#2a3f5f\",\"gridcolor\":\"white\",\"linecolor\":\"white\",\"minorgridcolor\":\"white\",\"startlinecolor\":\"#2a3f5f\"},\"type\":\"carpet\"}],\"table\":[{\"cells\":{\"fill\":{\"color\":\"#EBF0F8\"},\"line\":{\"color\":\"white\"}},\"header\":{\"fill\":{\"color\":\"#C8D4E3\"},\"line\":{\"color\":\"white\"}},\"type\":\"table\"}],\"barpolar\":[{\"marker\":{\"line\":{\"color\":\"#E5ECF6\",\"width\":0.5},\"pattern\":{\"fillmode\":\"overlay\",\"size\":10,\"solidity\":0.2}},\"type\":\"barpolar\"}],\"pie\":[{\"automargin\":true,\"type\":\"pie\"}]},\"layout\":{\"autotypenumbers\":\"strict\",\"colorway\":[\"#636efa\",\"#EF553B\",\"#00cc96\",\"#ab63fa\",\"#FFA15A\",\"#19d3f3\",\"#FF6692\",\"#B6E880\",\"#FF97FF\",\"#FECB52\"],\"font\":{\"color\":\"#2a3f5f\"},\"hovermode\":\"closest\",\"hoverlabel\":{\"align\":\"left\"},\"paper_bgcolor\":\"white\",\"plot_bgcolor\":\"#E5ECF6\",\"polar\":{\"bgcolor\":\"#E5ECF6\",\"angularaxis\":{\"gridcolor\":\"white\",\"linecolor\":\"white\",\"ticks\":\"\"},\"radialaxis\":{\"gridcolor\":\"white\",\"linecolor\":\"white\",\"ticks\":\"\"}},\"ternary\":{\"bgcolor\":\"#E5ECF6\",\"aaxis\":{\"gridcolor\":\"white\",\"linecolor\":\"white\",\"ticks\":\"\"},\"baxis\":{\"gridcolor\":\"white\",\"linecolor\":\"white\",\"ticks\":\"\"},\"caxis\":{\"gridcolor\":\"white\",\"linecolor\":\"white\",\"ticks\":\"\"}},\"coloraxis\":{\"colorbar\":{\"outlinewidth\":0,\"ticks\":\"\"}},\"colorscale\":{\"sequential\":[[0.0,\"#0d0887\"],[0.1111111111111111,\"#46039f\"],[0.2222222222222222,\"#7201a8\"],[0.3333333333333333,\"#9c179e\"],[0.4444444444444444,\"#bd3786\"],[0.5555555555555556,\"#d8576b\"],[0.6666666666666666,\"#ed7953\"],[0.7777777777777778,\"#fb9f3a\"],[0.8888888888888888,\"#fdca26\"],[1.0,\"#f0f921\"]],\"sequentialminus\":[[0.0,\"#0d0887\"],[0.1111111111111111,\"#46039f\"],[0.2222222222222222,\"#7201a8\"],[0.3333333333333333,\"#9c179e\"],[0.4444444444444444,\"#bd3786\"],[0.5555555555555556,\"#d8576b\"],[0.6666666666666666,\"#ed7953\"],[0.7777777777777778,\"#fb9f3a\"],[0.8888888888888888,\"#fdca26\"],[1.0,\"#f0f921\"]],\"diverging\":[[0,\"#8e0152\"],[0.1,\"#c51b7d\"],[0.2,\"#de77ae\"],[0.3,\"#f1b6da\"],[0.4,\"#fde0ef\"],[0.5,\"#f7f7f7\"],[0.6,\"#e6f5d0\"],[0.7,\"#b8e186\"],[0.8,\"#7fbc41\"],[0.9,\"#4d9221\"],[1,\"#276419\"]]},\"xaxis\":{\"gridcolor\":\"white\",\"linecolor\":\"white\",\"ticks\":\"\",\"title\":{\"standoff\":15},\"zerolinecolor\":\"white\",\"automargin\":true,\"zerolinewidth\":2},\"yaxis\":{\"gridcolor\":\"white\",\"linecolor\":\"white\",\"ticks\":\"\",\"title\":{\"standoff\":15},\"zerolinecolor\":\"white\",\"automargin\":true,\"zerolinewidth\":2},\"scene\":{\"xaxis\":{\"backgroundcolor\":\"#E5ECF6\",\"gridcolor\":\"white\",\"linecolor\":\"white\",\"showbackground\":true,\"ticks\":\"\",\"zerolinecolor\":\"white\",\"gridwidth\":2},\"yaxis\":{\"backgroundcolor\":\"#E5ECF6\",\"gridcolor\":\"white\",\"linecolor\":\"white\",\"showbackground\":true,\"ticks\":\"\",\"zerolinecolor\":\"white\",\"gridwidth\":2},\"zaxis\":{\"backgroundcolor\":\"#E5ECF6\",\"gridcolor\":\"white\",\"linecolor\":\"white\",\"showbackground\":true,\"ticks\":\"\",\"zerolinecolor\":\"white\",\"gridwidth\":2}},\"shapedefaults\":{\"line\":{\"color\":\"#2a3f5f\"}},\"annotationdefaults\":{\"arrowcolor\":\"#2a3f5f\",\"arrowhead\":0,\"arrowwidth\":1},\"geo\":{\"bgcolor\":\"white\",\"landcolor\":\"#E5ECF6\",\"subunitcolor\":\"white\",\"showland\":true,\"showlakes\":true,\"lakecolor\":\"white\"},\"title\":{\"x\":0.05},\"mapbox\":{\"style\":\"light\"}}},\"xaxis\":{\"type\":\"category\"}},                        {\"responsive\": true}                    ).then(function(){\n",
       "                            \n",
       "var gd = document.getElementById('c77bcdcf-e01f-4a46-9c97-77e651647c4b');\n",
       "var x = new MutationObserver(function (mutations, observer) {{\n",
       "        var display = window.getComputedStyle(gd).display;\n",
       "        if (!display || display === 'none') {{\n",
       "            console.log([gd, 'removed!']);\n",
       "            Plotly.purge(gd);\n",
       "            observer.disconnect();\n",
       "        }}\n",
       "}});\n",
       "\n",
       "// Listen for the removal of the full notebook cells\n",
       "var notebookContainer = gd.closest('#notebook-container');\n",
       "if (notebookContainer) {{\n",
       "    x.observe(notebookContainer, {childList: true});\n",
       "}}\n",
       "\n",
       "// Listen for the clearing of the current output cell\n",
       "var outputEl = gd.closest('.output');\n",
       "if (outputEl) {{\n",
       "    x.observe(outputEl, {childList: true});\n",
       "}}\n",
       "\n",
       "                        })                };                });            </script>        </div>"
      ]
     },
     "metadata": {},
     "output_type": "display_data"
    }
   ],
   "source": [
    "df = script_data.main_var\n",
    "indicator = indicator1(df,5)\n",
    "\n",
    "chart_data = go.Candlestick(x=timestamps, open=df['open'], high=df['high'], low=df['low'], close=df['close'],name=\"Historical Data\")\n",
    "fig = go.Figure(data=[chart_data])\n",
    "ema= go.Scatter(x=timestamps, y=indicator['indicator'], mode='lines', name='SMA')\n",
    "fig.layout.xaxis.type = 'category'\n",
    "fig.add_trace(ema)\n",
    "fig.show()\n",
    "\n",
    "\n"
   ]
  },
  {
   "cell_type": "code",
   "execution_count": 416,
   "id": "f3a257d5",
   "metadata": {},
   "outputs": [],
   "source": [
    "# from pyalgotrading.constants import PlotType\n",
    "\n",
    "\n",
    "# from pyalgotrading.utils import func\n",
    "\n",
    "# new_indicator = indicator\n",
    "\n",
    "# new_indicator['data'] = new_indicator['indicator']\n",
    "# func.plot_candlestick_chart(df,PlotType.JAPANESE,hide_missing_dates= True)"
   ]
  },
  {
   "cell_type": "code",
   "execution_count": 417,
   "id": "e0040b8f",
   "metadata": {},
   "outputs": [],
   "source": [
    "# print(new_indicator)"
   ]
  },
  {
   "cell_type": "code",
   "execution_count": null,
   "id": "9fb1a787",
   "metadata": {},
   "outputs": [],
   "source": []
  }
 ],
 "metadata": {
  "kernelspec": {
   "display_name": "Python 3",
   "language": "python",
   "name": "python3"
  },
  "language_info": {
   "codemirror_mode": {
    "name": "ipython",
    "version": 3
   },
   "file_extension": ".py",
   "mimetype": "text/x-python",
   "name": "python",
   "nbconvert_exporter": "python",
   "pygments_lexer": "ipython3",
   "version": "3.8.8"
  }
 },
 "nbformat": 4,
 "nbformat_minor": 5
}
